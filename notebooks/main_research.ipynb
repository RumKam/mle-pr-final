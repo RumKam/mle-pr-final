{
 "cells": [
  {
   "cell_type": "markdown",
   "metadata": {},
   "source": [
    "## Загрузка и обзор данных"
   ]
  },
  {
   "cell_type": "code",
   "execution_count": 3,
   "metadata": {},
   "outputs": [],
   "source": [
    "import matplotlib.pyplot as plt\n",
    "import numpy as np\n",
    "import pandas as pd\n",
    "import seaborn as sns\n",
    "import sklearn.preprocessing\n",
    "import joblib\n",
    "import scipy\n",
    "import mlflow\n",
    "from implicit.als import AlternatingLeastSquares\n",
    "import psycopg\n",
    "import psycopg2 as psycopg\n",
    "import os\n",
    "\n",
    "from catboost import CatBoostClassifier, Pool\n",
    "from sklearn.preprocessing import MinMaxScaler\n",
    "from pandas.tseries.offsets import MonthEnd\n",
    "\n",
    "import warnings\n",
    "warnings.filterwarnings(\"ignore\")"
   ]
  },
  {
   "cell_type": "code",
   "execution_count": 123,
   "metadata": {},
   "outputs": [],
   "source": [
    "RANDOM_STATE = 42\n",
    "# Пути и названия файлов заданы в виде параметров\n",
    "PATH_DATA = '../data'\n",
    "\n",
    "PATH_MODELS = '../models'\n",
    "MODEL_FILE = 'cb_model.pkl'\n",
    "\n",
    "ASSETS_DIR = '../data/asserts'\n",
    "\n",
    "TRACKING_SERVER_HOST = \"127.0.0.1\"\n",
    "TRACKING_SERVER_PORT = 5000\n",
    "\n",
    "EXPERIMENT_NAME = 'pr_final_#2'\n",
    "REGISTRY_MODEL_NAME = \"ranking_model\""
   ]
  },
  {
   "cell_type": "code",
   "execution_count": 5,
   "metadata": {},
   "outputs": [],
   "source": [
    "# Загрузим первый датасет\n",
    "category_tree = pd.read_csv(f'{PATH_DATA}/category_tree.csv')"
   ]
  },
  {
   "cell_type": "code",
   "execution_count": 6,
   "metadata": {},
   "outputs": [
    {
     "data": {
      "text/html": [
       "<div>\n",
       "<style scoped>\n",
       "    .dataframe tbody tr th:only-of-type {\n",
       "        vertical-align: middle;\n",
       "    }\n",
       "\n",
       "    .dataframe tbody tr th {\n",
       "        vertical-align: top;\n",
       "    }\n",
       "\n",
       "    .dataframe thead th {\n",
       "        text-align: right;\n",
       "    }\n",
       "</style>\n",
       "<table border=\"1\" class=\"dataframe\">\n",
       "  <thead>\n",
       "    <tr style=\"text-align: right;\">\n",
       "      <th></th>\n",
       "      <th>categoryid</th>\n",
       "      <th>parentid</th>\n",
       "    </tr>\n",
       "  </thead>\n",
       "  <tbody>\n",
       "    <tr>\n",
       "      <th>0</th>\n",
       "      <td>1016</td>\n",
       "      <td>213.0</td>\n",
       "    </tr>\n",
       "    <tr>\n",
       "      <th>1</th>\n",
       "      <td>809</td>\n",
       "      <td>169.0</td>\n",
       "    </tr>\n",
       "    <tr>\n",
       "      <th>2</th>\n",
       "      <td>570</td>\n",
       "      <td>9.0</td>\n",
       "    </tr>\n",
       "  </tbody>\n",
       "</table>\n",
       "</div>"
      ],
      "text/plain": [
       "   categoryid  parentid\n",
       "0        1016     213.0\n",
       "1         809     169.0\n",
       "2         570       9.0"
      ]
     },
     "execution_count": 6,
     "metadata": {},
     "output_type": "execute_result"
    }
   ],
   "source": [
    "# Выведем несколько строк\n",
    "category_tree.head(3)"
   ]
  },
  {
   "cell_type": "code",
   "execution_count": 7,
   "metadata": {},
   "outputs": [
    {
     "name": "stdout",
     "output_type": "stream",
     "text": [
      "<class 'pandas.core.frame.DataFrame'>\n",
      "RangeIndex: 1669 entries, 0 to 1668\n",
      "Data columns (total 2 columns):\n",
      " #   Column      Non-Null Count  Dtype  \n",
      "---  ------      --------------  -----  \n",
      " 0   categoryid  1669 non-null   int64  \n",
      " 1   parentid    1644 non-null   float64\n",
      "dtypes: float64(1), int64(1)\n",
      "memory usage: 26.2 KB\n"
     ]
    }
   ],
   "source": [
    "# Выведем типы данных\n",
    "category_tree.info()"
   ]
  },
  {
   "cell_type": "markdown",
   "metadata": {},
   "source": [
    "Датасет содержит два столбца: parentid - родительская категория и categoryid - дочерняя категория, которые представляют собой численные значения. Стобец parentid содержит пропуски."
   ]
  },
  {
   "cell_type": "code",
   "execution_count": 5,
   "metadata": {},
   "outputs": [
    {
     "data": {
      "text/html": [
       "<div>\n",
       "<style scoped>\n",
       "    .dataframe tbody tr th:only-of-type {\n",
       "        vertical-align: middle;\n",
       "    }\n",
       "\n",
       "    .dataframe tbody tr th {\n",
       "        vertical-align: top;\n",
       "    }\n",
       "\n",
       "    .dataframe thead th {\n",
       "        text-align: right;\n",
       "    }\n",
       "</style>\n",
       "<table border=\"1\" class=\"dataframe\">\n",
       "  <thead>\n",
       "    <tr style=\"text-align: right;\">\n",
       "      <th></th>\n",
       "      <th>parentid</th>\n",
       "      <th>categoryid</th>\n",
       "    </tr>\n",
       "  </thead>\n",
       "  <tbody>\n",
       "    <tr>\n",
       "      <th>352</th>\n",
       "      <td>1671.0</td>\n",
       "      <td>1</td>\n",
       "    </tr>\n",
       "    <tr>\n",
       "      <th>349</th>\n",
       "      <td>1661.0</td>\n",
       "      <td>1</td>\n",
       "    </tr>\n",
       "    <tr>\n",
       "      <th>37</th>\n",
       "      <td>157.0</td>\n",
       "      <td>1</td>\n",
       "    </tr>\n",
       "    <tr>\n",
       "      <th>291</th>\n",
       "      <td>1394.0</td>\n",
       "      <td>1</td>\n",
       "    </tr>\n",
       "    <tr>\n",
       "      <th>294</th>\n",
       "      <td>1401.0</td>\n",
       "      <td>1</td>\n",
       "    </tr>\n",
       "    <tr>\n",
       "      <th>...</th>\n",
       "      <td>...</td>\n",
       "      <td>...</td>\n",
       "    </tr>\n",
       "    <tr>\n",
       "      <th>264</th>\n",
       "      <td>1259.0</td>\n",
       "      <td>18</td>\n",
       "    </tr>\n",
       "    <tr>\n",
       "      <th>77</th>\n",
       "      <td>351.0</td>\n",
       "      <td>19</td>\n",
       "    </tr>\n",
       "    <tr>\n",
       "      <th>215</th>\n",
       "      <td>1009.0</td>\n",
       "      <td>22</td>\n",
       "    </tr>\n",
       "    <tr>\n",
       "      <th>79</th>\n",
       "      <td>362.0</td>\n",
       "      <td>22</td>\n",
       "    </tr>\n",
       "    <tr>\n",
       "      <th>58</th>\n",
       "      <td>250.0</td>\n",
       "      <td>31</td>\n",
       "    </tr>\n",
       "  </tbody>\n",
       "</table>\n",
       "<p>362 rows × 2 columns</p>\n",
       "</div>"
      ],
      "text/plain": [
       "     parentid  categoryid\n",
       "352    1671.0           1\n",
       "349    1661.0           1\n",
       "37      157.0           1\n",
       "291    1394.0           1\n",
       "294    1401.0           1\n",
       "..        ...         ...\n",
       "264    1259.0          18\n",
       "77      351.0          19\n",
       "215    1009.0          22\n",
       "79      362.0          22\n",
       "58      250.0          31\n",
       "\n",
       "[362 rows x 2 columns]"
      ]
     },
     "execution_count": 5,
     "metadata": {},
     "output_type": "execute_result"
    }
   ],
   "source": [
    "# Посмотрим сгруппированный вариант данных\n",
    "category_tree.groupby('parentid')['categoryid'].count().reset_index().sort_values('categoryid')"
   ]
  },
  {
   "cell_type": "markdown",
   "metadata": {},
   "source": [
    "Каждому parentid может соотвествовать несколько categoryid."
   ]
  },
  {
   "cell_type": "code",
   "execution_count": 6,
   "metadata": {},
   "outputs": [
    {
     "data": {
      "text/html": [
       "<div>\n",
       "<style scoped>\n",
       "    .dataframe tbody tr th:only-of-type {\n",
       "        vertical-align: middle;\n",
       "    }\n",
       "\n",
       "    .dataframe tbody tr th {\n",
       "        vertical-align: top;\n",
       "    }\n",
       "\n",
       "    .dataframe thead th {\n",
       "        text-align: right;\n",
       "    }\n",
       "</style>\n",
       "<table border=\"1\" class=\"dataframe\">\n",
       "  <thead>\n",
       "    <tr style=\"text-align: right;\">\n",
       "      <th></th>\n",
       "      <th>categoryid</th>\n",
       "      <th>parentid</th>\n",
       "    </tr>\n",
       "  </thead>\n",
       "  <tbody>\n",
       "    <tr>\n",
       "      <th>1668</th>\n",
       "      <td>1698</td>\n",
       "      <td>0</td>\n",
       "    </tr>\n",
       "    <tr>\n",
       "      <th>1571</th>\n",
       "      <td>1600</td>\n",
       "      <td>0</td>\n",
       "    </tr>\n",
       "    <tr>\n",
       "      <th>1552</th>\n",
       "      <td>1579</td>\n",
       "      <td>0</td>\n",
       "    </tr>\n",
       "    <tr>\n",
       "      <th>1507</th>\n",
       "      <td>1532</td>\n",
       "      <td>0</td>\n",
       "    </tr>\n",
       "    <tr>\n",
       "      <th>1457</th>\n",
       "      <td>1482</td>\n",
       "      <td>0</td>\n",
       "    </tr>\n",
       "    <tr>\n",
       "      <th>...</th>\n",
       "      <td>...</td>\n",
       "      <td>...</td>\n",
       "    </tr>\n",
       "    <tr>\n",
       "      <th>40</th>\n",
       "      <td>40</td>\n",
       "      <td>1</td>\n",
       "    </tr>\n",
       "    <tr>\n",
       "      <th>1666</th>\n",
       "      <td>1696</td>\n",
       "      <td>1</td>\n",
       "    </tr>\n",
       "    <tr>\n",
       "      <th>1667</th>\n",
       "      <td>1697</td>\n",
       "      <td>1</td>\n",
       "    </tr>\n",
       "    <tr>\n",
       "      <th>1</th>\n",
       "      <td>1</td>\n",
       "      <td>1</td>\n",
       "    </tr>\n",
       "    <tr>\n",
       "      <th>0</th>\n",
       "      <td>0</td>\n",
       "      <td>1</td>\n",
       "    </tr>\n",
       "  </tbody>\n",
       "</table>\n",
       "<p>1669 rows × 2 columns</p>\n",
       "</div>"
      ],
      "text/plain": [
       "      categoryid  parentid\n",
       "1668        1698         0\n",
       "1571        1600         0\n",
       "1552        1579         0\n",
       "1507        1532         0\n",
       "1457        1482         0\n",
       "...          ...       ...\n",
       "40            40         1\n",
       "1666        1696         1\n",
       "1667        1697         1\n",
       "1              1         1\n",
       "0              0         1\n",
       "\n",
       "[1669 rows x 2 columns]"
      ]
     },
     "execution_count": 6,
     "metadata": {},
     "output_type": "execute_result"
    }
   ],
   "source": [
    "# Посмотрим сгруппированный вариант данных\n",
    "category_tree.groupby('categoryid')['parentid'].count().reset_index().sort_values('parentid')"
   ]
  },
  {
   "cell_type": "markdown",
   "metadata": {},
   "source": [
    "Для каждого categoryid существует единственный parentid."
   ]
  },
  {
   "cell_type": "code",
   "execution_count": 7,
   "metadata": {},
   "outputs": [
    {
     "data": {
      "text/html": [
       "<div>\n",
       "<style scoped>\n",
       "    .dataframe tbody tr th:only-of-type {\n",
       "        vertical-align: middle;\n",
       "    }\n",
       "\n",
       "    .dataframe tbody tr th {\n",
       "        vertical-align: top;\n",
       "    }\n",
       "\n",
       "    .dataframe thead th {\n",
       "        text-align: right;\n",
       "    }\n",
       "</style>\n",
       "<table border=\"1\" class=\"dataframe\">\n",
       "  <thead>\n",
       "    <tr style=\"text-align: right;\">\n",
       "      <th></th>\n",
       "      <th>categoryid</th>\n",
       "      <th>parentid</th>\n",
       "    </tr>\n",
       "  </thead>\n",
       "  <tbody>\n",
       "    <tr>\n",
       "      <th>5</th>\n",
       "      <td>231</td>\n",
       "      <td>NaN</td>\n",
       "    </tr>\n",
       "    <tr>\n",
       "      <th>589</th>\n",
       "      <td>791</td>\n",
       "      <td>NaN</td>\n",
       "    </tr>\n",
       "    <tr>\n",
       "      <th>861</th>\n",
       "      <td>1490</td>\n",
       "      <td>NaN</td>\n",
       "    </tr>\n",
       "    <tr>\n",
       "      <th>939</th>\n",
       "      <td>431</td>\n",
       "      <td>NaN</td>\n",
       "    </tr>\n",
       "    <tr>\n",
       "      <th>1111</th>\n",
       "      <td>755</td>\n",
       "      <td>NaN</td>\n",
       "    </tr>\n",
       "    <tr>\n",
       "      <th>1142</th>\n",
       "      <td>378</td>\n",
       "      <td>NaN</td>\n",
       "    </tr>\n",
       "    <tr>\n",
       "      <th>1208</th>\n",
       "      <td>1579</td>\n",
       "      <td>NaN</td>\n",
       "    </tr>\n",
       "    <tr>\n",
       "      <th>1211</th>\n",
       "      <td>1394</td>\n",
       "      <td>NaN</td>\n",
       "    </tr>\n",
       "    <tr>\n",
       "      <th>1322</th>\n",
       "      <td>659</td>\n",
       "      <td>NaN</td>\n",
       "    </tr>\n",
       "    <tr>\n",
       "      <th>1329</th>\n",
       "      <td>1057</td>\n",
       "      <td>NaN</td>\n",
       "    </tr>\n",
       "    <tr>\n",
       "      <th>1375</th>\n",
       "      <td>859</td>\n",
       "      <td>NaN</td>\n",
       "    </tr>\n",
       "    <tr>\n",
       "      <th>1392</th>\n",
       "      <td>803</td>\n",
       "      <td>NaN</td>\n",
       "    </tr>\n",
       "    <tr>\n",
       "      <th>1395</th>\n",
       "      <td>250</td>\n",
       "      <td>NaN</td>\n",
       "    </tr>\n",
       "    <tr>\n",
       "      <th>1476</th>\n",
       "      <td>1452</td>\n",
       "      <td>NaN</td>\n",
       "    </tr>\n",
       "    <tr>\n",
       "      <th>1484</th>\n",
       "      <td>1182</td>\n",
       "      <td>NaN</td>\n",
       "    </tr>\n",
       "    <tr>\n",
       "      <th>1490</th>\n",
       "      <td>1692</td>\n",
       "      <td>NaN</td>\n",
       "    </tr>\n",
       "    <tr>\n",
       "      <th>1614</th>\n",
       "      <td>1600</td>\n",
       "      <td>NaN</td>\n",
       "    </tr>\n",
       "    <tr>\n",
       "      <th>1616</th>\n",
       "      <td>1482</td>\n",
       "      <td>NaN</td>\n",
       "    </tr>\n",
       "    <tr>\n",
       "      <th>1622</th>\n",
       "      <td>1224</td>\n",
       "      <td>NaN</td>\n",
       "    </tr>\n",
       "    <tr>\n",
       "      <th>1623</th>\n",
       "      <td>1532</td>\n",
       "      <td>NaN</td>\n",
       "    </tr>\n",
       "    <tr>\n",
       "      <th>1624</th>\n",
       "      <td>395</td>\n",
       "      <td>NaN</td>\n",
       "    </tr>\n",
       "    <tr>\n",
       "      <th>1628</th>\n",
       "      <td>653</td>\n",
       "      <td>NaN</td>\n",
       "    </tr>\n",
       "    <tr>\n",
       "      <th>1629</th>\n",
       "      <td>140</td>\n",
       "      <td>NaN</td>\n",
       "    </tr>\n",
       "    <tr>\n",
       "      <th>1650</th>\n",
       "      <td>1698</td>\n",
       "      <td>NaN</td>\n",
       "    </tr>\n",
       "    <tr>\n",
       "      <th>1657</th>\n",
       "      <td>679</td>\n",
       "      <td>NaN</td>\n",
       "    </tr>\n",
       "  </tbody>\n",
       "</table>\n",
       "</div>"
      ],
      "text/plain": [
       "      categoryid  parentid\n",
       "5            231       NaN\n",
       "589          791       NaN\n",
       "861         1490       NaN\n",
       "939          431       NaN\n",
       "1111         755       NaN\n",
       "1142         378       NaN\n",
       "1208        1579       NaN\n",
       "1211        1394       NaN\n",
       "1322         659       NaN\n",
       "1329        1057       NaN\n",
       "1375         859       NaN\n",
       "1392         803       NaN\n",
       "1395         250       NaN\n",
       "1476        1452       NaN\n",
       "1484        1182       NaN\n",
       "1490        1692       NaN\n",
       "1614        1600       NaN\n",
       "1616        1482       NaN\n",
       "1622        1224       NaN\n",
       "1623        1532       NaN\n",
       "1624         395       NaN\n",
       "1628         653       NaN\n",
       "1629         140       NaN\n",
       "1650        1698       NaN\n",
       "1657         679       NaN"
      ]
     },
     "execution_count": 7,
     "metadata": {},
     "output_type": "execute_result"
    }
   ],
   "source": [
    "# Посмотрим пропущенные значения\n",
    "category_tree[category_tree.isna().any(axis=1)]"
   ]
  },
  {
   "cell_type": "markdown",
   "metadata": {},
   "source": [
    "Для небольшого количества categoryid нет parentid. Можно заполнить пропуски 0 - заглушкой."
   ]
  },
  {
   "cell_type": "code",
   "execution_count": 8,
   "metadata": {},
   "outputs": [
    {
     "data": {
      "text/html": [
       "<div>\n",
       "<style scoped>\n",
       "    .dataframe tbody tr th:only-of-type {\n",
       "        vertical-align: middle;\n",
       "    }\n",
       "\n",
       "    .dataframe tbody tr th {\n",
       "        vertical-align: top;\n",
       "    }\n",
       "\n",
       "    .dataframe thead th {\n",
       "        text-align: right;\n",
       "    }\n",
       "</style>\n",
       "<table border=\"1\" class=\"dataframe\">\n",
       "  <thead>\n",
       "    <tr style=\"text-align: right;\">\n",
       "      <th></th>\n",
       "      <th>categoryid</th>\n",
       "      <th>parentid</th>\n",
       "    </tr>\n",
       "  </thead>\n",
       "  <tbody>\n",
       "  </tbody>\n",
       "</table>\n",
       "</div>"
      ],
      "text/plain": [
       "Empty DataFrame\n",
       "Columns: [categoryid, parentid]\n",
       "Index: []"
      ]
     },
     "execution_count": 8,
     "metadata": {},
     "output_type": "execute_result"
    }
   ],
   "source": [
    "# Проверим дубликаты\n",
    "category_tree[category_tree.duplicated()]"
   ]
  },
  {
   "cell_type": "markdown",
   "metadata": {},
   "source": [
    "Дублирующихся строк нет."
   ]
  },
  {
   "cell_type": "code",
   "execution_count": 8,
   "metadata": {},
   "outputs": [],
   "source": [
    "# Загрузим датасет в событиями\n",
    "events = pd.read_csv(f'{PATH_DATA}/events.csv')"
   ]
  },
  {
   "cell_type": "code",
   "execution_count": 10,
   "metadata": {},
   "outputs": [
    {
     "data": {
      "text/html": [
       "<div>\n",
       "<style scoped>\n",
       "    .dataframe tbody tr th:only-of-type {\n",
       "        vertical-align: middle;\n",
       "    }\n",
       "\n",
       "    .dataframe tbody tr th {\n",
       "        vertical-align: top;\n",
       "    }\n",
       "\n",
       "    .dataframe thead th {\n",
       "        text-align: right;\n",
       "    }\n",
       "</style>\n",
       "<table border=\"1\" class=\"dataframe\">\n",
       "  <thead>\n",
       "    <tr style=\"text-align: right;\">\n",
       "      <th></th>\n",
       "      <th>timestamp</th>\n",
       "      <th>visitorid</th>\n",
       "      <th>event</th>\n",
       "      <th>itemid</th>\n",
       "      <th>transactionid</th>\n",
       "    </tr>\n",
       "  </thead>\n",
       "  <tbody>\n",
       "    <tr>\n",
       "      <th>0</th>\n",
       "      <td>1433221332117</td>\n",
       "      <td>257597</td>\n",
       "      <td>view</td>\n",
       "      <td>355908</td>\n",
       "      <td>NaN</td>\n",
       "    </tr>\n",
       "    <tr>\n",
       "      <th>1</th>\n",
       "      <td>1433224214164</td>\n",
       "      <td>992329</td>\n",
       "      <td>view</td>\n",
       "      <td>248676</td>\n",
       "      <td>NaN</td>\n",
       "    </tr>\n",
       "    <tr>\n",
       "      <th>2</th>\n",
       "      <td>1433221999827</td>\n",
       "      <td>111016</td>\n",
       "      <td>view</td>\n",
       "      <td>318965</td>\n",
       "      <td>NaN</td>\n",
       "    </tr>\n",
       "  </tbody>\n",
       "</table>\n",
       "</div>"
      ],
      "text/plain": [
       "       timestamp  visitorid event  itemid  transactionid\n",
       "0  1433221332117     257597  view  355908            NaN\n",
       "1  1433224214164     992329  view  248676            NaN\n",
       "2  1433221999827     111016  view  318965            NaN"
      ]
     },
     "execution_count": 10,
     "metadata": {},
     "output_type": "execute_result"
    }
   ],
   "source": [
    "# Выведем несколько строк\n",
    "events.head(3)"
   ]
  },
  {
   "cell_type": "code",
   "execution_count": 11,
   "metadata": {},
   "outputs": [
    {
     "name": "stdout",
     "output_type": "stream",
     "text": [
      "<class 'pandas.core.frame.DataFrame'>\n",
      "RangeIndex: 2756101 entries, 0 to 2756100\n",
      "Data columns (total 5 columns):\n",
      " #   Column         Dtype  \n",
      "---  ------         -----  \n",
      " 0   timestamp      int64  \n",
      " 1   visitorid      int64  \n",
      " 2   event          object \n",
      " 3   itemid         int64  \n",
      " 4   transactionid  float64\n",
      "dtypes: float64(1), int64(3), object(1)\n",
      "memory usage: 105.1+ MB\n"
     ]
    }
   ],
   "source": [
    "# Посмотрим на типы данных\n",
    "events.info()"
   ]
  },
  {
   "cell_type": "markdown",
   "metadata": {},
   "source": [
    "Датасет предствляет собой таблицу с логом событий. В ней содержатся как числовые, так и текстовые столбцы: timestamp — временная метка события visitorid — идентификатор пользователя, event — событие (просмотр, добавление в корзину, покупка - текстовые данные), itemid — идентификатор товара, transactionid — идентификатор транзакции (покупки)."
   ]
  },
  {
   "cell_type": "code",
   "execution_count": 12,
   "metadata": {},
   "outputs": [
    {
     "name": "stdout",
     "output_type": "stream",
     "text": [
      "1430622004384\n",
      "1442545187788\n"
     ]
    }
   ],
   "source": [
    "# Посмотрим на данные с временными метками\n",
    "print(events['timestamp'].min())\n",
    "print(events['timestamp'].max())"
   ]
  },
  {
   "cell_type": "markdown",
   "metadata": {},
   "source": [
    "Похоже, что в столбце 'timestamp' содержатся временные метки в миллисекундах с начала эпохи Unix (1 января 1970 года). Необходимо их преобразовать."
   ]
  },
  {
   "cell_type": "code",
   "execution_count": 13,
   "metadata": {},
   "outputs": [
    {
     "data": {
      "text/html": [
       "<div>\n",
       "<style scoped>\n",
       "    .dataframe tbody tr th:only-of-type {\n",
       "        vertical-align: middle;\n",
       "    }\n",
       "\n",
       "    .dataframe tbody tr th {\n",
       "        vertical-align: top;\n",
       "    }\n",
       "\n",
       "    .dataframe thead th {\n",
       "        text-align: right;\n",
       "    }\n",
       "</style>\n",
       "<table border=\"1\" class=\"dataframe\">\n",
       "  <thead>\n",
       "    <tr style=\"text-align: right;\">\n",
       "      <th></th>\n",
       "      <th>timestamp</th>\n",
       "      <th>visitorid</th>\n",
       "      <th>event</th>\n",
       "      <th>itemid</th>\n",
       "      <th>transactionid</th>\n",
       "    </tr>\n",
       "  </thead>\n",
       "  <tbody>\n",
       "    <tr>\n",
       "      <th>22404</th>\n",
       "      <td>1433180781440</td>\n",
       "      <td>1045411</td>\n",
       "      <td>addtocart</td>\n",
       "      <td>379647</td>\n",
       "      <td>NaN</td>\n",
       "    </tr>\n",
       "    <tr>\n",
       "      <th>34465</th>\n",
       "      <td>1433274223925</td>\n",
       "      <td>366538</td>\n",
       "      <td>addtocart</td>\n",
       "      <td>252068</td>\n",
       "      <td>NaN</td>\n",
       "    </tr>\n",
       "    <tr>\n",
       "      <th>39738</th>\n",
       "      <td>1433265100661</td>\n",
       "      <td>198153</td>\n",
       "      <td>addtocart</td>\n",
       "      <td>48715</td>\n",
       "      <td>NaN</td>\n",
       "    </tr>\n",
       "    <tr>\n",
       "      <th>41774</th>\n",
       "      <td>1433270868154</td>\n",
       "      <td>1268755</td>\n",
       "      <td>view</td>\n",
       "      <td>60980</td>\n",
       "      <td>NaN</td>\n",
       "    </tr>\n",
       "    <tr>\n",
       "      <th>42469</th>\n",
       "      <td>1433277134682</td>\n",
       "      <td>555487</td>\n",
       "      <td>addtocart</td>\n",
       "      <td>397642</td>\n",
       "      <td>NaN</td>\n",
       "    </tr>\n",
       "    <tr>\n",
       "      <th>...</th>\n",
       "      <td>...</td>\n",
       "      <td>...</td>\n",
       "      <td>...</td>\n",
       "      <td>...</td>\n",
       "      <td>...</td>\n",
       "    </tr>\n",
       "    <tr>\n",
       "      <th>2748964</th>\n",
       "      <td>1438346018813</td>\n",
       "      <td>722488</td>\n",
       "      <td>view</td>\n",
       "      <td>97303</td>\n",
       "      <td>NaN</td>\n",
       "    </tr>\n",
       "    <tr>\n",
       "      <th>2750464</th>\n",
       "      <td>1438370523152</td>\n",
       "      <td>896869</td>\n",
       "      <td>addtocart</td>\n",
       "      <td>85004</td>\n",
       "      <td>NaN</td>\n",
       "    </tr>\n",
       "    <tr>\n",
       "      <th>2752725</th>\n",
       "      <td>1438405570135</td>\n",
       "      <td>708442</td>\n",
       "      <td>addtocart</td>\n",
       "      <td>392883</td>\n",
       "      <td>NaN</td>\n",
       "    </tr>\n",
       "    <tr>\n",
       "      <th>2753763</th>\n",
       "      <td>1438376127329</td>\n",
       "      <td>372829</td>\n",
       "      <td>addtocart</td>\n",
       "      <td>388276</td>\n",
       "      <td>NaN</td>\n",
       "    </tr>\n",
       "    <tr>\n",
       "      <th>2755356</th>\n",
       "      <td>1438378507708</td>\n",
       "      <td>415611</td>\n",
       "      <td>addtocart</td>\n",
       "      <td>177728</td>\n",
       "      <td>NaN</td>\n",
       "    </tr>\n",
       "  </tbody>\n",
       "</table>\n",
       "<p>460 rows × 5 columns</p>\n",
       "</div>"
      ],
      "text/plain": [
       "             timestamp  visitorid      event  itemid  transactionid\n",
       "22404    1433180781440    1045411  addtocart  379647            NaN\n",
       "34465    1433274223925     366538  addtocart  252068            NaN\n",
       "39738    1433265100661     198153  addtocart   48715            NaN\n",
       "41774    1433270868154    1268755       view   60980            NaN\n",
       "42469    1433277134682     555487  addtocart  397642            NaN\n",
       "...                ...        ...        ...     ...            ...\n",
       "2748964  1438346018813     722488       view   97303            NaN\n",
       "2750464  1438370523152     896869  addtocart   85004            NaN\n",
       "2752725  1438405570135     708442  addtocart  392883            NaN\n",
       "2753763  1438376127329     372829  addtocart  388276            NaN\n",
       "2755356  1438378507708     415611  addtocart  177728            NaN\n",
       "\n",
       "[460 rows x 5 columns]"
      ]
     },
     "execution_count": 13,
     "metadata": {},
     "output_type": "execute_result"
    }
   ],
   "source": [
    "# Проверим дубликаты\n",
    "events[events.duplicated()]"
   ]
  },
  {
   "cell_type": "markdown",
   "metadata": {},
   "source": [
    "Дублтрующиеся строки можно удалить, поскольку повторение действий пользователем в одно и то же время маловероятно технически. В этом случае дубли - ошибка в данных."
   ]
  },
  {
   "cell_type": "code",
   "execution_count": 14,
   "metadata": {},
   "outputs": [
    {
     "data": {
      "text/html": [
       "<div>\n",
       "<style scoped>\n",
       "    .dataframe tbody tr th:only-of-type {\n",
       "        vertical-align: middle;\n",
       "    }\n",
       "\n",
       "    .dataframe tbody tr th {\n",
       "        vertical-align: top;\n",
       "    }\n",
       "\n",
       "    .dataframe thead th {\n",
       "        text-align: right;\n",
       "    }\n",
       "</style>\n",
       "<table border=\"1\" class=\"dataframe\">\n",
       "  <thead>\n",
       "    <tr style=\"text-align: right;\">\n",
       "      <th></th>\n",
       "      <th>timestamp</th>\n",
       "      <th>visitorid</th>\n",
       "      <th>event</th>\n",
       "      <th>itemid</th>\n",
       "      <th>transactionid</th>\n",
       "    </tr>\n",
       "  </thead>\n",
       "  <tbody>\n",
       "    <tr>\n",
       "      <th>0</th>\n",
       "      <td>1433221332117</td>\n",
       "      <td>257597</td>\n",
       "      <td>view</td>\n",
       "      <td>355908</td>\n",
       "      <td>NaN</td>\n",
       "    </tr>\n",
       "    <tr>\n",
       "      <th>1</th>\n",
       "      <td>1433224214164</td>\n",
       "      <td>992329</td>\n",
       "      <td>view</td>\n",
       "      <td>248676</td>\n",
       "      <td>NaN</td>\n",
       "    </tr>\n",
       "    <tr>\n",
       "      <th>2</th>\n",
       "      <td>1433221999827</td>\n",
       "      <td>111016</td>\n",
       "      <td>view</td>\n",
       "      <td>318965</td>\n",
       "      <td>NaN</td>\n",
       "    </tr>\n",
       "    <tr>\n",
       "      <th>3</th>\n",
       "      <td>1433221955914</td>\n",
       "      <td>483717</td>\n",
       "      <td>view</td>\n",
       "      <td>253185</td>\n",
       "      <td>NaN</td>\n",
       "    </tr>\n",
       "    <tr>\n",
       "      <th>4</th>\n",
       "      <td>1433221337106</td>\n",
       "      <td>951259</td>\n",
       "      <td>view</td>\n",
       "      <td>367447</td>\n",
       "      <td>NaN</td>\n",
       "    </tr>\n",
       "    <tr>\n",
       "      <th>...</th>\n",
       "      <td>...</td>\n",
       "      <td>...</td>\n",
       "      <td>...</td>\n",
       "      <td>...</td>\n",
       "      <td>...</td>\n",
       "    </tr>\n",
       "    <tr>\n",
       "      <th>2756096</th>\n",
       "      <td>1438398785939</td>\n",
       "      <td>591435</td>\n",
       "      <td>view</td>\n",
       "      <td>261427</td>\n",
       "      <td>NaN</td>\n",
       "    </tr>\n",
       "    <tr>\n",
       "      <th>2756097</th>\n",
       "      <td>1438399813142</td>\n",
       "      <td>762376</td>\n",
       "      <td>view</td>\n",
       "      <td>115946</td>\n",
       "      <td>NaN</td>\n",
       "    </tr>\n",
       "    <tr>\n",
       "      <th>2756098</th>\n",
       "      <td>1438397820527</td>\n",
       "      <td>1251746</td>\n",
       "      <td>view</td>\n",
       "      <td>78144</td>\n",
       "      <td>NaN</td>\n",
       "    </tr>\n",
       "    <tr>\n",
       "      <th>2756099</th>\n",
       "      <td>1438398530703</td>\n",
       "      <td>1184451</td>\n",
       "      <td>view</td>\n",
       "      <td>283392</td>\n",
       "      <td>NaN</td>\n",
       "    </tr>\n",
       "    <tr>\n",
       "      <th>2756100</th>\n",
       "      <td>1438400163914</td>\n",
       "      <td>199536</td>\n",
       "      <td>view</td>\n",
       "      <td>152913</td>\n",
       "      <td>NaN</td>\n",
       "    </tr>\n",
       "  </tbody>\n",
       "</table>\n",
       "<p>2733644 rows × 5 columns</p>\n",
       "</div>"
      ],
      "text/plain": [
       "             timestamp  visitorid event  itemid  transactionid\n",
       "0        1433221332117     257597  view  355908            NaN\n",
       "1        1433224214164     992329  view  248676            NaN\n",
       "2        1433221999827     111016  view  318965            NaN\n",
       "3        1433221955914     483717  view  253185            NaN\n",
       "4        1433221337106     951259  view  367447            NaN\n",
       "...                ...        ...   ...     ...            ...\n",
       "2756096  1438398785939     591435  view  261427            NaN\n",
       "2756097  1438399813142     762376  view  115946            NaN\n",
       "2756098  1438397820527    1251746  view   78144            NaN\n",
       "2756099  1438398530703    1184451  view  283392            NaN\n",
       "2756100  1438400163914     199536  view  152913            NaN\n",
       "\n",
       "[2733644 rows x 5 columns]"
      ]
     },
     "execution_count": 14,
     "metadata": {},
     "output_type": "execute_result"
    }
   ],
   "source": [
    "# Проверим пропуски\n",
    "events[events.isna().any(axis=1)]"
   ]
  },
  {
   "cell_type": "markdown",
   "metadata": {},
   "source": [
    "Значения пропущены только в столбце transactionid в случае, когда покупка не была совершена."
   ]
  },
  {
   "cell_type": "code",
   "execution_count": 15,
   "metadata": {},
   "outputs": [
    {
     "data": {
      "text/plain": [
       "array(['view', 'addtocart'], dtype=object)"
      ]
     },
     "execution_count": 15,
     "metadata": {},
     "output_type": "execute_result"
    }
   ],
   "source": [
    "# Посмотрим на типы событий для пропущенных \n",
    "events[events['transactionid'].isna()]['event'].unique()"
   ]
  },
  {
   "cell_type": "code",
   "execution_count": 16,
   "metadata": {},
   "outputs": [
    {
     "data": {
      "text/plain": [
       "array(['transaction'], dtype=object)"
      ]
     },
     "execution_count": 16,
     "metadata": {},
     "output_type": "execute_result"
    }
   ],
   "source": [
    "# Посмотрим на типы событий для значениц без пропуска\n",
    "events[~events['transactionid'].isna()]['event'].unique()"
   ]
  },
  {
   "cell_type": "markdown",
   "metadata": {},
   "source": [
    "В датасете events содержатся пропущенные значения в столбце transactionid и дублирующиеся строки. Дубликаты можно удалить, а столбец с транзакциями категоризовать и отсутствие факта покупки заполнить 0. В качестве таргета будем использовать факт добавления товара в корзину - событие addtocart."
   ]
  },
  {
   "cell_type": "code",
   "execution_count": 17,
   "metadata": {},
   "outputs": [],
   "source": [
    "# Загрузим датасет с товарами\n",
    "item_1 = pd.read_csv(f'{PATH_DATA}/item_properties_part1.csv')"
   ]
  },
  {
   "cell_type": "code",
   "execution_count": 18,
   "metadata": {},
   "outputs": [
    {
     "data": {
      "text/html": [
       "<div>\n",
       "<style scoped>\n",
       "    .dataframe tbody tr th:only-of-type {\n",
       "        vertical-align: middle;\n",
       "    }\n",
       "\n",
       "    .dataframe tbody tr th {\n",
       "        vertical-align: top;\n",
       "    }\n",
       "\n",
       "    .dataframe thead th {\n",
       "        text-align: right;\n",
       "    }\n",
       "</style>\n",
       "<table border=\"1\" class=\"dataframe\">\n",
       "  <thead>\n",
       "    <tr style=\"text-align: right;\">\n",
       "      <th></th>\n",
       "      <th>timestamp</th>\n",
       "      <th>itemid</th>\n",
       "      <th>property</th>\n",
       "      <th>value</th>\n",
       "    </tr>\n",
       "  </thead>\n",
       "  <tbody>\n",
       "    <tr>\n",
       "      <th>0</th>\n",
       "      <td>1435460400000</td>\n",
       "      <td>460429</td>\n",
       "      <td>categoryid</td>\n",
       "      <td>1338</td>\n",
       "    </tr>\n",
       "    <tr>\n",
       "      <th>1</th>\n",
       "      <td>1441508400000</td>\n",
       "      <td>206783</td>\n",
       "      <td>888</td>\n",
       "      <td>1116713 960601 n277.200</td>\n",
       "    </tr>\n",
       "    <tr>\n",
       "      <th>2</th>\n",
       "      <td>1439089200000</td>\n",
       "      <td>395014</td>\n",
       "      <td>400</td>\n",
       "      <td>n552.000 639502 n720.000 424566</td>\n",
       "    </tr>\n",
       "  </tbody>\n",
       "</table>\n",
       "</div>"
      ],
      "text/plain": [
       "       timestamp  itemid    property                            value\n",
       "0  1435460400000  460429  categoryid                             1338\n",
       "1  1441508400000  206783         888          1116713 960601 n277.200\n",
       "2  1439089200000  395014         400  n552.000 639502 n720.000 424566"
      ]
     },
     "execution_count": 18,
     "metadata": {},
     "output_type": "execute_result"
    }
   ],
   "source": [
    "# Посмотрим на первые строки\n",
    "item_1.head(3)"
   ]
  },
  {
   "cell_type": "code",
   "execution_count": 19,
   "metadata": {},
   "outputs": [
    {
     "name": "stdout",
     "output_type": "stream",
     "text": [
      "<class 'pandas.core.frame.DataFrame'>\n",
      "RangeIndex: 10999999 entries, 0 to 10999998\n",
      "Data columns (total 4 columns):\n",
      " #   Column     Dtype \n",
      "---  ------     ----- \n",
      " 0   timestamp  int64 \n",
      " 1   itemid     int64 \n",
      " 2   property   object\n",
      " 3   value      object\n",
      "dtypes: int64(2), object(2)\n",
      "memory usage: 335.7+ MB\n"
     ]
    }
   ],
   "source": [
    "# Посмотрим на типы данных\n",
    "item_1.info()"
   ]
  },
  {
   "cell_type": "code",
   "execution_count": 20,
   "metadata": {},
   "outputs": [
    {
     "data": {
      "text/html": [
       "<div>\n",
       "<style scoped>\n",
       "    .dataframe tbody tr th:only-of-type {\n",
       "        vertical-align: middle;\n",
       "    }\n",
       "\n",
       "    .dataframe tbody tr th {\n",
       "        vertical-align: top;\n",
       "    }\n",
       "\n",
       "    .dataframe thead th {\n",
       "        text-align: right;\n",
       "    }\n",
       "</style>\n",
       "<table border=\"1\" class=\"dataframe\">\n",
       "  <thead>\n",
       "    <tr style=\"text-align: right;\">\n",
       "      <th></th>\n",
       "      <th>timestamp</th>\n",
       "      <th>itemid</th>\n",
       "      <th>property</th>\n",
       "      <th>value</th>\n",
       "    </tr>\n",
       "  </thead>\n",
       "  <tbody>\n",
       "  </tbody>\n",
       "</table>\n",
       "</div>"
      ],
      "text/plain": [
       "Empty DataFrame\n",
       "Columns: [timestamp, itemid, property, value]\n",
       "Index: []"
      ]
     },
     "execution_count": 20,
     "metadata": {},
     "output_type": "execute_result"
    }
   ],
   "source": [
    "# Проверим пропуски\n",
    "item_1[item_1.isna().any(axis=1)]"
   ]
  },
  {
   "cell_type": "code",
   "execution_count": 21,
   "metadata": {},
   "outputs": [
    {
     "data": {
      "text/html": [
       "<div>\n",
       "<style scoped>\n",
       "    .dataframe tbody tr th:only-of-type {\n",
       "        vertical-align: middle;\n",
       "    }\n",
       "\n",
       "    .dataframe tbody tr th {\n",
       "        vertical-align: top;\n",
       "    }\n",
       "\n",
       "    .dataframe thead th {\n",
       "        text-align: right;\n",
       "    }\n",
       "</style>\n",
       "<table border=\"1\" class=\"dataframe\">\n",
       "  <thead>\n",
       "    <tr style=\"text-align: right;\">\n",
       "      <th></th>\n",
       "      <th>timestamp</th>\n",
       "      <th>itemid</th>\n",
       "      <th>property</th>\n",
       "      <th>value</th>\n",
       "    </tr>\n",
       "  </thead>\n",
       "  <tbody>\n",
       "  </tbody>\n",
       "</table>\n",
       "</div>"
      ],
      "text/plain": [
       "Empty DataFrame\n",
       "Columns: [timestamp, itemid, property, value]\n",
       "Index: []"
      ]
     },
     "execution_count": 21,
     "metadata": {},
     "output_type": "execute_result"
    }
   ],
   "source": [
    "# Проверим дубликаты\n",
    "item_1[item_1.duplicated()]"
   ]
  },
  {
   "cell_type": "code",
   "execution_count": 22,
   "metadata": {},
   "outputs": [],
   "source": [
    "# Загрузим вторую часть данных\n",
    "item_2 = pd.read_csv(f'{PATH_DATA}/item_properties_part2.csv')"
   ]
  },
  {
   "cell_type": "code",
   "execution_count": 23,
   "metadata": {},
   "outputs": [
    {
     "name": "stdout",
     "output_type": "stream",
     "text": [
      "<class 'pandas.core.frame.DataFrame'>\n",
      "RangeIndex: 9275903 entries, 0 to 9275902\n",
      "Data columns (total 4 columns):\n",
      " #   Column     Dtype \n",
      "---  ------     ----- \n",
      " 0   timestamp  int64 \n",
      " 1   itemid     int64 \n",
      " 2   property   object\n",
      " 3   value      object\n",
      "dtypes: int64(2), object(2)\n",
      "memory usage: 283.1+ MB\n"
     ]
    }
   ],
   "source": [
    "item_2.info()"
   ]
  },
  {
   "cell_type": "code",
   "execution_count": 24,
   "metadata": {},
   "outputs": [
    {
     "data": {
      "text/html": [
       "<div>\n",
       "<style scoped>\n",
       "    .dataframe tbody tr th:only-of-type {\n",
       "        vertical-align: middle;\n",
       "    }\n",
       "\n",
       "    .dataframe tbody tr th {\n",
       "        vertical-align: top;\n",
       "    }\n",
       "\n",
       "    .dataframe thead th {\n",
       "        text-align: right;\n",
       "    }\n",
       "</style>\n",
       "<table border=\"1\" class=\"dataframe\">\n",
       "  <thead>\n",
       "    <tr style=\"text-align: right;\">\n",
       "      <th></th>\n",
       "      <th>timestamp</th>\n",
       "      <th>itemid</th>\n",
       "      <th>property</th>\n",
       "      <th>value</th>\n",
       "    </tr>\n",
       "  </thead>\n",
       "  <tbody>\n",
       "  </tbody>\n",
       "</table>\n",
       "</div>"
      ],
      "text/plain": [
       "Empty DataFrame\n",
       "Columns: [timestamp, itemid, property, value]\n",
       "Index: []"
      ]
     },
     "execution_count": 24,
     "metadata": {},
     "output_type": "execute_result"
    }
   ],
   "source": [
    "item_2[item_2.isna().any(axis=1)]"
   ]
  },
  {
   "cell_type": "code",
   "execution_count": 25,
   "metadata": {},
   "outputs": [
    {
     "data": {
      "text/html": [
       "<div>\n",
       "<style scoped>\n",
       "    .dataframe tbody tr th:only-of-type {\n",
       "        vertical-align: middle;\n",
       "    }\n",
       "\n",
       "    .dataframe tbody tr th {\n",
       "        vertical-align: top;\n",
       "    }\n",
       "\n",
       "    .dataframe thead th {\n",
       "        text-align: right;\n",
       "    }\n",
       "</style>\n",
       "<table border=\"1\" class=\"dataframe\">\n",
       "  <thead>\n",
       "    <tr style=\"text-align: right;\">\n",
       "      <th></th>\n",
       "      <th>timestamp</th>\n",
       "      <th>itemid</th>\n",
       "      <th>property</th>\n",
       "      <th>value</th>\n",
       "    </tr>\n",
       "  </thead>\n",
       "  <tbody>\n",
       "  </tbody>\n",
       "</table>\n",
       "</div>"
      ],
      "text/plain": [
       "Empty DataFrame\n",
       "Columns: [timestamp, itemid, property, value]\n",
       "Index: []"
      ]
     },
     "execution_count": 25,
     "metadata": {},
     "output_type": "execute_result"
    }
   ],
   "source": [
    "item_2[item_2.duplicated()]"
   ]
  },
  {
   "cell_type": "markdown",
   "metadata": {},
   "source": [
    "Датасеты item_properties содержат информацию о товарах. Данные в столбцах представленых как в числовых, так и в текстовых форматах: timestamp - временная метка добавления свойства, itemid - идентификатор товара, property - свойство товара, value - значение свойства. В таблицах нет пропущенных значений и дублирующихся строк. Столбцы property и value содержат числовые и текстовые значения."
   ]
  },
  {
   "cell_type": "markdown",
   "metadata": {},
   "source": [
    "**Выводы**\n",
    "\n",
    "Для построения сервиса рекомендотельной системы предоставляны три датасета: categor_tree с отношением категорий товаров, events с данными о взаимодействий пользователе с товарами и описание товаров в таблице items_property.\n",
    "\n",
    "- Таблица category_tree содержит пропуски в столбце parentid - их можно заполнить.\n",
    "- Таблица events содержит дубликаты (можно удалить) и пропуски (можно преобразовать). Также столбец event с значениями addtocard будет преобразован в таргет - факт добавления товара в корзину.\n",
    "- Таблица в двух частях item_properties не содержит пропусков и дубликатов и представляет собой датасет с характеристиками товаров. Две части таблицы будут объединены.\n",
    "- В таблицах таже необходимо преобразовать формат данных для лучшей интерпретируемости и анализа.\n",
    "\n",
    "Центральная таблица events содержит id пользователей и их взаимодейвтия с товарами, в том числе и таргет. Для построения рекомендаций этих данных достаточно. Однако, для более точных рекомендаций по свойствам похожих товаров необхлдимо также добавить данные о товарах из таблицы item_properties. Таблица с категориями товаров также, возможно, будет полезной и даст дополнительные признаки."
   ]
  },
  {
   "cell_type": "markdown",
   "metadata": {},
   "source": [
    "## Предобработка данных"
   ]
  },
  {
   "cell_type": "markdown",
   "metadata": {},
   "source": [
    "Выполним необходимые преобразования в таблице events."
   ]
  },
  {
   "cell_type": "code",
   "execution_count": 26,
   "metadata": {},
   "outputs": [],
   "source": [
    "# Заполним отсутствие транзакции 0 - покупка не совершена\n",
    "events['transactionid'] = events['transactionid'].fillna(0).astype('int')\n",
    "\n",
    "# Создадим новый признак - факт совершения покупки\n",
    "events['istransaction'] = events['transactionid'].apply(lambda x: 0 if x==0 else 1).astype('int')"
   ]
  },
  {
   "cell_type": "code",
   "execution_count": 27,
   "metadata": {},
   "outputs": [],
   "source": [
    "# Добавим в качестве таргета признак - добавления товара в корзину\n",
    "events['target'] = events['event'].apply(lambda x: 1 if x=='addtocart' else 0)"
   ]
  },
  {
   "cell_type": "code",
   "execution_count": 28,
   "metadata": {},
   "outputs": [],
   "source": [
    "# Преобразуем формат времени\n",
    "events['timestamp'] = pd.to_datetime(events['timestamp'], unit='ms').dt.strftime('%Y-%m-%d %H:%M')"
   ]
  },
  {
   "cell_type": "code",
   "execution_count": 29,
   "metadata": {},
   "outputs": [],
   "source": [
    "# Переименуем столбцы в более привычные для рекомендательных систем\n",
    "events = events.rename(columns={'visitorid': 'user_id',\n",
    "                                'itemid': 'item_id'})"
   ]
  },
  {
   "cell_type": "code",
   "execution_count": 30,
   "metadata": {},
   "outputs": [
    {
     "data": {
      "text/html": [
       "<div>\n",
       "<style scoped>\n",
       "    .dataframe tbody tr th:only-of-type {\n",
       "        vertical-align: middle;\n",
       "    }\n",
       "\n",
       "    .dataframe tbody tr th {\n",
       "        vertical-align: top;\n",
       "    }\n",
       "\n",
       "    .dataframe thead th {\n",
       "        text-align: right;\n",
       "    }\n",
       "</style>\n",
       "<table border=\"1\" class=\"dataframe\">\n",
       "  <thead>\n",
       "    <tr style=\"text-align: right;\">\n",
       "      <th></th>\n",
       "      <th>timestamp</th>\n",
       "      <th>user_id</th>\n",
       "      <th>event</th>\n",
       "      <th>item_id</th>\n",
       "      <th>transactionid</th>\n",
       "      <th>istransaction</th>\n",
       "      <th>target</th>\n",
       "    </tr>\n",
       "  </thead>\n",
       "  <tbody>\n",
       "    <tr>\n",
       "      <th>1388950</th>\n",
       "      <td>2015-09-14 01:24</td>\n",
       "      <td>253321</td>\n",
       "      <td>view</td>\n",
       "      <td>283006</td>\n",
       "      <td>0</td>\n",
       "      <td>0</td>\n",
       "      <td>0</td>\n",
       "    </tr>\n",
       "    <tr>\n",
       "      <th>952008</th>\n",
       "      <td>2015-08-19 19:03</td>\n",
       "      <td>707483</td>\n",
       "      <td>view</td>\n",
       "      <td>269631</td>\n",
       "      <td>0</td>\n",
       "      <td>0</td>\n",
       "      <td>0</td>\n",
       "    </tr>\n",
       "    <tr>\n",
       "      <th>1857448</th>\n",
       "      <td>2015-05-21 23:50</td>\n",
       "      <td>773937</td>\n",
       "      <td>view</td>\n",
       "      <td>31928</td>\n",
       "      <td>0</td>\n",
       "      <td>0</td>\n",
       "      <td>0</td>\n",
       "    </tr>\n",
       "    <tr>\n",
       "      <th>2487107</th>\n",
       "      <td>2015-07-20 21:41</td>\n",
       "      <td>1211454</td>\n",
       "      <td>view</td>\n",
       "      <td>267489</td>\n",
       "      <td>0</td>\n",
       "      <td>0</td>\n",
       "      <td>0</td>\n",
       "    </tr>\n",
       "    <tr>\n",
       "      <th>2616060</th>\n",
       "      <td>2015-07-27 00:21</td>\n",
       "      <td>1366430</td>\n",
       "      <td>view</td>\n",
       "      <td>261663</td>\n",
       "      <td>0</td>\n",
       "      <td>0</td>\n",
       "      <td>0</td>\n",
       "    </tr>\n",
       "  </tbody>\n",
       "</table>\n",
       "</div>"
      ],
      "text/plain": [
       "                timestamp  user_id event  item_id  transactionid  \\\n",
       "1388950  2015-09-14 01:24   253321  view   283006              0   \n",
       "952008   2015-08-19 19:03   707483  view   269631              0   \n",
       "1857448  2015-05-21 23:50   773937  view    31928              0   \n",
       "2487107  2015-07-20 21:41  1211454  view   267489              0   \n",
       "2616060  2015-07-27 00:21  1366430  view   261663              0   \n",
       "\n",
       "         istransaction  target  \n",
       "1388950              0       0  \n",
       "952008               0       0  \n",
       "1857448              0       0  \n",
       "2487107              0       0  \n",
       "2616060              0       0  "
      ]
     },
     "execution_count": 30,
     "metadata": {},
     "output_type": "execute_result"
    }
   ],
   "source": [
    "# Проверим результат\n",
    "events.sample(5)"
   ]
  },
  {
   "cell_type": "code",
   "execution_count": 31,
   "metadata": {},
   "outputs": [],
   "source": [
    "# Сохраним обновленный датасет\n",
    "events.to_csv('../data/events_clean.csv', index=False)"
   ]
  },
  {
   "cell_type": "markdown",
   "metadata": {},
   "source": [
    "Далее поработаем с данными о товарах."
   ]
  },
  {
   "cell_type": "code",
   "execution_count": 32,
   "metadata": {},
   "outputs": [],
   "source": [
    "# Объединим две части таблицы\n",
    "items = pd.concat([item_1, item_2], axis=0)"
   ]
  },
  {
   "cell_type": "code",
   "execution_count": 33,
   "metadata": {},
   "outputs": [],
   "source": [
    "# Преобразуем дату\n",
    "items['timestamp'] = pd.to_datetime(items['timestamp'], unit='ms').dt.strftime('%Y-%m-%d %H:%M')"
   ]
  },
  {
   "cell_type": "markdown",
   "metadata": {},
   "source": [
    "Проверим, не содержит ли таблица исторические данные с изменениями свойств товаров."
   ]
  },
  {
   "cell_type": "code",
   "execution_count": 34,
   "metadata": {},
   "outputs": [
    {
     "data": {
      "text/html": [
       "<div>\n",
       "<style scoped>\n",
       "    .dataframe tbody tr th:only-of-type {\n",
       "        vertical-align: middle;\n",
       "    }\n",
       "\n",
       "    .dataframe tbody tr th {\n",
       "        vertical-align: top;\n",
       "    }\n",
       "\n",
       "    .dataframe thead th {\n",
       "        text-align: right;\n",
       "    }\n",
       "</style>\n",
       "<table border=\"1\" class=\"dataframe\">\n",
       "  <thead>\n",
       "    <tr style=\"text-align: right;\">\n",
       "      <th></th>\n",
       "      <th>itemid</th>\n",
       "      <th>property</th>\n",
       "      <th>value</th>\n",
       "    </tr>\n",
       "  </thead>\n",
       "  <tbody>\n",
       "    <tr>\n",
       "      <th>3200850</th>\n",
       "      <td>0</td>\n",
       "      <td>6</td>\n",
       "      <td>1152934 1238769</td>\n",
       "    </tr>\n",
       "    <tr>\n",
       "      <th>5586256</th>\n",
       "      <td>0</td>\n",
       "      <td>6</td>\n",
       "      <td>1152934 1238769</td>\n",
       "    </tr>\n",
       "    <tr>\n",
       "      <th>2803284</th>\n",
       "      <td>0</td>\n",
       "      <td>6</td>\n",
       "      <td>1152934 1238769</td>\n",
       "    </tr>\n",
       "    <tr>\n",
       "      <th>2604501</th>\n",
       "      <td>0</td>\n",
       "      <td>6</td>\n",
       "      <td>1152934 1238769</td>\n",
       "    </tr>\n",
       "    <tr>\n",
       "      <th>5785040</th>\n",
       "      <td>0</td>\n",
       "      <td>6</td>\n",
       "      <td>66094</td>\n",
       "    </tr>\n",
       "    <tr>\n",
       "      <th>...</th>\n",
       "      <td>...</td>\n",
       "      <td>...</td>\n",
       "      <td>...</td>\n",
       "    </tr>\n",
       "    <tr>\n",
       "      <th>3353490</th>\n",
       "      <td>466865</td>\n",
       "      <td>888</td>\n",
       "      <td>150169 780351 820477 437265 951705 1146011 115...</td>\n",
       "    </tr>\n",
       "    <tr>\n",
       "      <th>3552273</th>\n",
       "      <td>466865</td>\n",
       "      <td>888</td>\n",
       "      <td>150169 780351 820477 437265 951705 1146011 115...</td>\n",
       "    </tr>\n",
       "    <tr>\n",
       "      <th>2757141</th>\n",
       "      <td>466865</td>\n",
       "      <td>888</td>\n",
       "      <td>150169 780351 820477 437265 951705 1146011 115...</td>\n",
       "    </tr>\n",
       "    <tr>\n",
       "      <th>5341328</th>\n",
       "      <td>466865</td>\n",
       "      <td>888</td>\n",
       "      <td>150169 780351 820477 437265 951705 1146011 115...</td>\n",
       "    </tr>\n",
       "    <tr>\n",
       "      <th>3154707</th>\n",
       "      <td>466865</td>\n",
       "      <td>888</td>\n",
       "      <td>150169 780351 820477 437265 951705 1146011 115...</td>\n",
       "    </tr>\n",
       "  </tbody>\n",
       "</table>\n",
       "<p>7497165 rows × 3 columns</p>\n",
       "</div>"
      ],
      "text/plain": [
       "         itemid property                                              value\n",
       "3200850       0        6                                    1152934 1238769\n",
       "5586256       0        6                                    1152934 1238769\n",
       "2803284       0        6                                    1152934 1238769\n",
       "2604501       0        6                                    1152934 1238769\n",
       "5785040       0        6                                              66094\n",
       "...         ...      ...                                                ...\n",
       "3353490  466865      888  150169 780351 820477 437265 951705 1146011 115...\n",
       "3552273  466865      888  150169 780351 820477 437265 951705 1146011 115...\n",
       "2757141  466865      888  150169 780351 820477 437265 951705 1146011 115...\n",
       "5341328  466865      888  150169 780351 820477 437265 951705 1146011 115...\n",
       "3154707  466865      888  150169 780351 820477 437265 951705 1146011 115...\n",
       "\n",
       "[7497165 rows x 3 columns]"
      ]
     },
     "execution_count": 34,
     "metadata": {},
     "output_type": "execute_result"
    }
   ],
   "source": [
    "items.drop('timestamp', axis=1)[items.drop('timestamp', axis=1).duplicated()].sort_values('itemid')"
   ]
  },
  {
   "cell_type": "markdown",
   "metadata": {},
   "source": [
    "Похоже, что изменения свойств товаров остались в датасете. Для построения рекомендательных систем эти данные бесполезны - знание о том, какая редакция карточки товара побудила совершить целевое действие, будут больше полезны для аналитического исследования."
   ]
  },
  {
   "cell_type": "code",
   "execution_count": 35,
   "metadata": {},
   "outputs": [],
   "source": [
    "# Остортируем датасет по времени и товарам\n",
    "items = items.sort_values(['timestamp', 'itemid']).reset_index(drop=True)"
   ]
  },
  {
   "cell_type": "code",
   "execution_count": 36,
   "metadata": {},
   "outputs": [
    {
     "data": {
      "text/html": [
       "<div>\n",
       "<style scoped>\n",
       "    .dataframe tbody tr th:only-of-type {\n",
       "        vertical-align: middle;\n",
       "    }\n",
       "\n",
       "    .dataframe tbody tr th {\n",
       "        vertical-align: top;\n",
       "    }\n",
       "\n",
       "    .dataframe thead th {\n",
       "        text-align: right;\n",
       "    }\n",
       "</style>\n",
       "<table border=\"1\" class=\"dataframe\">\n",
       "  <thead>\n",
       "    <tr style=\"text-align: right;\">\n",
       "      <th></th>\n",
       "      <th>timestamp</th>\n",
       "      <th>itemid</th>\n",
       "      <th>property</th>\n",
       "      <th>value</th>\n",
       "    </tr>\n",
       "  </thead>\n",
       "  <tbody>\n",
       "    <tr>\n",
       "      <th>0</th>\n",
       "      <td>2015-05-10 03:00</td>\n",
       "      <td>0</td>\n",
       "      <td>283</td>\n",
       "      <td>66094 372274 478989</td>\n",
       "    </tr>\n",
       "    <tr>\n",
       "      <th>1</th>\n",
       "      <td>2015-05-10 03:00</td>\n",
       "      <td>0</td>\n",
       "      <td>6</td>\n",
       "      <td>1152934 1238769</td>\n",
       "    </tr>\n",
       "    <tr>\n",
       "      <th>2</th>\n",
       "      <td>2015-05-10 03:00</td>\n",
       "      <td>0</td>\n",
       "      <td>159</td>\n",
       "      <td>519769</td>\n",
       "    </tr>\n",
       "    <tr>\n",
       "      <th>3</th>\n",
       "      <td>2015-05-10 03:00</td>\n",
       "      <td>0</td>\n",
       "      <td>678</td>\n",
       "      <td>372274</td>\n",
       "    </tr>\n",
       "    <tr>\n",
       "      <th>4</th>\n",
       "      <td>2015-05-10 03:00</td>\n",
       "      <td>0</td>\n",
       "      <td>790</td>\n",
       "      <td>n91200.000</td>\n",
       "    </tr>\n",
       "  </tbody>\n",
       "</table>\n",
       "</div>"
      ],
      "text/plain": [
       "          timestamp  itemid property                value\n",
       "0  2015-05-10 03:00       0      283  66094 372274 478989\n",
       "1  2015-05-10 03:00       0        6      1152934 1238769\n",
       "2  2015-05-10 03:00       0      159               519769\n",
       "3  2015-05-10 03:00       0      678               372274\n",
       "4  2015-05-10 03:00       0      790           n91200.000"
      ]
     },
     "execution_count": 36,
     "metadata": {},
     "output_type": "execute_result"
    }
   ],
   "source": [
    "# Посмотрим на результат\n",
    "items.head(5)"
   ]
  },
  {
   "cell_type": "code",
   "execution_count": 37,
   "metadata": {},
   "outputs": [],
   "source": [
    "# Удалим дубликаты, оставив только последнюю по времени строку со свойствами\n",
    "items = items.drop_duplicates(['itemid','property','value'], keep='last').reset_index(drop=True)"
   ]
  },
  {
   "cell_type": "code",
   "execution_count": 38,
   "metadata": {},
   "outputs": [
    {
     "data": {
      "text/html": [
       "<div>\n",
       "<style scoped>\n",
       "    .dataframe tbody tr th:only-of-type {\n",
       "        vertical-align: middle;\n",
       "    }\n",
       "\n",
       "    .dataframe tbody tr th {\n",
       "        vertical-align: top;\n",
       "    }\n",
       "\n",
       "    .dataframe thead th {\n",
       "        text-align: right;\n",
       "    }\n",
       "</style>\n",
       "<table border=\"1\" class=\"dataframe\">\n",
       "  <thead>\n",
       "    <tr style=\"text-align: right;\">\n",
       "      <th></th>\n",
       "      <th>timestamp</th>\n",
       "      <th>itemid</th>\n",
       "      <th>property</th>\n",
       "      <th>value</th>\n",
       "    </tr>\n",
       "  </thead>\n",
       "  <tbody>\n",
       "    <tr>\n",
       "      <th>0</th>\n",
       "      <td>2015-05-10 03:00</td>\n",
       "      <td>0</td>\n",
       "      <td>283</td>\n",
       "      <td>66094 372274 478989</td>\n",
       "    </tr>\n",
       "    <tr>\n",
       "      <th>1</th>\n",
       "      <td>2015-05-10 03:00</td>\n",
       "      <td>0</td>\n",
       "      <td>159</td>\n",
       "      <td>519769</td>\n",
       "    </tr>\n",
       "    <tr>\n",
       "      <th>2</th>\n",
       "      <td>2015-05-10 03:00</td>\n",
       "      <td>0</td>\n",
       "      <td>678</td>\n",
       "      <td>372274</td>\n",
       "    </tr>\n",
       "    <tr>\n",
       "      <th>3</th>\n",
       "      <td>2015-05-10 03:00</td>\n",
       "      <td>0</td>\n",
       "      <td>790</td>\n",
       "      <td>n91200.000</td>\n",
       "    </tr>\n",
       "    <tr>\n",
       "      <th>4</th>\n",
       "      <td>2015-05-10 03:00</td>\n",
       "      <td>0</td>\n",
       "      <td>categoryid</td>\n",
       "      <td>209</td>\n",
       "    </tr>\n",
       "    <tr>\n",
       "      <th>5</th>\n",
       "      <td>2015-05-10 03:00</td>\n",
       "      <td>1</td>\n",
       "      <td>available</td>\n",
       "      <td>1</td>\n",
       "    </tr>\n",
       "    <tr>\n",
       "      <th>6</th>\n",
       "      <td>2015-05-10 03:00</td>\n",
       "      <td>1</td>\n",
       "      <td>776</td>\n",
       "      <td>379040</td>\n",
       "    </tr>\n",
       "    <tr>\n",
       "      <th>7</th>\n",
       "      <td>2015-05-10 03:00</td>\n",
       "      <td>1</td>\n",
       "      <td>categoryid</td>\n",
       "      <td>1114</td>\n",
       "    </tr>\n",
       "    <tr>\n",
       "      <th>8</th>\n",
       "      <td>2015-05-10 03:00</td>\n",
       "      <td>1</td>\n",
       "      <td>112</td>\n",
       "      <td>679677</td>\n",
       "    </tr>\n",
       "    <tr>\n",
       "      <th>9</th>\n",
       "      <td>2015-05-10 03:00</td>\n",
       "      <td>1</td>\n",
       "      <td>159</td>\n",
       "      <td>519769</td>\n",
       "    </tr>\n",
       "  </tbody>\n",
       "</table>\n",
       "</div>"
      ],
      "text/plain": [
       "          timestamp  itemid    property                value\n",
       "0  2015-05-10 03:00       0         283  66094 372274 478989\n",
       "1  2015-05-10 03:00       0         159               519769\n",
       "2  2015-05-10 03:00       0         678               372274\n",
       "3  2015-05-10 03:00       0         790           n91200.000\n",
       "4  2015-05-10 03:00       0  categoryid                  209\n",
       "5  2015-05-10 03:00       1   available                    1\n",
       "6  2015-05-10 03:00       1         776               379040\n",
       "7  2015-05-10 03:00       1  categoryid                 1114\n",
       "8  2015-05-10 03:00       1         112               679677\n",
       "9  2015-05-10 03:00       1         159               519769"
      ]
     },
     "execution_count": 38,
     "metadata": {},
     "output_type": "execute_result"
    }
   ],
   "source": [
    "# Посмотрим на результат\n",
    "items.head(10)"
   ]
  },
  {
   "cell_type": "code",
   "execution_count": 39,
   "metadata": {},
   "outputs": [],
   "source": [
    "# Переименуем столбец\n",
    "items = items.rename(columns={'itemid': 'item_id'})"
   ]
  },
  {
   "cell_type": "code",
   "execution_count": 40,
   "metadata": {},
   "outputs": [],
   "source": [
    "# Сохраним полученный датасет\n",
    "items.to_csv('../data/items_clean.csv', index=False)"
   ]
  },
  {
   "cell_type": "markdown",
   "metadata": {},
   "source": [
    "## EDA"
   ]
  },
  {
   "cell_type": "code",
   "execution_count": 9,
   "metadata": {},
   "outputs": [],
   "source": [
    "events = pd.read_csv('../data/events_clean.csv', index_col=False)"
   ]
  },
  {
   "cell_type": "code",
   "execution_count": 10,
   "metadata": {},
   "outputs": [],
   "source": [
    "# Преобразуем формат данных\n",
    "events['timestamp'] = pd.to_datetime(events['timestamp'])\n",
    "\n",
    "# Извлекаем день недели и час\n",
    "events['day_of_week'] = events['timestamp'].dt.dayofweek  # Получаем день недели\n",
    "events['day'] = events['timestamp'].dt.day  # Получаем день в месяце\n",
    "events['hour'] = events['timestamp'].dt.hour  # Получаем час"
   ]
  },
  {
   "cell_type": "code",
   "execution_count": 11,
   "metadata": {},
   "outputs": [],
   "source": [
    "# Получим датасет с количество пользователей и событий по дням недели\n",
    "events_by_day_week = events.groupby(\"day_of_week\").agg(events=(\"day_of_week\", \"count\"), \n",
    "                                                    users=(\"user_id\", \"nunique\")).reset_index()"
   ]
  },
  {
   "cell_type": "code",
   "execution_count": 44,
   "metadata": {},
   "outputs": [
    {
     "data": {
      "image/png": "[encoded data removed]",
      "text/plain": [
       "<Figure size 1000x600 with 2 Axes>"
      ]
     },
     "metadata": {},
     "output_type": "display_data"
    }
   ],
   "source": [
    "# Построим распределение событий по дням недели\n",
    "\n",
    "fig, axs = plt.subplots(2, 1, figsize=(10, 6))\n",
    "\n",
    "ax = axs[0]\n",
    "events_by_day_week[\"events\"].plot(kind=\"bar\", ax=ax)\n",
    "ax.set_title('Количество событий по дням недели')\n",
    "ax.set_xticklabels(['пн', 'вт', 'ср', 'чт', 'пт', 'сб', 'вс'], rotation=0)\n",
    "ax.tick_params(axis='x', labelsize=10)\n",
    "\n",
    "ax = axs[1]\n",
    "events_by_day_week[\"users\"].plot(kind=\"bar\", ax=ax)\n",
    "ax.set_title('Количество пользователей по дням недели')\n",
    "#ax.set_xticklabels(events_by_day['day_of_week'], rotation=45)\n",
    "ax.set_xticklabels(['пн', 'вт', 'ср', 'чт', 'пт', 'сб', 'вс'], rotation=0)\n",
    "ax.tick_params(axis='x', labelsize=10)\n",
    "\n",
    "fig.tight_layout()"
   ]
  },
  {
   "cell_type": "markdown",
   "metadata": {},
   "source": [
    "Количество пользователей и взаимодействий с оварами меняется в течение недели. Можно сказать, что максимальное количество взаимодействий происходит в первой половине недели и минимально по субботам."
   ]
  },
  {
   "cell_type": "code",
   "execution_count": 45,
   "metadata": {},
   "outputs": [],
   "source": [
    "# Получим датасет с количество пользователей и событий по дням\n",
    "events_by_day = events.groupby(\"day\").agg(events=(\"day\", \"count\"), \n",
    "                                          users=(\"user_id\", \"nunique\")).reset_index()"
   ]
  },
  {
   "cell_type": "code",
   "execution_count": 46,
   "metadata": {},
   "outputs": [
    {
     "data": {
      "image/png": "[encoded data removed]",
      "text/plain": [
       "<Figure size 1000x600 with 2 Axes>"
      ]
     },
     "metadata": {},
     "output_type": "display_data"
    }
   ],
   "source": [
    "# Построим распределение событий по дням недели\n",
    "\n",
    "fig, axs = plt.subplots(2, 1, figsize=(10, 6))\n",
    "\n",
    "ax = axs[0]\n",
    "events_by_day[\"events\"].plot(kind=\"bar\", ax=ax)\n",
    "ax.set_title('Количество событий по дням')\n",
    "ax.set_xticklabels(events_by_day['day'], rotation=45)\n",
    "ax.tick_params(axis='x', labelsize=10)\n",
    "\n",
    "ax = axs[1]\n",
    "events_by_day[\"users\"].plot(kind=\"bar\", ax=ax)\n",
    "ax.set_title('Количество пользователей по дням')\n",
    "ax.set_xticklabels(events_by_day['day'], rotation=45)\n",
    "ax.tick_params(axis='x', labelsize=10)\n",
    "\n",
    "fig.tight_layout()"
   ]
  },
  {
   "cell_type": "markdown",
   "metadata": {},
   "source": [
    "Количество пользователей и взаимодействий с товарами меняется в течение месяца. К середине месяца количество взаимодействий увеличивается, потом снижается и новый пик к концу месяца."
   ]
  },
  {
   "cell_type": "code",
   "execution_count": 47,
   "metadata": {},
   "outputs": [],
   "source": [
    "# Получим датасет с количество пользователей и событий по дням\n",
    "events_hour = events.groupby(\"hour\").agg(events=(\"hour\", \"count\"), \n",
    "                                          users=(\"user_id\", \"nunique\")).reset_index()"
   ]
  },
  {
   "cell_type": "code",
   "execution_count": 48,
   "metadata": {},
   "outputs": [
    {
     "data": {
      "image/png": "[encoded data removed]",
      "text/plain": [
       "<Figure size 1000x600 with 2 Axes>"
      ]
     },
     "metadata": {},
     "output_type": "display_data"
    }
   ],
   "source": [
    "# Построим распределение событий по часам в течение дня\n",
    "\n",
    "fig, axs = plt.subplots(2, 1, figsize=(10, 6))\n",
    "\n",
    "ax = axs[0]\n",
    "events_hour[\"events\"].plot(kind=\"bar\", ax=ax)\n",
    "ax.set_title('Количество событий в течение дня')\n",
    "ax.set_xticklabels(events_hour['hour'], rotation=45)\n",
    "ax.tick_params(axis='x', labelsize=10)\n",
    "\n",
    "ax = axs[1]\n",
    "events_hour[\"users\"].plot(kind=\"bar\", ax=ax)\n",
    "ax.set_title('Количество пользователей в течение дня')\n",
    "ax.set_xticklabels(events_hour['hour'], rotation=45)\n",
    "ax.tick_params(axis='x', labelsize=10)\n",
    "\n",
    "fig.tight_layout()"
   ]
  },
  {
   "cell_type": "markdown",
   "metadata": {},
   "source": [
    "В течение дня суммарное количество взаимодействий и пользователей сильно меняется. Возможно, это связано с разными часовыми поясами пользователей, эта информация в данных отсуствует. Однако, можно сделать вывод по имеющимся данным, что в утренние часы количество взимодействий минимально."
   ]
  },
  {
   "cell_type": "code",
   "execution_count": 49,
   "metadata": {},
   "outputs": [
    {
     "name": "stdout",
     "output_type": "stream",
     "text": [
      "event\n",
      "view           2664312\n",
      "addtocart        69332\n",
      "transaction      22457\n",
      "Name: count, dtype: int64\n"
     ]
    },
    {
     "data": {
      "image/png": "[encoded data removed]",
      "text/plain": [
       "<Figure size 640x480 with 1 Axes>"
      ]
     },
     "metadata": {},
     "output_type": "display_data"
    }
   ],
   "source": [
    "#выведем относительное количество данных в двух классах\n",
    "print(events['event'].value_counts())\n",
    "\n",
    "events['event'].value_counts(normalize=True).plot(kind='bar');"
   ]
  },
  {
   "cell_type": "markdown",
   "metadata": {},
   "source": [
    "Ожидаемо, пользователи чаще всего просто смотрят товары, не совершая целевое действие - добавление в корзину. "
   ]
  },
  {
   "cell_type": "code",
   "execution_count": 50,
   "metadata": {},
   "outputs": [
    {
     "name": "stdout",
     "output_type": "stream",
     "text": [
      "target\n",
      "0    0.974844\n",
      "1    0.025156\n",
      "Name: proportion, dtype: float64\n"
     ]
    }
   ],
   "source": [
    "# Посмотрим на распределение таргета\n",
    "print(events['target'].value_counts(normalize=True))"
   ]
  },
  {
   "cell_type": "markdown",
   "metadata": {},
   "source": [
    "В дальнейшем проблему дисбаланса необходимо решить для корректного построения рекомендаций. Далее посмотрим, как в среднем пользователи взаимодействуют с товарами."
   ]
  },
  {
   "cell_type": "code",
   "execution_count": 51,
   "metadata": {},
   "outputs": [
    {
     "name": "stdout",
     "output_type": "stream",
     "text": [
      "Среднее количество взаимодействий на пользователя: 1.96\n"
     ]
    }
   ],
   "source": [
    "# Среднее количество взаимодействий по пользователям за весь период\n",
    "average_events_per_user = events.groupby('user_id').size().mean()\n",
    "print(f'Среднее количество взаимодействий на пользователя: {round(average_events_per_user, 2)}')"
   ]
  },
  {
   "cell_type": "code",
   "execution_count": 52,
   "metadata": {},
   "outputs": [
    {
     "name": "stdout",
     "output_type": "stream",
     "text": [
      "Среднее количество целевых действий на пользователя: 1.84\n"
     ]
    }
   ],
   "source": [
    "# Среднее количество целевых действий по пользователям за весь период\n",
    "average_events_per_user = events[events['target']==1].groupby('user_id').size().mean()\n",
    "print(f'Среднее количество целевых действий на пользователя: {round(average_events_per_user, 2)}')"
   ]
  },
  {
   "cell_type": "code",
   "execution_count": 53,
   "metadata": {},
   "outputs": [
    {
     "data": {
      "image/png": "[encoded data removed]",
      "text/plain": [
       "<Figure size 600x400 with 1 Axes>"
      ]
     },
     "metadata": {},
     "output_type": "display_data"
    }
   ],
   "source": [
    "# В отдельной таблице посчитаем суммарное количество прослушанных треков\n",
    "target_boxplot = events[events['target']==1].groupby('user_id').agg(item_count = ('item_id', 'count')).reset_index(drop=True)\n",
    "\n",
    "# Создание графика\n",
    "plt.figure(figsize=(6, 4))\n",
    "sns.boxplot(data=target_boxplot['item_count'])\n",
    "\n",
    "# Настройка заголовка и осей\n",
    "plt.title('Количество добавлений товаров в корзину')\n",
    "plt.ylabel('Суммарное количество товаров')\n",
    "\n",
    "plt.show()"
   ]
  },
  {
   "cell_type": "markdown",
   "metadata": {},
   "source": [
    "Можно заметить, что разброс значений достаточно большой. Чаще всего пользователи добавляют по одному товару в корзину."
   ]
  },
  {
   "cell_type": "code",
   "execution_count": 54,
   "metadata": {},
   "outputs": [
    {
     "data": {
      "text/html": [
       "<div>\n",
       "<style scoped>\n",
       "    .dataframe tbody tr th:only-of-type {\n",
       "        vertical-align: middle;\n",
       "    }\n",
       "\n",
       "    .dataframe tbody tr th {\n",
       "        vertical-align: top;\n",
       "    }\n",
       "\n",
       "    .dataframe thead th {\n",
       "        text-align: right;\n",
       "    }\n",
       "</style>\n",
       "<table border=\"1\" class=\"dataframe\">\n",
       "  <thead>\n",
       "    <tr style=\"text-align: right;\">\n",
       "      <th></th>\n",
       "      <th>item_count</th>\n",
       "    </tr>\n",
       "  </thead>\n",
       "  <tbody>\n",
       "    <tr>\n",
       "      <th>count</th>\n",
       "      <td>37722.000000</td>\n",
       "    </tr>\n",
       "    <tr>\n",
       "      <th>mean</th>\n",
       "      <td>1.837973</td>\n",
       "    </tr>\n",
       "    <tr>\n",
       "      <th>std</th>\n",
       "      <td>6.882063</td>\n",
       "    </tr>\n",
       "    <tr>\n",
       "      <th>min</th>\n",
       "      <td>1.000000</td>\n",
       "    </tr>\n",
       "    <tr>\n",
       "      <th>25%</th>\n",
       "      <td>1.000000</td>\n",
       "    </tr>\n",
       "    <tr>\n",
       "      <th>50%</th>\n",
       "      <td>1.000000</td>\n",
       "    </tr>\n",
       "    <tr>\n",
       "      <th>75%</th>\n",
       "      <td>1.000000</td>\n",
       "    </tr>\n",
       "    <tr>\n",
       "      <th>max</th>\n",
       "      <td>719.000000</td>\n",
       "    </tr>\n",
       "  </tbody>\n",
       "</table>\n",
       "</div>"
      ],
      "text/plain": [
       "         item_count\n",
       "count  37722.000000\n",
       "mean       1.837973\n",
       "std        6.882063\n",
       "min        1.000000\n",
       "25%        1.000000\n",
       "50%        1.000000\n",
       "75%        1.000000\n",
       "max      719.000000"
      ]
     },
     "execution_count": 54,
     "metadata": {},
     "output_type": "execute_result"
    }
   ],
   "source": [
    "# Посмотрим на распределение по квантилям\n",
    "target_boxplot.describe()"
   ]
  },
  {
   "cell_type": "markdown",
   "metadata": {},
   "source": [
    "Распределение количества целевых действий по пользовтелям имеет длинный \"хвост\" - распределение смещено к значению 1 (добавление одного товара в корзину одним пользователем). Встречаются также очень большые значения от 100 до 700 добавлений товаров в корзину одни пользователем. Поскольку физически такое поведение пользователя возможно, удалять выбросы не будем."
   ]
  },
  {
   "cell_type": "code",
   "execution_count": 55,
   "metadata": {},
   "outputs": [],
   "source": [
    "# Далее посмотрим на топ популярных товаров\n",
    "top_10_items = events.groupby('item_id').agg(user_id_count = ('user_id', 'nunique'))\\\n",
    "                                                .sort_values('user_id_count', ascending=False)\\\n",
    "                                                .reset_index().head(10)"
   ]
  },
  {
   "cell_type": "code",
   "execution_count": 56,
   "metadata": {},
   "outputs": [
    {
     "data": {
      "text/html": [
       "<div>\n",
       "<style scoped>\n",
       "    .dataframe tbody tr th:only-of-type {\n",
       "        vertical-align: middle;\n",
       "    }\n",
       "\n",
       "    .dataframe tbody tr th {\n",
       "        vertical-align: top;\n",
       "    }\n",
       "\n",
       "    .dataframe thead th {\n",
       "        text-align: right;\n",
       "    }\n",
       "</style>\n",
       "<table border=\"1\" class=\"dataframe\">\n",
       "  <thead>\n",
       "    <tr style=\"text-align: right;\">\n",
       "      <th></th>\n",
       "      <th>item_id</th>\n",
       "      <th>user_id_count</th>\n",
       "    </tr>\n",
       "  </thead>\n",
       "  <tbody>\n",
       "    <tr>\n",
       "      <th>0</th>\n",
       "      <td>187946</td>\n",
       "      <td>2912</td>\n",
       "    </tr>\n",
       "    <tr>\n",
       "      <th>1</th>\n",
       "      <td>5411</td>\n",
       "      <td>2079</td>\n",
       "    </tr>\n",
       "    <tr>\n",
       "      <th>2</th>\n",
       "      <td>370653</td>\n",
       "      <td>1577</td>\n",
       "    </tr>\n",
       "    <tr>\n",
       "      <th>3</th>\n",
       "      <td>461686</td>\n",
       "      <td>1393</td>\n",
       "    </tr>\n",
       "    <tr>\n",
       "      <th>4</th>\n",
       "      <td>219512</td>\n",
       "      <td>1370</td>\n",
       "    </tr>\n",
       "    <tr>\n",
       "      <th>5</th>\n",
       "      <td>96924</td>\n",
       "      <td>1359</td>\n",
       "    </tr>\n",
       "    <tr>\n",
       "      <th>6</th>\n",
       "      <td>298009</td>\n",
       "      <td>1342</td>\n",
       "    </tr>\n",
       "    <tr>\n",
       "      <th>7</th>\n",
       "      <td>335975</td>\n",
       "      <td>1154</td>\n",
       "    </tr>\n",
       "    <tr>\n",
       "      <th>8</th>\n",
       "      <td>384302</td>\n",
       "      <td>1154</td>\n",
       "    </tr>\n",
       "    <tr>\n",
       "      <th>9</th>\n",
       "      <td>151444</td>\n",
       "      <td>1103</td>\n",
       "    </tr>\n",
       "  </tbody>\n",
       "</table>\n",
       "</div>"
      ],
      "text/plain": [
       "   item_id  user_id_count\n",
       "0   187946           2912\n",
       "1     5411           2079\n",
       "2   370653           1577\n",
       "3   461686           1393\n",
       "4   219512           1370\n",
       "5    96924           1359\n",
       "6   298009           1342\n",
       "7   335975           1154\n",
       "8   384302           1154\n",
       "9   151444           1103"
      ]
     },
     "execution_count": 56,
     "metadata": {},
     "output_type": "execute_result"
    }
   ],
   "source": [
    "# Посмотрим на id товаров\n",
    "top_10_items"
   ]
  },
  {
   "cell_type": "markdown",
   "metadata": {},
   "source": [
    "Поскольку расшифровки нет, невозможно понять, какие товары самые популярные. Однако можно заметить, что среди популярных товаров разброс числа пользователей, повзаимодействовавших (просмотренных, поскольку данный тип событий преобладает) с товаров распределен равномерно."
   ]
  },
  {
   "cell_type": "code",
   "execution_count": 57,
   "metadata": {},
   "outputs": [],
   "source": [
    "# Далее посмотрим на топ популярных товаров, которые были добавлены в корзину\n",
    "top_10_items_target = events[events['target']==1].groupby('item_id').agg(user_id_count = ('user_id', 'nunique'))\\\n",
    "                                                 .sort_values('user_id_count', ascending=False)\\\n",
    "                                                 .reset_index().head(10)"
   ]
  },
  {
   "cell_type": "code",
   "execution_count": 58,
   "metadata": {},
   "outputs": [
    {
     "data": {
      "text/html": [
       "<div>\n",
       "<style scoped>\n",
       "    .dataframe tbody tr th:only-of-type {\n",
       "        vertical-align: middle;\n",
       "    }\n",
       "\n",
       "    .dataframe tbody tr th {\n",
       "        vertical-align: top;\n",
       "    }\n",
       "\n",
       "    .dataframe thead th {\n",
       "        text-align: right;\n",
       "    }\n",
       "</style>\n",
       "<table border=\"1\" class=\"dataframe\">\n",
       "  <thead>\n",
       "    <tr style=\"text-align: right;\">\n",
       "      <th></th>\n",
       "      <th>item_id</th>\n",
       "      <th>user_id_count</th>\n",
       "    </tr>\n",
       "  </thead>\n",
       "  <tbody>\n",
       "    <tr>\n",
       "      <th>0</th>\n",
       "      <td>461686</td>\n",
       "      <td>267</td>\n",
       "    </tr>\n",
       "    <tr>\n",
       "      <th>1</th>\n",
       "      <td>320130</td>\n",
       "      <td>131</td>\n",
       "    </tr>\n",
       "    <tr>\n",
       "      <th>2</th>\n",
       "      <td>312728</td>\n",
       "      <td>129</td>\n",
       "    </tr>\n",
       "    <tr>\n",
       "      <th>3</th>\n",
       "      <td>409804</td>\n",
       "      <td>128</td>\n",
       "    </tr>\n",
       "    <tr>\n",
       "      <th>4</th>\n",
       "      <td>29196</td>\n",
       "      <td>101</td>\n",
       "    </tr>\n",
       "    <tr>\n",
       "      <th>5</th>\n",
       "      <td>7943</td>\n",
       "      <td>87</td>\n",
       "    </tr>\n",
       "    <tr>\n",
       "      <th>6</th>\n",
       "      <td>48030</td>\n",
       "      <td>85</td>\n",
       "    </tr>\n",
       "    <tr>\n",
       "      <th>7</th>\n",
       "      <td>441852</td>\n",
       "      <td>82</td>\n",
       "    </tr>\n",
       "    <tr>\n",
       "      <th>8</th>\n",
       "      <td>445351</td>\n",
       "      <td>80</td>\n",
       "    </tr>\n",
       "    <tr>\n",
       "      <th>9</th>\n",
       "      <td>257040</td>\n",
       "      <td>79</td>\n",
       "    </tr>\n",
       "  </tbody>\n",
       "</table>\n",
       "</div>"
      ],
      "text/plain": [
       "   item_id  user_id_count\n",
       "0   461686            267\n",
       "1   320130            131\n",
       "2   312728            129\n",
       "3   409804            128\n",
       "4    29196            101\n",
       "5     7943             87\n",
       "6    48030             85\n",
       "7   441852             82\n",
       "8   445351             80\n",
       "9   257040             79"
      ]
     },
     "execution_count": 58,
     "metadata": {},
     "output_type": "execute_result"
    }
   ],
   "source": [
    "# Посмотрим на id товаров\n",
    "top_10_items_target"
   ]
  },
  {
   "cell_type": "markdown",
   "metadata": {},
   "source": [
    "Можно заметить, что топ просмотренных и топ добавленных в корзину товаров не совпадает (только один товар совпал с id 461686). Далее добавим к взаимодействиям свойства товаров."
   ]
  },
  {
   "cell_type": "code",
   "execution_count": 60,
   "metadata": {},
   "outputs": [
    {
     "data": {
      "text/plain": [
       "property\n",
       "790           758982\n",
       "888           576145\n",
       "available     484054\n",
       "categoryid    442432\n",
       "283           428643\n",
       "6             422256\n",
       "678           420884\n",
       "364           420568\n",
       "776           417337\n",
       "764           417053\n",
       "159           417053\n",
       "112           417053\n",
       "202           416446\n",
       "917           416235\n",
       "839           398013\n",
       "227           329360\n",
       "698           275717\n",
       "689           211971\n",
       "28            170106\n",
       "928           150838\n",
       "Name: item_id, dtype: int64"
      ]
     },
     "execution_count": 60,
     "metadata": {},
     "output_type": "execute_result"
    }
   ],
   "source": [
    "# Посмотрим на поплуряные признаки товаров\n",
    "items.groupby('property')['item_id'].count().sort_values(ascending=False).head(20)"
   ]
  },
  {
   "cell_type": "code",
   "execution_count": 61,
   "metadata": {},
   "outputs": [
    {
     "data": {
      "text/html": [
       "<div>\n",
       "<style scoped>\n",
       "    .dataframe tbody tr th:only-of-type {\n",
       "        vertical-align: middle;\n",
       "    }\n",
       "\n",
       "    .dataframe tbody tr th {\n",
       "        vertical-align: top;\n",
       "    }\n",
       "\n",
       "    .dataframe thead th {\n",
       "        text-align: right;\n",
       "    }\n",
       "</style>\n",
       "<table border=\"1\" class=\"dataframe\">\n",
       "  <thead>\n",
       "    <tr style=\"text-align: right;\">\n",
       "      <th></th>\n",
       "      <th>timestamp</th>\n",
       "      <th>item_id</th>\n",
       "      <th>property</th>\n",
       "      <th>value</th>\n",
       "    </tr>\n",
       "  </thead>\n",
       "  <tbody>\n",
       "    <tr>\n",
       "      <th>340657</th>\n",
       "      <td>2015-05-10 03:00</td>\n",
       "      <td>59481</td>\n",
       "      <td>available</td>\n",
       "      <td>1</td>\n",
       "    </tr>\n",
       "    <tr>\n",
       "      <th>340658</th>\n",
       "      <td>2015-05-10 03:00</td>\n",
       "      <td>59481</td>\n",
       "      <td>1032</td>\n",
       "      <td>769062</td>\n",
       "    </tr>\n",
       "    <tr>\n",
       "      <th>340659</th>\n",
       "      <td>2015-05-10 03:00</td>\n",
       "      <td>59481</td>\n",
       "      <td>764</td>\n",
       "      <td>1285872</td>\n",
       "    </tr>\n",
       "    <tr>\n",
       "      <th>2756932</th>\n",
       "      <td>2015-05-17 03:00</td>\n",
       "      <td>59481</td>\n",
       "      <td>678</td>\n",
       "      <td>367680</td>\n",
       "    </tr>\n",
       "    <tr>\n",
       "      <th>2756933</th>\n",
       "      <td>2015-05-17 03:00</td>\n",
       "      <td>59481</td>\n",
       "      <td>776</td>\n",
       "      <td>819423</td>\n",
       "    </tr>\n",
       "    <tr>\n",
       "      <th>3495069</th>\n",
       "      <td>2015-05-24 03:00</td>\n",
       "      <td>59481</td>\n",
       "      <td>6</td>\n",
       "      <td>125236</td>\n",
       "    </tr>\n",
       "    <tr>\n",
       "      <th>3495070</th>\n",
       "      <td>2015-05-24 03:00</td>\n",
       "      <td>59481</td>\n",
       "      <td>839</td>\n",
       "      <td>367680</td>\n",
       "    </tr>\n",
       "    <tr>\n",
       "      <th>3495071</th>\n",
       "      <td>2015-05-24 03:00</td>\n",
       "      <td>59481</td>\n",
       "      <td>178</td>\n",
       "      <td>769062</td>\n",
       "    </tr>\n",
       "    <tr>\n",
       "      <th>3495072</th>\n",
       "      <td>2015-05-24 03:00</td>\n",
       "      <td>59481</td>\n",
       "      <td>227</td>\n",
       "      <td>125236</td>\n",
       "    </tr>\n",
       "    <tr>\n",
       "      <th>4957031</th>\n",
       "      <td>2015-05-31 03:00</td>\n",
       "      <td>59481</td>\n",
       "      <td>431</td>\n",
       "      <td>341968</td>\n",
       "    </tr>\n",
       "    <tr>\n",
       "      <th>4957032</th>\n",
       "      <td>2015-05-31 03:00</td>\n",
       "      <td>59481</td>\n",
       "      <td>550</td>\n",
       "      <td>769062</td>\n",
       "    </tr>\n",
       "    <tr>\n",
       "      <th>4957033</th>\n",
       "      <td>2015-05-31 03:00</td>\n",
       "      <td>59481</td>\n",
       "      <td>112</td>\n",
       "      <td>679677</td>\n",
       "    </tr>\n",
       "    <tr>\n",
       "      <th>4957034</th>\n",
       "      <td>2015-05-31 03:00</td>\n",
       "      <td>59481</td>\n",
       "      <td>202</td>\n",
       "      <td>401920</td>\n",
       "    </tr>\n",
       "    <tr>\n",
       "      <th>4957035</th>\n",
       "      <td>2015-05-31 03:00</td>\n",
       "      <td>59481</td>\n",
       "      <td>0</td>\n",
       "      <td>769062</td>\n",
       "    </tr>\n",
       "    <tr>\n",
       "      <th>4957036</th>\n",
       "      <td>2015-05-31 03:00</td>\n",
       "      <td>59481</td>\n",
       "      <td>181</td>\n",
       "      <td>1206517</td>\n",
       "    </tr>\n",
       "    <tr>\n",
       "      <th>4957037</th>\n",
       "      <td>2015-05-31 03:00</td>\n",
       "      <td>59481</td>\n",
       "      <td>456</td>\n",
       "      <td>769062</td>\n",
       "    </tr>\n",
       "    <tr>\n",
       "      <th>4957038</th>\n",
       "      <td>2015-05-31 03:00</td>\n",
       "      <td>59481</td>\n",
       "      <td>159</td>\n",
       "      <td>519769</td>\n",
       "    </tr>\n",
       "    <tr>\n",
       "      <th>6991613</th>\n",
       "      <td>2015-06-07 03:00</td>\n",
       "      <td>59481</td>\n",
       "      <td>815</td>\n",
       "      <td>584074 1284577 285725</td>\n",
       "    </tr>\n",
       "    <tr>\n",
       "      <th>6991614</th>\n",
       "      <td>2015-06-07 03:00</td>\n",
       "      <td>59481</td>\n",
       "      <td>283</td>\n",
       "      <td>125236 367680 401920 341968</td>\n",
       "    </tr>\n",
       "    <tr>\n",
       "      <th>6991615</th>\n",
       "      <td>2015-06-07 03:00</td>\n",
       "      <td>59481</td>\n",
       "      <td>969</td>\n",
       "      <td>769062</td>\n",
       "    </tr>\n",
       "    <tr>\n",
       "      <th>6991616</th>\n",
       "      <td>2015-06-07 03:00</td>\n",
       "      <td>59481</td>\n",
       "      <td>698</td>\n",
       "      <td>125236</td>\n",
       "    </tr>\n",
       "    <tr>\n",
       "      <th>8092430</th>\n",
       "      <td>2015-06-14 03:00</td>\n",
       "      <td>59481</td>\n",
       "      <td>790</td>\n",
       "      <td>n15360.000</td>\n",
       "    </tr>\n",
       "    <tr>\n",
       "      <th>8596040</th>\n",
       "      <td>2015-06-28 03:00</td>\n",
       "      <td>59481</td>\n",
       "      <td>790</td>\n",
       "      <td>n12960.000</td>\n",
       "    </tr>\n",
       "    <tr>\n",
       "      <th>8596041</th>\n",
       "      <td>2015-06-28 03:00</td>\n",
       "      <td>59481</td>\n",
       "      <td>120</td>\n",
       "      <td>769062</td>\n",
       "    </tr>\n",
       "    <tr>\n",
       "      <th>8596042</th>\n",
       "      <td>2015-06-28 03:00</td>\n",
       "      <td>59481</td>\n",
       "      <td>978</td>\n",
       "      <td>769062</td>\n",
       "    </tr>\n",
       "    <tr>\n",
       "      <th>8596043</th>\n",
       "      <td>2015-06-28 03:00</td>\n",
       "      <td>59481</td>\n",
       "      <td>917</td>\n",
       "      <td>401920</td>\n",
       "    </tr>\n",
       "    <tr>\n",
       "      <th>8596044</th>\n",
       "      <td>2015-06-28 03:00</td>\n",
       "      <td>59481</td>\n",
       "      <td>categoryid</td>\n",
       "      <td>498</td>\n",
       "    </tr>\n",
       "    <tr>\n",
       "      <th>8596045</th>\n",
       "      <td>2015-06-28 03:00</td>\n",
       "      <td>59481</td>\n",
       "      <td>364</td>\n",
       "      <td>820466</td>\n",
       "    </tr>\n",
       "    <tr>\n",
       "      <th>10287124</th>\n",
       "      <td>2015-07-05 03:00</td>\n",
       "      <td>59481</td>\n",
       "      <td>790</td>\n",
       "      <td>n12840.000</td>\n",
       "    </tr>\n",
       "    <tr>\n",
       "      <th>10909683</th>\n",
       "      <td>2015-08-16 03:00</td>\n",
       "      <td>59481</td>\n",
       "      <td>28</td>\n",
       "      <td>150169 274770 79212</td>\n",
       "    </tr>\n",
       "    <tr>\n",
       "      <th>10909684</th>\n",
       "      <td>2015-08-16 03:00</td>\n",
       "      <td>59481</td>\n",
       "      <td>689</td>\n",
       "      <td>150169 274770 79212</td>\n",
       "    </tr>\n",
       "    <tr>\n",
       "      <th>10909685</th>\n",
       "      <td>2015-08-16 03:00</td>\n",
       "      <td>59481</td>\n",
       "      <td>76</td>\n",
       "      <td>769062</td>\n",
       "    </tr>\n",
       "    <tr>\n",
       "      <th>11811900</th>\n",
       "      <td>2015-08-23 03:00</td>\n",
       "      <td>59481</td>\n",
       "      <td>790</td>\n",
       "      <td>n11760.000</td>\n",
       "    </tr>\n",
       "    <tr>\n",
       "      <th>11928763</th>\n",
       "      <td>2015-08-30 03:00</td>\n",
       "      <td>59481</td>\n",
       "      <td>591</td>\n",
       "      <td>1116693</td>\n",
       "    </tr>\n",
       "    <tr>\n",
       "      <th>11928764</th>\n",
       "      <td>2015-08-30 03:00</td>\n",
       "      <td>59481</td>\n",
       "      <td>888</td>\n",
       "      <td>401920 367680</td>\n",
       "    </tr>\n",
       "    <tr>\n",
       "      <th>12270226</th>\n",
       "      <td>2015-09-13 03:00</td>\n",
       "      <td>59481</td>\n",
       "      <td>790</td>\n",
       "      <td>n12720.000</td>\n",
       "    </tr>\n",
       "    <tr>\n",
       "      <th>12270227</th>\n",
       "      <td>2015-09-13 03:00</td>\n",
       "      <td>59481</td>\n",
       "      <td>888</td>\n",
       "      <td>401920</td>\n",
       "    </tr>\n",
       "    <tr>\n",
       "      <th>12270228</th>\n",
       "      <td>2015-09-13 03:00</td>\n",
       "      <td>59481</td>\n",
       "      <td>categoryid</td>\n",
       "      <td>256</td>\n",
       "    </tr>\n",
       "  </tbody>\n",
       "</table>\n",
       "</div>"
      ],
      "text/plain": [
       "                 timestamp  item_id    property                        value\n",
       "340657    2015-05-10 03:00    59481   available                            1\n",
       "340658    2015-05-10 03:00    59481        1032                       769062\n",
       "340659    2015-05-10 03:00    59481         764                      1285872\n",
       "2756932   2015-05-17 03:00    59481         678                       367680\n",
       "2756933   2015-05-17 03:00    59481         776                       819423\n",
       "3495069   2015-05-24 03:00    59481           6                       125236\n",
       "3495070   2015-05-24 03:00    59481         839                       367680\n",
       "3495071   2015-05-24 03:00    59481         178                       769062\n",
       "3495072   2015-05-24 03:00    59481         227                       125236\n",
       "4957031   2015-05-31 03:00    59481         431                       341968\n",
       "4957032   2015-05-31 03:00    59481         550                       769062\n",
       "4957033   2015-05-31 03:00    59481         112                       679677\n",
       "4957034   2015-05-31 03:00    59481         202                       401920\n",
       "4957035   2015-05-31 03:00    59481           0                       769062\n",
       "4957036   2015-05-31 03:00    59481         181                      1206517\n",
       "4957037   2015-05-31 03:00    59481         456                       769062\n",
       "4957038   2015-05-31 03:00    59481         159                       519769\n",
       "6991613   2015-06-07 03:00    59481         815        584074 1284577 285725\n",
       "6991614   2015-06-07 03:00    59481         283  125236 367680 401920 341968\n",
       "6991615   2015-06-07 03:00    59481         969                       769062\n",
       "6991616   2015-06-07 03:00    59481         698                       125236\n",
       "8092430   2015-06-14 03:00    59481         790                   n15360.000\n",
       "8596040   2015-06-28 03:00    59481         790                   n12960.000\n",
       "8596041   2015-06-28 03:00    59481         120                       769062\n",
       "8596042   2015-06-28 03:00    59481         978                       769062\n",
       "8596043   2015-06-28 03:00    59481         917                       401920\n",
       "8596044   2015-06-28 03:00    59481  categoryid                          498\n",
       "8596045   2015-06-28 03:00    59481         364                       820466\n",
       "10287124  2015-07-05 03:00    59481         790                   n12840.000\n",
       "10909683  2015-08-16 03:00    59481          28          150169 274770 79212\n",
       "10909684  2015-08-16 03:00    59481         689          150169 274770 79212\n",
       "10909685  2015-08-16 03:00    59481          76                       769062\n",
       "11811900  2015-08-23 03:00    59481         790                   n11760.000\n",
       "11928763  2015-08-30 03:00    59481         591                      1116693\n",
       "11928764  2015-08-30 03:00    59481         888                401920 367680\n",
       "12270226  2015-09-13 03:00    59481         790                   n12720.000\n",
       "12270227  2015-09-13 03:00    59481         888                       401920\n",
       "12270228  2015-09-13 03:00    59481  categoryid                          256"
      ]
     },
     "execution_count": 61,
     "metadata": {},
     "output_type": "execute_result"
    }
   ],
   "source": [
    "# Посмотрим на значения свойств для случайного товара\n",
    "items[items['item_id']==59481].drop_duplicates(subset=['property', 'value'])"
   ]
  },
  {
   "cell_type": "markdown",
   "metadata": {},
   "source": [
    "Непонятно, если среди признаков какой-то рейтинг или цена. Можно выделить признаки, значения которых есть для всех товаров и далее использовать их для построения рекомендаций. Вынесем их в отдельный список."
   ]
  },
  {
   "cell_type": "code",
   "execution_count": 62,
   "metadata": {},
   "outputs": [
    {
     "name": "stdout",
     "output_type": "stream",
     "text": [
      "Количество уникальных товаров с выбранными признакми: 417053\n",
      "Количество уникальных товаров: 417053\n"
     ]
    }
   ],
   "source": [
    "pr = ['790',          \n",
    "'888',         \n",
    "'available', \n",
    "'categoryid',    \n",
    "'283',     \n",
    "'6',     \n",
    "'678',  \n",
    "'364', \n",
    "'776',    \n",
    "'764',    \n",
    "'159',   \n",
    "'112']\n",
    "\n",
    "print(f\"Количество уникальных товаров с выбранными признакми: {items[items['property'].isin(pr)]['item_id'].nunique()}\")\n",
    "print(f\"Количество уникальных товаров: {items['item_id'].nunique()}\")"
   ]
  },
  {
   "cell_type": "markdown",
   "metadata": {},
   "source": [
    "Далее вынесем отобранные признаки в отдельные столбцы."
   ]
  },
  {
   "cell_type": "code",
   "execution_count": 63,
   "metadata": {},
   "outputs": [],
   "source": [
    "# Вынесем отдельно список с популярными своцствами товаров\n",
    "pr = ['available', 'categoryid', '790', '888', '283', '6', '678', '364', '776', '764', '159', '112']\n",
    "\n",
    "# Создание списка для хранения новых DataFrame\n",
    "dfs = []\n",
    "\n",
    "# Проходим по каждому элементу из списка pr\n",
    "for prop in pr:\n",
    "    # Фильтруем DataFrame items по свойству\n",
    "    filtered_items = items[items['property'] == prop].rename(columns={'value': prop}).reset_index(drop=True)\n",
    "    filtered_items = filtered_items[['item_id', prop]]\n",
    "    dfs.append(filtered_items)\n",
    "\n",
    "# Объединяем все DataFrame в один, оставим последнее по дате изменение\n",
    "items_top_properties = pd.concat(dfs, axis=0).groupby('item_id', as_index=False).last()"
   ]
  },
  {
   "cell_type": "code",
   "execution_count": 64,
   "metadata": {},
   "outputs": [
    {
     "name": "stdout",
     "output_type": "stream",
     "text": [
      "<class 'pandas.core.frame.DataFrame'>\n",
      "RangeIndex: 417053 entries, 0 to 417052\n",
      "Data columns (total 13 columns):\n",
      " #   Column      Non-Null Count   Dtype \n",
      "---  ------      --------------   ----- \n",
      " 0   item_id     417053 non-null  int64 \n",
      " 1   available   417053 non-null  object\n",
      " 2   categoryid  417053 non-null  object\n",
      " 3   790         417053 non-null  object\n",
      " 4   888         417053 non-null  object\n",
      " 5   283         417053 non-null  object\n",
      " 6   6           409065 non-null  object\n",
      " 7   678         417019 non-null  object\n",
      " 8   364         417053 non-null  object\n",
      " 9   776         407305 non-null  object\n",
      " 10  764         417053 non-null  object\n",
      " 11  159         417053 non-null  object\n",
      " 12  112         417053 non-null  object\n",
      "dtypes: int64(1), object(12)\n",
      "memory usage: 41.4+ MB\n"
     ]
    }
   ],
   "source": [
    "# Проверим пропуски\n",
    "items_top_properties.info()"
   ]
  },
  {
   "cell_type": "markdown",
   "metadata": {},
   "source": [
    "Некоторые признаки остались незаполненными, пока оставим как есть. Далее добавим отобранные свойства к датасету с взаимодействиями."
   ]
  },
  {
   "cell_type": "code",
   "execution_count": 65,
   "metadata": {},
   "outputs": [
    {
     "name": "stdout",
     "output_type": "stream",
     "text": [
      "Количество строк с взаимодействиями: 2756101\n",
      "Количество строк без описаний товаров: 255585\n"
     ]
    }
   ],
   "source": [
    "# Проверим, для всех ли товаров из датасета с взаимодействиями есть свойства товаров\n",
    "items_list = items_top_properties['item_id'].unique()\n",
    "\n",
    "print(f\"Количество строк с взаимодействиями: {events.shape[0]}\")\n",
    "print(f\"Количество строк без описаний товаров: {events[~events['item_id'].isin(items_list)].shape[0]}\")"
   ]
  },
  {
   "cell_type": "markdown",
   "metadata": {},
   "source": [
    "Примерно 10% строк останется без признаков со свойствами товаров. Необходимо их удалить."
   ]
  },
  {
   "cell_type": "code",
   "execution_count": 66,
   "metadata": {},
   "outputs": [],
   "source": [
    "# Удалим товары без свойств\n",
    "events = events[events['item_id'].isin(items_list)].reset_index(drop=True)"
   ]
  },
  {
   "cell_type": "code",
   "execution_count": 67,
   "metadata": {},
   "outputs": [],
   "source": [
    "# Присоединим признаки\n",
    "events_prop = events.merge(items_top_properties, on='item_id', how='left')"
   ]
  },
  {
   "cell_type": "code",
   "execution_count": 68,
   "metadata": {},
   "outputs": [
    {
     "data": {
      "text/html": [
       "<div>\n",
       "<style scoped>\n",
       "    .dataframe tbody tr th:only-of-type {\n",
       "        vertical-align: middle;\n",
       "    }\n",
       "\n",
       "    .dataframe tbody tr th {\n",
       "        vertical-align: top;\n",
       "    }\n",
       "\n",
       "    .dataframe thead th {\n",
       "        text-align: right;\n",
       "    }\n",
       "</style>\n",
       "<table border=\"1\" class=\"dataframe\">\n",
       "  <thead>\n",
       "    <tr style=\"text-align: right;\">\n",
       "      <th></th>\n",
       "      <th>timestamp</th>\n",
       "      <th>user_id</th>\n",
       "      <th>event</th>\n",
       "      <th>item_id</th>\n",
       "      <th>transactionid</th>\n",
       "      <th>istransaction</th>\n",
       "      <th>target</th>\n",
       "      <th>day_of_week</th>\n",
       "      <th>day</th>\n",
       "      <th>hour</th>\n",
       "      <th>...</th>\n",
       "      <th>790</th>\n",
       "      <th>888</th>\n",
       "      <th>283</th>\n",
       "      <th>6</th>\n",
       "      <th>678</th>\n",
       "      <th>364</th>\n",
       "      <th>776</th>\n",
       "      <th>764</th>\n",
       "      <th>159</th>\n",
       "      <th>112</th>\n",
       "    </tr>\n",
       "  </thead>\n",
       "  <tbody>\n",
       "    <tr>\n",
       "      <th>1834477</th>\n",
       "      <td>2015-05-30 03:21:00</td>\n",
       "      <td>415305</td>\n",
       "      <td>view</td>\n",
       "      <td>203201</td>\n",
       "      <td>0</td>\n",
       "      <td>0</td>\n",
       "      <td>0</td>\n",
       "      <td>5</td>\n",
       "      <td>30</td>\n",
       "      <td>3</td>\n",
       "      <td>...</td>\n",
       "      <td>n2760.000</td>\n",
       "      <td>821488</td>\n",
       "      <td>868402 1016879 1205306 1275486 821488 1016879 ...</td>\n",
       "      <td>868402 1016879</td>\n",
       "      <td>1205306 1275486</td>\n",
       "      <td>975468</td>\n",
       "      <td>729364</td>\n",
       "      <td>1285872</td>\n",
       "      <td>519769</td>\n",
       "      <td>679677</td>\n",
       "    </tr>\n",
       "    <tr>\n",
       "      <th>533694</th>\n",
       "      <td>2015-06-29 17:42:00</td>\n",
       "      <td>1150086</td>\n",
       "      <td>view</td>\n",
       "      <td>324290</td>\n",
       "      <td>0</td>\n",
       "      <td>0</td>\n",
       "      <td>0</td>\n",
       "      <td>0</td>\n",
       "      <td>29</td>\n",
       "      <td>17</td>\n",
       "      <td>...</td>\n",
       "      <td>n7320.000</td>\n",
       "      <td>429862 n3600.000 504419</td>\n",
       "      <td>639021 763949 429862 n3600.000 504419 763949 8...</td>\n",
       "      <td>639021</td>\n",
       "      <td>763949</td>\n",
       "      <td>409983</td>\n",
       "      <td>989192</td>\n",
       "      <td>1285872</td>\n",
       "      <td>519769</td>\n",
       "      <td>679677</td>\n",
       "    </tr>\n",
       "    <tr>\n",
       "      <th>2255268</th>\n",
       "      <td>2015-07-21 03:37:00</td>\n",
       "      <td>1237699</td>\n",
       "      <td>view</td>\n",
       "      <td>172894</td>\n",
       "      <td>0</td>\n",
       "      <td>0</td>\n",
       "      <td>0</td>\n",
       "      <td>1</td>\n",
       "      <td>21</td>\n",
       "      <td>3</td>\n",
       "      <td>...</td>\n",
       "      <td>n36240.000</td>\n",
       "      <td>1084196 1328698 206386</td>\n",
       "      <td>668584 65390 1084196 1328698 668584 65390 9766...</td>\n",
       "      <td>668584</td>\n",
       "      <td>65390</td>\n",
       "      <td>134</td>\n",
       "      <td>516501</td>\n",
       "      <td>1285872</td>\n",
       "      <td>519769</td>\n",
       "      <td>679677</td>\n",
       "    </tr>\n",
       "  </tbody>\n",
       "</table>\n",
       "<p>3 rows × 22 columns</p>\n",
       "</div>"
      ],
      "text/plain": [
       "                  timestamp  user_id event  item_id  transactionid  \\\n",
       "1834477 2015-05-30 03:21:00   415305  view   203201              0   \n",
       "533694  2015-06-29 17:42:00  1150086  view   324290              0   \n",
       "2255268 2015-07-21 03:37:00  1237699  view   172894              0   \n",
       "\n",
       "         istransaction  target  day_of_week  day  hour  ...         790  \\\n",
       "1834477              0       0            5   30     3  ...   n2760.000   \n",
       "533694               0       0            0   29    17  ...   n7320.000   \n",
       "2255268              0       0            1   21     3  ...  n36240.000   \n",
       "\n",
       "                             888  \\\n",
       "1834477                   821488   \n",
       "533694   429862 n3600.000 504419   \n",
       "2255268   1084196 1328698 206386   \n",
       "\n",
       "                                                       283               6  \\\n",
       "1834477  868402 1016879 1205306 1275486 821488 1016879 ...  868402 1016879   \n",
       "533694   639021 763949 429862 n3600.000 504419 763949 8...          639021   \n",
       "2255268  668584 65390 1084196 1328698 668584 65390 9766...          668584   \n",
       "\n",
       "                     678     364     776      764     159     112  \n",
       "1834477  1205306 1275486  975468  729364  1285872  519769  679677  \n",
       "533694            763949  409983  989192  1285872  519769  679677  \n",
       "2255268            65390     134  516501  1285872  519769  679677  \n",
       "\n",
       "[3 rows x 22 columns]"
      ]
     },
     "execution_count": 68,
     "metadata": {},
     "output_type": "execute_result"
    }
   ],
   "source": [
    "# Посмотрим на результат\n",
    "events_prop.sample(3)"
   ]
  },
  {
   "cell_type": "code",
   "execution_count": 69,
   "metadata": {},
   "outputs": [],
   "source": [
    "# Теперь можно присоединить датасет category_tree\n",
    "\n",
    "# Заполним категорию 0\n",
    "events_prop['categoryid'] = events_prop['categoryid'].fillna('0')\n",
    "\n",
    "# Преобразуем тип данных\n",
    "events_prop['categoryid'] = events_prop['categoryid'].astype('int')\n",
    "\n",
    "events_prop = events_prop.merge(category_tree, on='categoryid', how='left')"
   ]
  },
  {
   "cell_type": "markdown",
   "metadata": {},
   "source": [
    "Создадим собственный признак-рейтинг на основе частоты взаимодействий пользователей с товаром."
   ]
  },
  {
   "cell_type": "code",
   "execution_count": 70,
   "metadata": {},
   "outputs": [],
   "source": [
    "# Подсчет всех user_id с учетом просмотров и покупок\n",
    "events_prop['rating_count'] = events_prop.groupby('item_id')['user_id'].transform('count')\n",
    "\n",
    "# Отмасштабируем признак, чтобы оценки были в одной шкале\n",
    "scaler = MinMaxScaler()\n",
    "\n",
    "events_prop['rating'] = scaler.fit_transform(events_prop[['rating_count']])"
   ]
  },
  {
   "cell_type": "markdown",
   "metadata": {},
   "source": [
    "Полученные признаки больше похожи на эмбеддинги и требуют особой обработки. Если же попытаться категоризовать получившиеся признаки в привычную матрицу, столбцов получится слишком много. Поэтому ограничимся нексколькими признаками."
   ]
  },
  {
   "cell_type": "code",
   "execution_count": 71,
   "metadata": {},
   "outputs": [],
   "source": [
    "# Отберем необходимые признаки\n",
    "selected_columns = ['timestamp',\n",
    "                    'user_id',\n",
    "                    'item_id',\n",
    "                    'available',\n",
    "                    'categoryid',\n",
    "                    'parentid',\n",
    "                    'istransaction',\n",
    "                    'day_of_week',\n",
    "                    'day',\n",
    "                    'hour',\n",
    "                    'rating',\n",
    "                    'target']\n",
    "\n",
    "# Создадим итоговый датасет\n",
    "events_df = events_prop[selected_columns]"
   ]
  },
  {
   "cell_type": "markdown",
   "metadata": {},
   "source": [
    "Признак event тоже нет необходимости сохрянять, поскольку добавление в корзину отмечено в отдельном признаке - target, а покупка в istransaction, таким образом, все остальное - просмотры.  "
   ]
  },
  {
   "cell_type": "code",
   "execution_count": 72,
   "metadata": {},
   "outputs": [
    {
     "data": {
      "text/html": [
       "<div>\n",
       "<style scoped>\n",
       "    .dataframe tbody tr th:only-of-type {\n",
       "        vertical-align: middle;\n",
       "    }\n",
       "\n",
       "    .dataframe tbody tr th {\n",
       "        vertical-align: top;\n",
       "    }\n",
       "\n",
       "    .dataframe thead th {\n",
       "        text-align: right;\n",
       "    }\n",
       "</style>\n",
       "<table border=\"1\" class=\"dataframe\">\n",
       "  <thead>\n",
       "    <tr style=\"text-align: right;\">\n",
       "      <th></th>\n",
       "      <th>timestamp</th>\n",
       "      <th>user_id</th>\n",
       "      <th>item_id</th>\n",
       "      <th>available</th>\n",
       "      <th>categoryid</th>\n",
       "      <th>parentid</th>\n",
       "      <th>istransaction</th>\n",
       "      <th>day_of_week</th>\n",
       "      <th>day</th>\n",
       "      <th>hour</th>\n",
       "      <th>rating</th>\n",
       "      <th>target</th>\n",
       "    </tr>\n",
       "  </thead>\n",
       "  <tbody>\n",
       "    <tr>\n",
       "      <th>0</th>\n",
       "      <td>2015-06-02 05:02:00</td>\n",
       "      <td>257597</td>\n",
       "      <td>355908</td>\n",
       "      <td>1</td>\n",
       "      <td>1173</td>\n",
       "      <td>805.0</td>\n",
       "      <td>0</td>\n",
       "      <td>1</td>\n",
       "      <td>2</td>\n",
       "      <td>5</td>\n",
       "      <td>0.016417</td>\n",
       "      <td>0</td>\n",
       "    </tr>\n",
       "    <tr>\n",
       "      <th>1</th>\n",
       "      <td>2015-06-02 05:50:00</td>\n",
       "      <td>992329</td>\n",
       "      <td>248676</td>\n",
       "      <td>1</td>\n",
       "      <td>1231</td>\n",
       "      <td>901.0</td>\n",
       "      <td>0</td>\n",
       "      <td>1</td>\n",
       "      <td>2</td>\n",
       "      <td>5</td>\n",
       "      <td>0.009675</td>\n",
       "      <td>0</td>\n",
       "    </tr>\n",
       "    <tr>\n",
       "      <th>2</th>\n",
       "      <td>2015-06-02 05:12:00</td>\n",
       "      <td>483717</td>\n",
       "      <td>253185</td>\n",
       "      <td>0</td>\n",
       "      <td>914</td>\n",
       "      <td>226.0</td>\n",
       "      <td>0</td>\n",
       "      <td>1</td>\n",
       "      <td>2</td>\n",
       "      <td>5</td>\n",
       "      <td>0.003811</td>\n",
       "      <td>0</td>\n",
       "    </tr>\n",
       "    <tr>\n",
       "      <th>3</th>\n",
       "      <td>2015-06-02 05:02:00</td>\n",
       "      <td>951259</td>\n",
       "      <td>367447</td>\n",
       "      <td>0</td>\n",
       "      <td>491</td>\n",
       "      <td>679.0</td>\n",
       "      <td>0</td>\n",
       "      <td>1</td>\n",
       "      <td>2</td>\n",
       "      <td>5</td>\n",
       "      <td>0.075931</td>\n",
       "      <td>0</td>\n",
       "    </tr>\n",
       "    <tr>\n",
       "      <th>4</th>\n",
       "      <td>2015-06-02 05:48:00</td>\n",
       "      <td>972639</td>\n",
       "      <td>22556</td>\n",
       "      <td>0</td>\n",
       "      <td>1074</td>\n",
       "      <td>339.0</td>\n",
       "      <td>0</td>\n",
       "      <td>1</td>\n",
       "      <td>2</td>\n",
       "      <td>5</td>\n",
       "      <td>0.000586</td>\n",
       "      <td>0</td>\n",
       "    </tr>\n",
       "  </tbody>\n",
       "</table>\n",
       "</div>"
      ],
      "text/plain": [
       "            timestamp  user_id  item_id available  categoryid  parentid  \\\n",
       "0 2015-06-02 05:02:00   257597   355908         1        1173     805.0   \n",
       "1 2015-06-02 05:50:00   992329   248676         1        1231     901.0   \n",
       "2 2015-06-02 05:12:00   483717   253185         0         914     226.0   \n",
       "3 2015-06-02 05:02:00   951259   367447         0         491     679.0   \n",
       "4 2015-06-02 05:48:00   972639    22556         0        1074     339.0   \n",
       "\n",
       "   istransaction  day_of_week  day  hour    rating  target  \n",
       "0              0            1    2     5  0.016417       0  \n",
       "1              0            1    2     5  0.009675       0  \n",
       "2              0            1    2     5  0.003811       0  \n",
       "3              0            1    2     5  0.075931       0  \n",
       "4              0            1    2     5  0.000586       0  "
      ]
     },
     "execution_count": 72,
     "metadata": {},
     "output_type": "execute_result"
    }
   ],
   "source": [
    "# Посмотрим на итоговый датасет\n",
    "events_df.head(5)"
   ]
  },
  {
   "cell_type": "code",
   "execution_count": 73,
   "metadata": {},
   "outputs": [
    {
     "data": {
      "text/html": [
       "<div>\n",
       "<style scoped>\n",
       "    .dataframe tbody tr th:only-of-type {\n",
       "        vertical-align: middle;\n",
       "    }\n",
       "\n",
       "    .dataframe tbody tr th {\n",
       "        vertical-align: top;\n",
       "    }\n",
       "\n",
       "    .dataframe thead th {\n",
       "        text-align: right;\n",
       "    }\n",
       "</style>\n",
       "<table border=\"1\" class=\"dataframe\">\n",
       "  <thead>\n",
       "    <tr style=\"text-align: right;\">\n",
       "      <th></th>\n",
       "      <th>timestamp</th>\n",
       "      <th>user_id</th>\n",
       "      <th>item_id</th>\n",
       "      <th>available</th>\n",
       "      <th>categoryid</th>\n",
       "      <th>parentid</th>\n",
       "      <th>istransaction</th>\n",
       "      <th>day_of_week</th>\n",
       "      <th>day</th>\n",
       "      <th>hour</th>\n",
       "      <th>rating</th>\n",
       "      <th>target</th>\n",
       "    </tr>\n",
       "  </thead>\n",
       "  <tbody>\n",
       "    <tr>\n",
       "      <th>68296</th>\n",
       "      <td>2015-06-04 21:32:00</td>\n",
       "      <td>244230</td>\n",
       "      <td>187946</td>\n",
       "      <td>0</td>\n",
       "      <td>1393</td>\n",
       "      <td>1383.0</td>\n",
       "      <td>0</td>\n",
       "      <td>3</td>\n",
       "      <td>4</td>\n",
       "      <td>21</td>\n",
       "      <td>1.000000</td>\n",
       "      <td>0</td>\n",
       "    </tr>\n",
       "    <tr>\n",
       "      <th>5163</th>\n",
       "      <td>2015-06-01 17:23:00</td>\n",
       "      <td>1026179</td>\n",
       "      <td>461686</td>\n",
       "      <td>1</td>\n",
       "      <td>1037</td>\n",
       "      <td>402.0</td>\n",
       "      <td>0</td>\n",
       "      <td>0</td>\n",
       "      <td>1</td>\n",
       "      <td>17</td>\n",
       "      <td>0.872765</td>\n",
       "      <td>0</td>\n",
       "    </tr>\n",
       "    <tr>\n",
       "      <th>3096</th>\n",
       "      <td>2015-06-02 03:41:00</td>\n",
       "      <td>615875</td>\n",
       "      <td>5411</td>\n",
       "      <td>1</td>\n",
       "      <td>789</td>\n",
       "      <td>14.0</td>\n",
       "      <td>0</td>\n",
       "      <td>1</td>\n",
       "      <td>2</td>\n",
       "      <td>3</td>\n",
       "      <td>0.683964</td>\n",
       "      <td>0</td>\n",
       "    </tr>\n",
       "    <tr>\n",
       "      <th>1280</th>\n",
       "      <td>2015-06-01 13:07:00</td>\n",
       "      <td>1260217</td>\n",
       "      <td>370653</td>\n",
       "      <td>0</td>\n",
       "      <td>82</td>\n",
       "      <td>1125.0</td>\n",
       "      <td>0</td>\n",
       "      <td>0</td>\n",
       "      <td>1</td>\n",
       "      <td>13</td>\n",
       "      <td>0.543242</td>\n",
       "      <td>0</td>\n",
       "    </tr>\n",
       "    <tr>\n",
       "      <th>3413</th>\n",
       "      <td>2015-06-01 19:41:00</td>\n",
       "      <td>71037</td>\n",
       "      <td>219512</td>\n",
       "      <td>1</td>\n",
       "      <td>5</td>\n",
       "      <td>1637.0</td>\n",
       "      <td>0</td>\n",
       "      <td>0</td>\n",
       "      <td>1</td>\n",
       "      <td>19</td>\n",
       "      <td>0.527411</td>\n",
       "      <td>0</td>\n",
       "    </tr>\n",
       "    <tr>\n",
       "      <th>260</th>\n",
       "      <td>2015-06-01 21:22:00</td>\n",
       "      <td>463621</td>\n",
       "      <td>257040</td>\n",
       "      <td>0</td>\n",
       "      <td>683</td>\n",
       "      <td>1606.0</td>\n",
       "      <td>0</td>\n",
       "      <td>0</td>\n",
       "      <td>1</td>\n",
       "      <td>21</td>\n",
       "      <td>0.482556</td>\n",
       "      <td>0</td>\n",
       "    </tr>\n",
       "    <tr>\n",
       "      <th>1470</th>\n",
       "      <td>2015-06-01 17:24:00</td>\n",
       "      <td>24919</td>\n",
       "      <td>298009</td>\n",
       "      <td>0</td>\n",
       "      <td>529</td>\n",
       "      <td>623.0</td>\n",
       "      <td>0</td>\n",
       "      <td>0</td>\n",
       "      <td>1</td>\n",
       "      <td>17</td>\n",
       "      <td>0.481091</td>\n",
       "      <td>0</td>\n",
       "    </tr>\n",
       "    <tr>\n",
       "      <th>247</th>\n",
       "      <td>2015-06-01 20:58:00</td>\n",
       "      <td>945697</td>\n",
       "      <td>96924</td>\n",
       "      <td>0</td>\n",
       "      <td>56</td>\n",
       "      <td>1497.0</td>\n",
       "      <td>0</td>\n",
       "      <td>0</td>\n",
       "      <td>1</td>\n",
       "      <td>20</td>\n",
       "      <td>0.478452</td>\n",
       "      <td>0</td>\n",
       "    </tr>\n",
       "    <tr>\n",
       "      <th>2216</th>\n",
       "      <td>2015-06-01 20:33:00</td>\n",
       "      <td>645651</td>\n",
       "      <td>309778</td>\n",
       "      <td>0</td>\n",
       "      <td>683</td>\n",
       "      <td>1606.0</td>\n",
       "      <td>0</td>\n",
       "      <td>0</td>\n",
       "      <td>1</td>\n",
       "      <td>20</td>\n",
       "      <td>0.476986</td>\n",
       "      <td>0</td>\n",
       "    </tr>\n",
       "    <tr>\n",
       "      <th>7221</th>\n",
       "      <td>2015-06-01 19:44:00</td>\n",
       "      <td>1135594</td>\n",
       "      <td>384302</td>\n",
       "      <td>1</td>\n",
       "      <td>5</td>\n",
       "      <td>1637.0</td>\n",
       "      <td>0</td>\n",
       "      <td>0</td>\n",
       "      <td>1</td>\n",
       "      <td>19</td>\n",
       "      <td>0.471123</td>\n",
       "      <td>0</td>\n",
       "    </tr>\n",
       "  </tbody>\n",
       "</table>\n",
       "</div>"
      ],
      "text/plain": [
       "                timestamp  user_id  item_id available  categoryid  parentid  \\\n",
       "68296 2015-06-04 21:32:00   244230   187946         0        1393    1383.0   \n",
       "5163  2015-06-01 17:23:00  1026179   461686         1        1037     402.0   \n",
       "3096  2015-06-02 03:41:00   615875     5411         1         789      14.0   \n",
       "1280  2015-06-01 13:07:00  1260217   370653         0          82    1125.0   \n",
       "3413  2015-06-01 19:41:00    71037   219512         1           5    1637.0   \n",
       "260   2015-06-01 21:22:00   463621   257040         0         683    1606.0   \n",
       "1470  2015-06-01 17:24:00    24919   298009         0         529     623.0   \n",
       "247   2015-06-01 20:58:00   945697    96924         0          56    1497.0   \n",
       "2216  2015-06-01 20:33:00   645651   309778         0         683    1606.0   \n",
       "7221  2015-06-01 19:44:00  1135594   384302         1           5    1637.0   \n",
       "\n",
       "       istransaction  day_of_week  day  hour    rating  target  \n",
       "68296              0            3    4    21  1.000000       0  \n",
       "5163               0            0    1    17  0.872765       0  \n",
       "3096               0            1    2     3  0.683964       0  \n",
       "1280               0            0    1    13  0.543242       0  \n",
       "3413               0            0    1    19  0.527411       0  \n",
       "260                0            0    1    21  0.482556       0  \n",
       "1470               0            0    1    17  0.481091       0  \n",
       "247                0            0    1    20  0.478452       0  \n",
       "2216               0            0    1    20  0.476986       0  \n",
       "7221               0            0    1    19  0.471123       0  "
      ]
     },
     "execution_count": 73,
     "metadata": {},
     "output_type": "execute_result"
    }
   ],
   "source": [
    "# Выведем топ-10 товаров по рейтингу\n",
    "events_df.drop_duplicates(subset='item_id').sort_values('rating', ascending=False).head(10)"
   ]
  },
  {
   "cell_type": "code",
   "execution_count": 74,
   "metadata": {},
   "outputs": [
    {
     "data": {
      "text/html": [
       "<div>\n",
       "<style scoped>\n",
       "    .dataframe tbody tr th:only-of-type {\n",
       "        vertical-align: middle;\n",
       "    }\n",
       "\n",
       "    .dataframe tbody tr th {\n",
       "        vertical-align: top;\n",
       "    }\n",
       "\n",
       "    .dataframe thead th {\n",
       "        text-align: right;\n",
       "    }\n",
       "</style>\n",
       "<table border=\"1\" class=\"dataframe\">\n",
       "  <thead>\n",
       "    <tr style=\"text-align: right;\">\n",
       "      <th></th>\n",
       "      <th>timestamp</th>\n",
       "      <th>user_id</th>\n",
       "      <th>item_id</th>\n",
       "      <th>available</th>\n",
       "      <th>categoryid</th>\n",
       "      <th>parentid</th>\n",
       "      <th>istransaction</th>\n",
       "      <th>day_of_week</th>\n",
       "      <th>day</th>\n",
       "      <th>hour</th>\n",
       "      <th>rating</th>\n",
       "      <th>target</th>\n",
       "    </tr>\n",
       "  </thead>\n",
       "  <tbody>\n",
       "    <tr>\n",
       "      <th>551503</th>\n",
       "      <td>2015-06-30 19:06:00</td>\n",
       "      <td>755375</td>\n",
       "      <td>187946</td>\n",
       "      <td>0</td>\n",
       "      <td>1393</td>\n",
       "      <td>1383.0</td>\n",
       "      <td>0</td>\n",
       "      <td>1</td>\n",
       "      <td>30</td>\n",
       "      <td>19</td>\n",
       "      <td>1.000000</td>\n",
       "      <td>1</td>\n",
       "    </tr>\n",
       "    <tr>\n",
       "      <th>57104</th>\n",
       "      <td>2015-06-04 04:26:00</td>\n",
       "      <td>1259098</td>\n",
       "      <td>461686</td>\n",
       "      <td>1</td>\n",
       "      <td>1037</td>\n",
       "      <td>402.0</td>\n",
       "      <td>0</td>\n",
       "      <td>3</td>\n",
       "      <td>4</td>\n",
       "      <td>4</td>\n",
       "      <td>0.872765</td>\n",
       "      <td>1</td>\n",
       "    </tr>\n",
       "    <tr>\n",
       "      <th>164324</th>\n",
       "      <td>2015-06-09 19:52:00</td>\n",
       "      <td>72742</td>\n",
       "      <td>5411</td>\n",
       "      <td>1</td>\n",
       "      <td>789</td>\n",
       "      <td>14.0</td>\n",
       "      <td>0</td>\n",
       "      <td>1</td>\n",
       "      <td>9</td>\n",
       "      <td>19</td>\n",
       "      <td>0.683964</td>\n",
       "      <td>1</td>\n",
       "    </tr>\n",
       "    <tr>\n",
       "      <th>377840</th>\n",
       "      <td>2015-06-22 05:27:00</td>\n",
       "      <td>289539</td>\n",
       "      <td>219512</td>\n",
       "      <td>1</td>\n",
       "      <td>5</td>\n",
       "      <td>1637.0</td>\n",
       "      <td>0</td>\n",
       "      <td>0</td>\n",
       "      <td>22</td>\n",
       "      <td>5</td>\n",
       "      <td>0.527411</td>\n",
       "      <td>1</td>\n",
       "    </tr>\n",
       "    <tr>\n",
       "      <th>86391</th>\n",
       "      <td>2015-06-05 21:07:00</td>\n",
       "      <td>390314</td>\n",
       "      <td>257040</td>\n",
       "      <td>0</td>\n",
       "      <td>683</td>\n",
       "      <td>1606.0</td>\n",
       "      <td>0</td>\n",
       "      <td>4</td>\n",
       "      <td>5</td>\n",
       "      <td>21</td>\n",
       "      <td>0.482556</td>\n",
       "      <td>1</td>\n",
       "    </tr>\n",
       "    <tr>\n",
       "      <th>46494</th>\n",
       "      <td>2015-06-04 02:25:00</td>\n",
       "      <td>280585</td>\n",
       "      <td>309778</td>\n",
       "      <td>0</td>\n",
       "      <td>683</td>\n",
       "      <td>1606.0</td>\n",
       "      <td>0</td>\n",
       "      <td>3</td>\n",
       "      <td>4</td>\n",
       "      <td>2</td>\n",
       "      <td>0.476986</td>\n",
       "      <td>1</td>\n",
       "    </tr>\n",
       "    <tr>\n",
       "      <th>143033</th>\n",
       "      <td>2015-06-09 04:06:00</td>\n",
       "      <td>749353</td>\n",
       "      <td>384302</td>\n",
       "      <td>1</td>\n",
       "      <td>5</td>\n",
       "      <td>1637.0</td>\n",
       "      <td>0</td>\n",
       "      <td>1</td>\n",
       "      <td>9</td>\n",
       "      <td>4</td>\n",
       "      <td>0.471123</td>\n",
       "      <td>1</td>\n",
       "    </tr>\n",
       "    <tr>\n",
       "      <th>72450</th>\n",
       "      <td>2015-06-05 04:37:00</td>\n",
       "      <td>283323</td>\n",
       "      <td>320130</td>\n",
       "      <td>1</td>\n",
       "      <td>1483</td>\n",
       "      <td>561.0</td>\n",
       "      <td>0</td>\n",
       "      <td>4</td>\n",
       "      <td>5</td>\n",
       "      <td>4</td>\n",
       "      <td>0.441513</td>\n",
       "      <td>1</td>\n",
       "    </tr>\n",
       "    <tr>\n",
       "      <th>7713</th>\n",
       "      <td>2015-06-01 23:38:00</td>\n",
       "      <td>319880</td>\n",
       "      <td>7943</td>\n",
       "      <td>1</td>\n",
       "      <td>398</td>\n",
       "      <td>1323.0</td>\n",
       "      <td>0</td>\n",
       "      <td>0</td>\n",
       "      <td>1</td>\n",
       "      <td>23</td>\n",
       "      <td>0.436236</td>\n",
       "      <td>1</td>\n",
       "    </tr>\n",
       "    <tr>\n",
       "      <th>428</th>\n",
       "      <td>2015-06-02 04:19:00</td>\n",
       "      <td>168685</td>\n",
       "      <td>111530</td>\n",
       "      <td>1</td>\n",
       "      <td>1625</td>\n",
       "      <td>1141.0</td>\n",
       "      <td>0</td>\n",
       "      <td>1</td>\n",
       "      <td>2</td>\n",
       "      <td>4</td>\n",
       "      <td>0.423923</td>\n",
       "      <td>1</td>\n",
       "    </tr>\n",
       "  </tbody>\n",
       "</table>\n",
       "</div>"
      ],
      "text/plain": [
       "                 timestamp  user_id  item_id available  categoryid  parentid  \\\n",
       "551503 2015-06-30 19:06:00   755375   187946         0        1393    1383.0   \n",
       "57104  2015-06-04 04:26:00  1259098   461686         1        1037     402.0   \n",
       "164324 2015-06-09 19:52:00    72742     5411         1         789      14.0   \n",
       "377840 2015-06-22 05:27:00   289539   219512         1           5    1637.0   \n",
       "86391  2015-06-05 21:07:00   390314   257040         0         683    1606.0   \n",
       "46494  2015-06-04 02:25:00   280585   309778         0         683    1606.0   \n",
       "143033 2015-06-09 04:06:00   749353   384302         1           5    1637.0   \n",
       "72450  2015-06-05 04:37:00   283323   320130         1        1483     561.0   \n",
       "7713   2015-06-01 23:38:00   319880     7943         1         398    1323.0   \n",
       "428    2015-06-02 04:19:00   168685   111530         1        1625    1141.0   \n",
       "\n",
       "        istransaction  day_of_week  day  hour    rating  target  \n",
       "551503              0            1   30    19  1.000000       1  \n",
       "57104               0            3    4     4  0.872765       1  \n",
       "164324              0            1    9    19  0.683964       1  \n",
       "377840              0            0   22     5  0.527411       1  \n",
       "86391               0            4    5    21  0.482556       1  \n",
       "46494               0            3    4     2  0.476986       1  \n",
       "143033              0            1    9     4  0.471123       1  \n",
       "72450               0            4    5     4  0.441513       1  \n",
       "7713                0            0    1    23  0.436236       1  \n",
       "428                 0            1    2     4  0.423923       1  "
      ]
     },
     "execution_count": 74,
     "metadata": {},
     "output_type": "execute_result"
    }
   ],
   "source": [
    "# Выведем топ по рейтингу среди купленных товаров\n",
    "events_df[events_df['target']==1].drop_duplicates(subset='item_id').sort_values('rating', ascending=False).head(10)"
   ]
  },
  {
   "cell_type": "markdown",
   "metadata": {},
   "source": [
    "Товары частично повторяются в двух таблицах с топ-10 товаров. "
   ]
  },
  {
   "cell_type": "code",
   "execution_count": 76,
   "metadata": {},
   "outputs": [],
   "source": [
    "# Заполним пропуски 0\n",
    "events_df = events_df.fillna(0)"
   ]
  },
  {
   "cell_type": "code",
   "execution_count": 77,
   "metadata": {},
   "outputs": [],
   "source": [
    "# Сохраним результат\n",
    "events_df.to_csv('../data/events_final.csv', index=False)"
   ]
  },
  {
   "cell_type": "markdown",
   "metadata": {},
   "source": [
    "## Выводы по EDA\n",
    "\n",
    "### Выводы:\n",
    "1. Взаимодействия пользователей с товарами имеют выраженную временную динамику. В течение недели наблюдается пик взаимодействий в первой половине, с минимальными показателями по субботам. В месячном разрезе количество взаимодействий увеличивается к середине месяца, достигает максимума в конце месяца, после чего происходит снижение.\n",
    "\n",
    "2. В течение дня количество взаимодействий значительно варьируется, с минимальным уровнем в утренние часы. Это может быть связано с разными часовыми поясами пользователей, что требует дальнейшего изучения.\n",
    "\n",
    "3. Пользователи в основном просматривают товары, не совершая целевых действий - добавление в корзину. Это свидетельствует о необходимости решения проблемы дисбаланса для более эффективного построения рекомендаций.\n",
    "\n",
    "4. Среднее число добавленных товаров на пользователя невелико, однако распределение имеет длинный \"хвост\", где наблюдаются значительные выбросы (от 100 до 700 добавлений). Это поведение может быть реальным и требует дальнейшего анализа.\n",
    "\n",
    "5. Топ просмотренных и топ добавленных в корзину товаров не совпадают, что указывает на различия в интересах пользователей и их поведении. Один товар совпадает в обеих категориях (id 461686). Неясно, какие именно товары являются самыми популярными, поскольку отсутствуют характеристики товаров, такие как рейтинг или цена.\n",
    "\n",
    "6. Признаки, содержащиеся в данных, выглядят как эмбеддинги и требуют специальной обработки. При попытке категоризовать их в привычную матрицу может возникнуть проблема с количеством столбцов.\n",
    "\n",
    "7. Необходимо отказаться от сохранения признака event, так как целевые действия уже обозначены в отдельных признаках (target и istransaction).\n",
    "\n",
    "8. Около 10% строк данных останется без признаков, что может ограничить возможности анализа. Это требует привлечения дополнительных данных или методов для характеристики товаров.\n",
    "\n",
    "### Гипотезы:\n",
    "1.  Повышенная активность пользователей в начале недели может быть связана с началом новых акций или обновлений товаров.\n",
    "2. Утренние часы имеют низкий уровень взаимодействий из-за занятости пользователей, в то время как вечерние часы могут быть более активными.\n",
    "3. Низкий уровень добавлений в корзину может быть связан с недостаточной привлекательностью товаров или сложностью процесса покупки.\n",
    "4. Высокая активность некоторых пользователей может быть связана с их статусом или интересами, что требует дальнейшего изучения их поведения.\n",
    "5. Товары, которые часто просматриваются, могут иметь привлекательные визуальные характеристики, но не удовлетворяют потребностям пользователей, что приводит к низкому уровню добавлений в корзину."
   ]
  },
  {
   "cell_type": "markdown",
   "metadata": {},
   "source": [
    "## Разбиение данных"
   ]
  },
  {
   "cell_type": "code",
   "execution_count": 4,
   "metadata": {},
   "outputs": [],
   "source": [
    "# Загружаем данные\n",
    "events = pd.read_csv('../data/events_final.csv')\n",
    "items = pd.read_csv('../data/items_clean.csv')"
   ]
  },
  {
   "cell_type": "code",
   "execution_count": 5,
   "metadata": {},
   "outputs": [
    {
     "name": "stdout",
     "output_type": "stream",
     "text": [
      "(2227265, 12) (273251, 12)\n"
     ]
    }
   ],
   "source": [
    "events['timestamp'] = pd.to_datetime(events['timestamp'], errors='coerce')\n",
    "\n",
    "# Зададим точку разбиения\n",
    "train_test_global_time_split_date = pd.to_datetime(\"2015-09-01 00:00:00\")\n",
    "\n",
    "# Фильтрация данных на основе условия\n",
    "train_test_global_time_split_idx = events[\"timestamp\"] < train_test_global_time_split_date\n",
    "events_train = events[train_test_global_time_split_idx]\n",
    "events_test = events[~train_test_global_time_split_idx]\n",
    "\n",
    "print(events_train.shape, events_test.shape)"
   ]
  },
  {
   "cell_type": "markdown",
   "metadata": {},
   "source": [
    "В тесте остаются взаимодействия за один день - примерно 10% данных."
   ]
  },
  {
   "cell_type": "code",
   "execution_count": 6,
   "metadata": {},
   "outputs": [],
   "source": [
    "# количество пользователей в train и test\n",
    "users_train = events_train[\"user_id\"].drop_duplicates()\n",
    "users_test = events_test[\"user_id\"].drop_duplicates()"
   ]
  },
  {
   "cell_type": "code",
   "execution_count": 7,
   "metadata": {},
   "outputs": [
    {
     "name": "stdout",
     "output_type": "stream",
     "text": [
      "1098320 152339 14627\n"
     ]
    }
   ],
   "source": [
    "# Количество пользователей, которые есть и в train, и в test\n",
    "common_users = set(users_train).intersection(set(users_test))\n",
    "\n",
    "print(len(users_train), len(users_test), len(common_users))"
   ]
  },
  {
   "cell_type": "code",
   "execution_count": 8,
   "metadata": {},
   "outputs": [
    {
     "name": "stdout",
     "output_type": "stream",
     "text": [
      "137712\n"
     ]
    }
   ],
   "source": [
    "# Холодные пользователи. Те кто есть в тест, но нет в трейн\n",
    "cold_users = users_test[~users_test.isin(common_users)]\n",
    "\n",
    "print(len(cold_users))"
   ]
  },
  {
   "cell_type": "code",
   "execution_count": 83,
   "metadata": {},
   "outputs": [],
   "source": [
    "# Сохраним холодных пользователей\n",
    "cold_users.to_csv('../data/cold_users.csv', index=False)"
   ]
  },
  {
   "cell_type": "code",
   "execution_count": 9,
   "metadata": {},
   "outputs": [],
   "source": [
    "# Перекодируем идентификаторы пользователей в последовательность с 0\n",
    "user_encoder = sklearn.preprocessing.LabelEncoder()\n",
    "user_encoder.fit(events[\"user_id\"])\n",
    "\n",
    "events[\"user_id_enc\"] = user_encoder.transform(events[\"user_id\"])\n",
    "events_train[\"user_id_enc\"] = user_encoder.transform(events_train[\"user_id\"])\n",
    "events_test[\"user_id_enc\"] = user_encoder.transform(events_test[\"user_id\"])"
   ]
  },
  {
   "cell_type": "code",
   "execution_count": 10,
   "metadata": {},
   "outputs": [],
   "source": [
    "# Перекодируем идентификаторы объектов в последовательность с 0\n",
    "item_encoder = sklearn.preprocessing.LabelEncoder()\n",
    "item_encoder.fit(items[\"item_id\"])\n",
    "\n",
    "items[\"item_id_enc\"] = item_encoder.transform(items[\"item_id\"])\n",
    "events_train[\"item_id_enc\"] = item_encoder.transform(events_train[\"item_id\"])\n",
    "events_test[\"item_id_enc\"] = item_encoder.transform(events_test[\"item_id\"])"
   ]
  },
  {
   "cell_type": "code",
   "execution_count": 11,
   "metadata": {},
   "outputs": [],
   "source": [
    "# Перекодируем идентификаторы категории в последовательность с 0\n",
    "category_encoder = sklearn.preprocessing.LabelEncoder()\n",
    "category_encoder.fit(events[\"categoryid\"])\n",
    "\n",
    "events[\"categoryid_enc\"] = category_encoder.transform(events[\"categoryid\"])\n",
    "events_train[\"categoryid_enc\"] = category_encoder.transform(events_train[\"categoryid\"])\n",
    "events_test[\"categoryid_enc\"] = category_encoder.transform(events_test[\"categoryid\"])"
   ]
  },
  {
   "cell_type": "code",
   "execution_count": 12,
   "metadata": {},
   "outputs": [],
   "source": [
    "# Перекодируем идентификаторы категории в последовательность с 0\n",
    "parent_encoder = sklearn.preprocessing.LabelEncoder()\n",
    "parent_encoder.fit(events[\"parentid\"])\n",
    "\n",
    "events[\"parentid_enc\"] = parent_encoder.transform(events[\"parentid\"])\n",
    "events_train[\"parentid_enc\"] = parent_encoder.transform(events_train[\"parentid\"])\n",
    "events_test[\"parentid_enc\"] = parent_encoder.transform(events_test[\"parentid\"])"
   ]
  },
  {
   "cell_type": "code",
   "execution_count": 96,
   "metadata": {},
   "outputs": [
    {
     "data": {
      "text/plain": [
       "['../data/parent_encoder.pkl']"
      ]
     },
     "execution_count": 96,
     "metadata": {},
     "output_type": "execute_result"
    }
   ],
   "source": [
    "# Сохраним кодировщики\n",
    "joblib.dump(user_encoder, '../data/user_encoder.pkl')\n",
    "joblib.dump(item_encoder, '../data/item_encoder.pkl')\n",
    "joblib.dump(category_encoder, '../data/category_encoder.pkl')\n",
    "joblib.dump(parent_encoder, '../data/parent_encoder.pkl')"
   ]
  },
  {
   "cell_type": "code",
   "execution_count": 119,
   "metadata": {},
   "outputs": [],
   "source": [
    "RUN_NAME = 'recsys_encoders'\n",
    "\n",
    "os.environ[\"MLFLOW_S3_ENDPOINT_URL\"] = \"https://storage.yandexcloud.net\" \n",
    "os.environ[\"AWS_ACCESS_KEY_ID\"] = os.getenv(\"AWS_ACCESS_KEY_ID\") \n",
    "os.environ[\"AWS_SECRET_ACCESS_KEY\"] = os.getenv(\"AWS_SECRET_ACCESS_KEY\")\n",
    "\n",
    "mlflow.set_tracking_uri(f\"http://{TRACKING_SERVER_HOST}:{TRACKING_SERVER_PORT}\")\n",
    "mlflow.set_registry_uri(f\"http://{TRACKING_SERVER_HOST}:{TRACKING_SERVER_PORT}\")\n",
    "\n",
    "# В первый раз создадим эксперимент\n",
    "experiment_id = mlflow.create_experiment(EXPERIMENT_NAME)\n",
    "experiment_id = mlflow.get_experiment_by_name(EXPERIMENT_NAME).experiment_id\n",
    "\n",
    "with mlflow.start_run(run_name=RUN_NAME, experiment_id=experiment_id) as run:\n",
    "    run_id = run.info.run_id\n",
    "\n",
    "    mlflow.log_metric('train_size', events_train.shape[0])\n",
    "    mlflow.log_metric('test_size', events_test.shape[0])\n",
    "    mlflow.log_params({\"features\": events_test.columns.to_list()})\n",
    "\n",
    "    joblib.dump(user_encoder, \"user_encoder.pkl\")\n",
    "    mlflow.log_artifact(\"user_encoder.pkl\")\n",
    "\n",
    "    joblib.dump(item_encoder, \"item_encoder.pkl\")\n",
    "    mlflow.log_artifact(\"item_encoder.pkl\")\n",
    "\n",
    "    joblib.dump(category_encoder, \"category_encoder.pkl\")\n",
    "    mlflow.log_artifact(\"category_encoder.pkl\")\n",
    "\n",
    "    joblib.dump(parent_encoder, \"parent_encoder.pkl\")\n",
    "    mlflow.log_artifact(\"parent_encoder.pkl\")\n"
   ]
  },
  {
   "cell_type": "code",
   "execution_count": 99,
   "metadata": {},
   "outputs": [
    {
     "data": {
      "text/html": [
       "<div>\n",
       "<style scoped>\n",
       "    .dataframe tbody tr th:only-of-type {\n",
       "        vertical-align: middle;\n",
       "    }\n",
       "\n",
       "    .dataframe tbody tr th {\n",
       "        vertical-align: top;\n",
       "    }\n",
       "\n",
       "    .dataframe thead th {\n",
       "        text-align: right;\n",
       "    }\n",
       "</style>\n",
       "<table border=\"1\" class=\"dataframe\">\n",
       "  <thead>\n",
       "    <tr style=\"text-align: right;\">\n",
       "      <th></th>\n",
       "      <th>timestamp</th>\n",
       "      <th>user_id</th>\n",
       "      <th>item_id</th>\n",
       "      <th>available</th>\n",
       "      <th>categoryid</th>\n",
       "      <th>parentid</th>\n",
       "      <th>istransaction</th>\n",
       "      <th>day_of_week</th>\n",
       "      <th>day</th>\n",
       "      <th>hour</th>\n",
       "      <th>rating</th>\n",
       "      <th>target</th>\n",
       "      <th>user_id_enc</th>\n",
       "      <th>item_id_enc</th>\n",
       "      <th>categoryid_enc</th>\n",
       "      <th>parentid_enc</th>\n",
       "    </tr>\n",
       "  </thead>\n",
       "  <tbody>\n",
       "    <tr>\n",
       "      <th>1</th>\n",
       "      <td>2015-06-02 05:50:00</td>\n",
       "      <td>992329</td>\n",
       "      <td>248676</td>\n",
       "      <td>1</td>\n",
       "      <td>1231</td>\n",
       "      <td>901.0</td>\n",
       "      <td>0</td>\n",
       "      <td>1</td>\n",
       "      <td>2</td>\n",
       "      <td>5</td>\n",
       "      <td>0.009675</td>\n",
       "      <td>0</td>\n",
       "      <td>871317</td>\n",
       "      <td>222201</td>\n",
       "      <td>791</td>\n",
       "      <td>144</td>\n",
       "    </tr>\n",
       "    <tr>\n",
       "      <th>155836</th>\n",
       "      <td>2015-06-09 20:07:00</td>\n",
       "      <td>1356496</td>\n",
       "      <td>248676</td>\n",
       "      <td>1</td>\n",
       "      <td>1231</td>\n",
       "      <td>901.0</td>\n",
       "      <td>0</td>\n",
       "      <td>1</td>\n",
       "      <td>9</td>\n",
       "      <td>20</td>\n",
       "      <td>0.009675</td>\n",
       "      <td>1</td>\n",
       "      <td>1191177</td>\n",
       "      <td>222201</td>\n",
       "      <td>791</td>\n",
       "      <td>144</td>\n",
       "    </tr>\n",
       "    <tr>\n",
       "      <th>159801</th>\n",
       "      <td>2015-06-09 20:15:00</td>\n",
       "      <td>1356496</td>\n",
       "      <td>248676</td>\n",
       "      <td>1</td>\n",
       "      <td>1231</td>\n",
       "      <td>901.0</td>\n",
       "      <td>0</td>\n",
       "      <td>1</td>\n",
       "      <td>9</td>\n",
       "      <td>20</td>\n",
       "      <td>0.009675</td>\n",
       "      <td>0</td>\n",
       "      <td>1191177</td>\n",
       "      <td>222201</td>\n",
       "      <td>791</td>\n",
       "      <td>144</td>\n",
       "    </tr>\n",
       "  </tbody>\n",
       "</table>\n",
       "</div>"
      ],
      "text/plain": [
       "                 timestamp  user_id  item_id  available  categoryid  parentid  \\\n",
       "1      2015-06-02 05:50:00   992329   248676          1        1231     901.0   \n",
       "155836 2015-06-09 20:07:00  1356496   248676          1        1231     901.0   \n",
       "159801 2015-06-09 20:15:00  1356496   248676          1        1231     901.0   \n",
       "\n",
       "        istransaction  day_of_week  day  hour    rating  target  user_id_enc  \\\n",
       "1                   0            1    2     5  0.009675       0       871317   \n",
       "155836              0            1    9    20  0.009675       1      1191177   \n",
       "159801              0            1    9    20  0.009675       0      1191177   \n",
       "\n",
       "        item_id_enc  categoryid_enc  parentid_enc  \n",
       "1            222201             791           144  \n",
       "155836       222201             791           144  \n",
       "159801       222201             791           144  "
      ]
     },
     "metadata": {},
     "output_type": "display_data"
    },
    {
     "data": {
      "text/html": [
       "<div>\n",
       "<style scoped>\n",
       "    .dataframe tbody tr th:only-of-type {\n",
       "        vertical-align: middle;\n",
       "    }\n",
       "\n",
       "    .dataframe tbody tr th {\n",
       "        vertical-align: top;\n",
       "    }\n",
       "\n",
       "    .dataframe thead th {\n",
       "        text-align: right;\n",
       "    }\n",
       "</style>\n",
       "<table border=\"1\" class=\"dataframe\">\n",
       "  <thead>\n",
       "    <tr style=\"text-align: right;\">\n",
       "      <th></th>\n",
       "      <th>timestamp</th>\n",
       "      <th>user_id</th>\n",
       "      <th>item_id</th>\n",
       "      <th>available</th>\n",
       "      <th>categoryid</th>\n",
       "      <th>parentid</th>\n",
       "      <th>istransaction</th>\n",
       "      <th>day_of_week</th>\n",
       "      <th>day</th>\n",
       "      <th>hour</th>\n",
       "      <th>rating</th>\n",
       "      <th>target</th>\n",
       "      <th>user_id_enc</th>\n",
       "      <th>item_id_enc</th>\n",
       "      <th>categoryid_enc</th>\n",
       "      <th>parentid_enc</th>\n",
       "    </tr>\n",
       "  </thead>\n",
       "  <tbody>\n",
       "    <tr>\n",
       "      <th>1075255</th>\n",
       "      <td>2015-09-02 20:29:00</td>\n",
       "      <td>711786</td>\n",
       "      <td>248676</td>\n",
       "      <td>1</td>\n",
       "      <td>1231</td>\n",
       "      <td>901.0</td>\n",
       "      <td>0</td>\n",
       "      <td>2</td>\n",
       "      <td>2</td>\n",
       "      <td>20</td>\n",
       "      <td>0.009675</td>\n",
       "      <td>0</td>\n",
       "      <td>625002</td>\n",
       "      <td>222201</td>\n",
       "      <td>791</td>\n",
       "      <td>144</td>\n",
       "    </tr>\n",
       "  </tbody>\n",
       "</table>\n",
       "</div>"
      ],
      "text/plain": [
       "                  timestamp  user_id  item_id  available  categoryid  \\\n",
       "1075255 2015-09-02 20:29:00   711786   248676          1        1231   \n",
       "\n",
       "         parentid  istransaction  day_of_week  day  hour    rating  target  \\\n",
       "1075255     901.0              0            2    2    20  0.009675       0   \n",
       "\n",
       "         user_id_enc  item_id_enc  categoryid_enc  parentid_enc  \n",
       "1075255       625002       222201             791           144  "
      ]
     },
     "metadata": {},
     "output_type": "display_data"
    }
   ],
   "source": [
    "# Проверим результат кодирования\n",
    "display(events_train[events_train['item_id']==248676].head(3))\n",
    "display(events_test[events_test['item_id']==248676].head(3))"
   ]
  },
  {
   "cell_type": "code",
   "execution_count": 100,
   "metadata": {},
   "outputs": [],
   "source": [
    "# Сохраним датасеты\n",
    "events_train.to_csv('../data/events_train.csv', index=False)\n",
    "events_test.to_csv('../data/events_test.csv', index=False)"
   ]
  },
  {
   "cell_type": "markdown",
   "metadata": {},
   "source": [
    "## Рекомендации по умолчанию"
   ]
  },
  {
   "cell_type": "markdown",
   "metadata": {},
   "source": [
    "Создадим рекомендации для новых пользователей. В качестве рекомендаций будем использовать топ 50 популярных товаров по взаимодействиям среди покупателей."
   ]
  },
  {
   "cell_type": "code",
   "execution_count": 82,
   "metadata": {},
   "outputs": [],
   "source": [
    "events_train = pd.read_csv('../data/events_train.csv', index_col=False)\n",
    "events_test = pd.read_csv('../data/events_test.csv', index_col=False)"
   ]
  },
  {
   "cell_type": "code",
   "execution_count": 30,
   "metadata": {},
   "outputs": [],
   "source": [
    "# Посчитаем количество прослушиваний уникальными пользователями\n",
    "item_popularity = events_train \\\n",
    "    .groupby([\"item_id\"]).agg(users=(\"user_id\", \"nunique\"), avg_rating=(\"rating\", \"mean\")).reset_index()\n",
    "\n",
    "# Добавляем информацию о треках\n",
    "top_k_pop_items = item_popularity.sort_values('users', ascending=False).head(50)"
   ]
  },
  {
   "cell_type": "code",
   "execution_count": 31,
   "metadata": {},
   "outputs": [],
   "source": [
    "# Добавляем новый столбец с порядковым номером строки - ранжированием\n",
    "top_k_pop_items['rank'] = range(1, len(top_k_pop_items) + 1)"
   ]
  },
  {
   "cell_type": "markdown",
   "metadata": {},
   "source": [
    "В других датасетах нет каких либо расшифровок, плэтому добалять инфорацию о товарах нет смысла."
   ]
  },
  {
   "cell_type": "code",
   "execution_count": 87,
   "metadata": {},
   "outputs": [],
   "source": [
    "# Сохраним результат\n",
    "top_k_pop_items.to_parquet(\"../recsys/recommendations/top_popular.parquet\", engine='pyarrow')"
   ]
  },
  {
   "cell_type": "code",
   "execution_count": 120,
   "metadata": {},
   "outputs": [],
   "source": [
    "RUN_NAME = 'recsys_top_popular_recs'\n",
    "\n",
    "os.environ[\"MLFLOW_S3_ENDPOINT_URL\"] = \"https://storage.yandexcloud.net\" \n",
    "os.environ[\"AWS_ACCESS_KEY_ID\"] = os.getenv(\"AWS_ACCESS_KEY_ID\") \n",
    "os.environ[\"AWS_SECRET_ACCESS_KEY\"] = os.getenv(\"AWS_SECRET_ACCESS_KEY\")\n",
    "\n",
    "mlflow.set_tracking_uri(f\"http://{TRACKING_SERVER_HOST}:{TRACKING_SERVER_PORT}\")\n",
    "mlflow.set_registry_uri(f\"http://{TRACKING_SERVER_HOST}:{TRACKING_SERVER_PORT}\")\n",
    "\n",
    "experiment_id = mlflow.get_experiment_by_name(EXPERIMENT_NAME).experiment_id\n",
    "\n",
    "parquet_file_path = \"top_popular.parquet\"\n",
    "top_k_pop_items.to_parquet(parquet_file_path, engine='pyarrow')\n",
    "\n",
    "with mlflow.start_run(run_name=RUN_NAME, experiment_id=experiment_id) as run:\n",
    "    run_id = run.info.run_id\n",
    "\n",
    "    mlflow.log_artifact(parquet_file_path)"
   ]
  },
  {
   "cell_type": "markdown",
   "metadata": {},
   "source": [
    "## Персональные рекомендации"
   ]
  },
  {
   "cell_type": "markdown",
   "metadata": {},
   "source": [
    "Рассчитаем персональные рекомендации. Обучим бустинговую модель на таргет 1 и 0 - добавление в товара в корзину и дале проранжируем рекомендации."
   ]
  },
  {
   "cell_type": "markdown",
   "metadata": {},
   "source": [
    "<div class=\"alert alert-info\">\n",
    "<h2> Комментарий студента</h2>\n",
    "\n",
    "    Я не использую в совем проекте модели ALS для персональных рекомендаций. Дело в том, что при присоединении тренировочного или тестового взаимодействия к полученным при помощи ALS рекомендаций, ранее созданый таргет на основе признака добавления в корзину отстается незаполненным - совсем нет совпадений в двух датасетах. \n",
    "     \n",
    "</div>  "
   ]
  },
  {
   "cell_type": "code",
   "execution_count": 66,
   "metadata": {},
   "outputs": [],
   "source": [
    "# Загрузим данные\n",
    "events_train = pd.read_csv('../data/events_train.csv', index_col=False)\n",
    "events_test = pd.read_csv('../data/events_test.csv', index_col=False)\n",
    "items = pd.read_csv('../data/items_clean.csv', index_col=False)\n",
    "events = pd.read_csv('../data/events_final.csv')\n",
    "\n",
    "item_encoder = joblib.load('../data/item_encoder.pkl')\n",
    "user_encoder = joblib.load('../data/user_encoder.pkl')"
   ]
  },
  {
   "cell_type": "code",
   "execution_count": 67,
   "metadata": {},
   "outputs": [],
   "source": [
    "# Преобразуем формат времени\n",
    "events_train['timestamp'] = pd.to_datetime(events_train['timestamp'])\n",
    "events_test['timestamp'] = pd.to_datetime(events_test['timestamp'])\n",
    "events['timestamp'] = pd.to_datetime(events['timestamp'])"
   ]
  },
  {
   "cell_type": "markdown",
   "metadata": {},
   "source": [
    "Рассчитаем похожите товары, это необходимо для построения онлайн-рекомендаций."
   ]
  },
  {
   "cell_type": "code",
   "execution_count": 68,
   "metadata": {},
   "outputs": [
    {
     "data": {
      "text/plain": [
       "<Compressed Sparse Row sparse matrix of dtype 'int8'\n",
       "\twith 1711166 stored elements and shape (1236032, 417051)>"
      ]
     },
     "execution_count": 68,
     "metadata": {},
     "output_type": "execute_result"
    }
   ],
   "source": [
    "# Создаём sparse-матрицу формата CSR \n",
    "user_item_matrix_train = scipy.sparse.csr_matrix((\n",
    "    events_train[\"rating\"],\n",
    "    (events_train['user_id_enc'], events_train['item_id_enc'])),\n",
    "    dtype=np.int8) \n",
    "\n",
    "user_item_matrix_train"
   ]
  },
  {
   "cell_type": "code",
   "execution_count": 69,
   "metadata": {},
   "outputs": [
    {
     "name": "stderr",
     "output_type": "stream",
     "text": [
      "100%|██████████| 50/50 [00:47<00:00,  1.05it/s]\n"
     ]
    }
   ],
   "source": [
    "# Создадим модель ALS\n",
    "als_model = AlternatingLeastSquares(factors=50, \n",
    "                                    iterations=50, \n",
    "                                    regularization=0.05, \n",
    "                                    random_state=RANDOM_STATE)\n",
    "\n",
    "# Обучим модель ALS\n",
    "als_model.fit(user_item_matrix_train)"
   ]
  },
  {
   "cell_type": "code",
   "execution_count": 70,
   "metadata": {},
   "outputs": [],
   "source": [
    "# Получим энкодированные идентификаторы всех объектов, известных нам из events_train\n",
    "train_item_ids_enc = events_train['item_id_enc'].unique()\n",
    "\n",
    "max_similar_items = 5\n",
    "\n",
    "# Получаем списки похожих объектов, используя ранее полученную ALS-модель\n",
    "similar_items = als_model.similar_items(train_item_ids_enc, N=max_similar_items+1)\n",
    "\n",
    "# Преобразуем полученные списки в табличный формат\n",
    "sim_item_item_ids_enc = similar_items[0]\n",
    "sim_item_scores = similar_items[1]\n",
    "\n",
    "similar_items = pd.DataFrame({\n",
    "    \"item_id_enc\": train_item_ids_enc,\n",
    "    \"sim_item_id_enc\": sim_item_item_ids_enc.tolist(), \n",
    "    \"score\": [sim_scores[0:] for sim_scores in sim_item_scores]})"
   ]
  },
  {
   "cell_type": "code",
   "execution_count": 71,
   "metadata": {},
   "outputs": [],
   "source": [
    "# Развернем полученные id похожих товаров\n",
    "similar_items = similar_items.explode(['sim_item_id_enc', 'score'])\n",
    "\n",
    "# Приводим типы данных\n",
    "similar_items[\"sim_item_id_enc\"] = similar_items[\"sim_item_id_enc\"].astype(\"int\")\n",
    "similar_items[\"score\"] = similar_items[\"score\"].astype(\"float\")\n",
    "\n",
    "# Получаем исходные идентификаторы\n",
    "item_id_map = events_train[['item_id_enc', 'item_id']].drop_duplicates().set_index('item_id_enc')['item_id'].to_dict()\n",
    "similar_items[\"item_id_init\"] = similar_items[\"item_id_enc\"].map(item_id_map)\n",
    "similar_items[\"item_id_sim\"] = similar_items[\"sim_item_id_enc\"].map(item_id_map)\n",
    "similar_items = similar_items.drop(columns=[\"item_id_enc\", \"sim_item_id_enc\"])\n",
    "\n",
    "# Убираем пары с одинаковыми объектами\n",
    "similar_items = similar_items.query(\"item_id_init != item_id_sim\")"
   ]
  },
  {
   "cell_type": "code",
   "execution_count": 72,
   "metadata": {},
   "outputs": [
    {
     "data": {
      "text/html": [
       "<div>\n",
       "<style scoped>\n",
       "    .dataframe tbody tr th:only-of-type {\n",
       "        vertical-align: middle;\n",
       "    }\n",
       "\n",
       "    .dataframe tbody tr th {\n",
       "        vertical-align: top;\n",
       "    }\n",
       "\n",
       "    .dataframe thead th {\n",
       "        text-align: right;\n",
       "    }\n",
       "</style>\n",
       "<table border=\"1\" class=\"dataframe\">\n",
       "  <thead>\n",
       "    <tr style=\"text-align: right;\">\n",
       "      <th></th>\n",
       "      <th>score</th>\n",
       "      <th>item_id_init</th>\n",
       "      <th>item_id_sim</th>\n",
       "    </tr>\n",
       "  </thead>\n",
       "  <tbody>\n",
       "    <tr>\n",
       "      <th>37855</th>\n",
       "      <td>0.873893</td>\n",
       "      <td>232558</td>\n",
       "      <td>299266</td>\n",
       "    </tr>\n",
       "    <tr>\n",
       "      <th>37855</th>\n",
       "      <td>0.861679</td>\n",
       "      <td>232558</td>\n",
       "      <td>312725</td>\n",
       "    </tr>\n",
       "    <tr>\n",
       "      <th>37855</th>\n",
       "      <td>0.858863</td>\n",
       "      <td>232558</td>\n",
       "      <td>227742</td>\n",
       "    </tr>\n",
       "    <tr>\n",
       "      <th>37855</th>\n",
       "      <td>0.838393</td>\n",
       "      <td>232558</td>\n",
       "      <td>364434</td>\n",
       "    </tr>\n",
       "    <tr>\n",
       "      <th>37855</th>\n",
       "      <td>0.837092</td>\n",
       "      <td>232558</td>\n",
       "      <td>95264</td>\n",
       "    </tr>\n",
       "  </tbody>\n",
       "</table>\n",
       "</div>"
      ],
      "text/plain": [
       "          score  item_id_init  item_id_sim\n",
       "37855  0.873893        232558       299266\n",
       "37855  0.861679        232558       312725\n",
       "37855  0.858863        232558       227742\n",
       "37855  0.838393        232558       364434\n",
       "37855  0.837092        232558        95264"
      ]
     },
     "execution_count": 72,
     "metadata": {},
     "output_type": "execute_result"
    }
   ],
   "source": [
    "# Посмотрим на результат\n",
    "similar_items[similar_items['item_id_init']==232558]"
   ]
  },
  {
   "cell_type": "code",
   "execution_count": 74,
   "metadata": {},
   "outputs": [],
   "source": [
    "# Сохраним результат\n",
    "similar_items.to_parquet(\"../recsys/recommendations/similar_items.parquet\", engine='pyarrow')"
   ]
  },
  {
   "cell_type": "code",
   "execution_count": 121,
   "metadata": {},
   "outputs": [],
   "source": [
    "RUN_NAME = 'recsys_similar_items'\n",
    "\n",
    "os.environ[\"MLFLOW_S3_ENDPOINT_URL\"] = \"https://storage.yandexcloud.net\" \n",
    "os.environ[\"AWS_ACCESS_KEY_ID\"] = os.getenv(\"AWS_ACCESS_KEY_ID\") \n",
    "os.environ[\"AWS_SECRET_ACCESS_KEY\"] = os.getenv(\"AWS_SECRET_ACCESS_KEY\")\n",
    "\n",
    "mlflow.set_tracking_uri(f\"http://{TRACKING_SERVER_HOST}:{TRACKING_SERVER_PORT}\")\n",
    "mlflow.set_registry_uri(f\"http://{TRACKING_SERVER_HOST}:{TRACKING_SERVER_PORT}\")\n",
    "\n",
    "experiment_id = mlflow.get_experiment_by_name(EXPERIMENT_NAME).experiment_id\n",
    "\n",
    "parquet_file_path = \"similar_items.parquet\"\n",
    "similar_items.to_parquet(parquet_file_path, engine='pyarrow')\n",
    "\n",
    "with mlflow.start_run(run_name=RUN_NAME, experiment_id=experiment_id) as run:\n",
    "    run_id = run.info.run_id\n",
    "\n",
    "    mlflow.log_artifact(parquet_file_path)"
   ]
  },
  {
   "cell_type": "markdown",
   "metadata": {},
   "source": [
    "Далее реализуем двухстадийный подход. Обучим модель на ранее созданный таргет и далее проранжируем рекомендации по вероятности."
   ]
  },
  {
   "cell_type": "code",
   "execution_count": 64,
   "metadata": {},
   "outputs": [],
   "source": [
    "# Преобразуем формат времени\n",
    "events_test['timestamp'] = pd.to_datetime(events_test['timestamp'])"
   ]
  },
  {
   "cell_type": "code",
   "execution_count": 65,
   "metadata": {},
   "outputs": [
    {
     "name": "stdout",
     "output_type": "stream",
     "text": [
      "2015-09-15 02:59:00\n"
     ]
    }
   ],
   "source": [
    "# Вычтем из последней даты в датасете несколько дней\n",
    "test_days = events_test[\"timestamp\"].max() - pd.Timedelta(days=3)\n",
    "\n",
    "print(test_days)"
   ]
  },
  {
   "cell_type": "code",
   "execution_count": 66,
   "metadata": {},
   "outputs": [
    {
     "name": "stdout",
     "output_type": "stream",
     "text": [
      "Тестовый датасет: (36051, 16)\n",
      "Датасет с взаимодействиями за три дня: (237200, 16)\n"
     ]
    }
   ],
   "source": [
    "# Задаём точку разбиения\n",
    "split_date_for_labels = test_days\n",
    "\n",
    "# Разделим данные\n",
    "split_date_for_labels_idx = events_test[\"timestamp\"] < split_date_for_labels\n",
    "events_labels = events_test[split_date_for_labels_idx].copy()\n",
    "events_test_2 = events_test[~split_date_for_labels_idx].copy()\n",
    "\n",
    "# Проверим результат\n",
    "print(f'Тестовый датасет: {events_test_2.shape}')\n",
    "print(f'Датасет с взаимодействиями за три дня: {events_labels.shape}')"
   ]
  },
  {
   "cell_type": "markdown",
   "metadata": {},
   "source": [
    "Таргет - добавление товара в корзину, в датасете уже есть, поэтому его не нужно создавать."
   ]
  },
  {
   "cell_type": "code",
   "execution_count": 16,
   "metadata": {},
   "outputs": [
    {
     "data": {
      "text/html": [
       "<div>\n",
       "<style scoped>\n",
       "    .dataframe tbody tr th:only-of-type {\n",
       "        vertical-align: middle;\n",
       "    }\n",
       "\n",
       "    .dataframe tbody tr th {\n",
       "        vertical-align: top;\n",
       "    }\n",
       "\n",
       "    .dataframe thead th {\n",
       "        text-align: right;\n",
       "    }\n",
       "</style>\n",
       "<table border=\"1\" class=\"dataframe\">\n",
       "  <thead>\n",
       "    <tr style=\"text-align: right;\">\n",
       "      <th></th>\n",
       "      <th>timestamp</th>\n",
       "      <th>user_id</th>\n",
       "      <th>item_id</th>\n",
       "      <th>available</th>\n",
       "      <th>categoryid</th>\n",
       "      <th>parentid</th>\n",
       "      <th>istransaction</th>\n",
       "      <th>day_of_week</th>\n",
       "      <th>day</th>\n",
       "      <th>hour</th>\n",
       "      <th>rating</th>\n",
       "      <th>target</th>\n",
       "      <th>user_id_enc</th>\n",
       "      <th>item_id_enc</th>\n",
       "      <th>categoryid_enc</th>\n",
       "      <th>parentid_enc</th>\n",
       "    </tr>\n",
       "  </thead>\n",
       "  <tbody>\n",
       "    <tr>\n",
       "      <th>145626</th>\n",
       "      <td>2015-09-10 02:51:00</td>\n",
       "      <td>1052774</td>\n",
       "      <td>326697</td>\n",
       "      <td>1</td>\n",
       "      <td>771</td>\n",
       "      <td>1251.0</td>\n",
       "      <td>0</td>\n",
       "      <td>3</td>\n",
       "      <td>10</td>\n",
       "      <td>2</td>\n",
       "      <td>0.013486</td>\n",
       "      <td>0</td>\n",
       "      <td>924413</td>\n",
       "      <td>291935</td>\n",
       "      <td>505</td>\n",
       "      <td>196</td>\n",
       "    </tr>\n",
       "    <tr>\n",
       "      <th>194670</th>\n",
       "      <td>2015-09-12 21:03:00</td>\n",
       "      <td>473202</td>\n",
       "      <td>293274</td>\n",
       "      <td>0</td>\n",
       "      <td>1320</td>\n",
       "      <td>879.0</td>\n",
       "      <td>0</td>\n",
       "      <td>5</td>\n",
       "      <td>12</td>\n",
       "      <td>21</td>\n",
       "      <td>0.009675</td>\n",
       "      <td>0</td>\n",
       "      <td>415586</td>\n",
       "      <td>262051</td>\n",
       "      <td>853</td>\n",
       "      <td>138</td>\n",
       "    </tr>\n",
       "    <tr>\n",
       "      <th>203990</th>\n",
       "      <td>2015-09-12 18:11:00</td>\n",
       "      <td>120055</td>\n",
       "      <td>253072</td>\n",
       "      <td>1</td>\n",
       "      <td>1051</td>\n",
       "      <td>955.0</td>\n",
       "      <td>0</td>\n",
       "      <td>5</td>\n",
       "      <td>12</td>\n",
       "      <td>18</td>\n",
       "      <td>0.048959</td>\n",
       "      <td>0</td>\n",
       "      <td>105491</td>\n",
       "      <td>226100</td>\n",
       "      <td>676</td>\n",
       "      <td>155</td>\n",
       "    </tr>\n",
       "  </tbody>\n",
       "</table>\n",
       "</div>"
      ],
      "text/plain": [
       "                 timestamp  user_id  item_id  available  categoryid  parentid  \\\n",
       "145626 2015-09-10 02:51:00  1052774   326697          1         771    1251.0   \n",
       "194670 2015-09-12 21:03:00   473202   293274          0        1320     879.0   \n",
       "203990 2015-09-12 18:11:00   120055   253072          1        1051     955.0   \n",
       "\n",
       "        istransaction  day_of_week  day  hour    rating  target  user_id_enc  \\\n",
       "145626              0            3   10     2  0.013486       0       924413   \n",
       "194670              0            5   12    21  0.009675       0       415586   \n",
       "203990              0            5   12    18  0.048959       0       105491   \n",
       "\n",
       "        item_id_enc  categoryid_enc  parentid_enc  \n",
       "145626       291935             505           196  \n",
       "194670       262051             853           138  \n",
       "203990       226100             676           155  "
      ]
     },
     "execution_count": 16,
     "metadata": {},
     "output_type": "execute_result"
    }
   ],
   "source": [
    "# Посмотрим на датасет\n",
    "events_labels.sample(3)"
   ]
  },
  {
   "cell_type": "code",
   "execution_count": 17,
   "metadata": {},
   "outputs": [
    {
     "data": {
      "text/plain": [
       "target\n",
       "0    230759\n",
       "1      6441\n",
       "Name: count, dtype: int64"
      ]
     },
     "execution_count": 17,
     "metadata": {},
     "output_type": "execute_result"
    }
   ],
   "source": [
    "# Проверим баланс классов\n",
    "events_labels.target.value_counts()"
   ]
  },
  {
   "cell_type": "code",
   "execution_count": 18,
   "metadata": {},
   "outputs": [
    {
     "data": {
      "text/plain": [
       "target\n",
       "0    34938\n",
       "1     1113\n",
       "Name: count, dtype: int64"
      ]
     },
     "execution_count": 18,
     "metadata": {},
     "output_type": "execute_result"
    }
   ],
   "source": [
    "# Проверим баланс классов\n",
    "events_test_2.target.value_counts()"
   ]
  },
  {
   "cell_type": "code",
   "execution_count": 19,
   "metadata": {},
   "outputs": [],
   "source": [
    "# В кандидатах оставляем только тех пользователей, у которых есть хотя бы один положительный таргет\n",
    "candidates_to_sample = events_labels.groupby(\"user_id\").filter(lambda x: x[\"target\"].sum() > 0)\n",
    "\n",
    "# для каждого пользователя оставляем 1 негативный пример\n",
    "negatives_per_user = 1\n",
    "candidates_for_train = pd.concat([\n",
    "    candidates_to_sample.query(\"target == 1\"),\n",
    "    candidates_to_sample.query(\"target == 0\") \\\n",
    "        .groupby(\"user_id\") \\\n",
    "        .apply(lambda x: x.sample(negatives_per_user, random_state=0))\n",
    "    ]).reset_index(drop=True)"
   ]
  },
  {
   "cell_type": "code",
   "execution_count": 20,
   "metadata": {},
   "outputs": [
    {
     "data": {
      "text/plain": [
       "target\n",
       "1    6441\n",
       "0    3307\n",
       "Name: count, dtype: int64"
      ]
     },
     "execution_count": 20,
     "metadata": {},
     "output_type": "execute_result"
    }
   ],
   "source": [
    "# Проверим сколько данных для положительного таргета\n",
    "candidates_for_train.target.value_counts()"
   ]
  },
  {
   "cell_type": "markdown",
   "metadata": {},
   "source": [
    "Добавим также признаки по статистикам просмотров товаров."
   ]
  },
  {
   "cell_type": "code",
   "execution_count": 21,
   "metadata": {},
   "outputs": [],
   "source": [
    "def get_user_features(events):\n",
    "    \"\"\" считает пользовательские признаки \"\"\"\n",
    "    \n",
    "    user_features = events.groupby(\"user_id\").agg(\n",
    "        item_id_week=(\"timestamp\", lambda x: (x.max()-x.min()).days/7),\n",
    "        item_viewed=(\"item_id\", \"count\"),\n",
    "        rating_avg=(\"rating\", \"mean\"),\n",
    "        rating_std=(\"rating\", \"std\"))\n",
    "    \n",
    "    return user_features"
   ]
  },
  {
   "cell_type": "code",
   "execution_count": 22,
   "metadata": {},
   "outputs": [],
   "source": [
    "# Получим новые признаки, отфильтровав данные с целевым действием\n",
    "user_features_for_train = get_user_features(events_train[events_train['target']==0])\n",
    "candidates_for_train = candidates_for_train.merge(user_features_for_train, on=\"user_id\", how=\"left\").fillna(0)"
   ]
  },
  {
   "cell_type": "code",
   "execution_count": 24,
   "metadata": {},
   "outputs": [
    {
     "data": {
      "text/html": [
       "<div>\n",
       "<style scoped>\n",
       "    .dataframe tbody tr th:only-of-type {\n",
       "        vertical-align: middle;\n",
       "    }\n",
       "\n",
       "    .dataframe tbody tr th {\n",
       "        vertical-align: top;\n",
       "    }\n",
       "\n",
       "    .dataframe thead th {\n",
       "        text-align: right;\n",
       "    }\n",
       "</style>\n",
       "<table border=\"1\" class=\"dataframe\">\n",
       "  <thead>\n",
       "    <tr style=\"text-align: right;\">\n",
       "      <th></th>\n",
       "      <th>timestamp</th>\n",
       "      <th>user_id</th>\n",
       "      <th>item_id</th>\n",
       "      <th>available</th>\n",
       "      <th>categoryid</th>\n",
       "      <th>parentid</th>\n",
       "      <th>istransaction</th>\n",
       "      <th>day_of_week</th>\n",
       "      <th>day</th>\n",
       "      <th>hour</th>\n",
       "      <th>rating</th>\n",
       "      <th>target</th>\n",
       "      <th>user_id_enc</th>\n",
       "      <th>item_id_enc</th>\n",
       "      <th>categoryid_enc</th>\n",
       "      <th>parentid_enc</th>\n",
       "      <th>item_id_week</th>\n",
       "      <th>item_viewed</th>\n",
       "      <th>rating_avg</th>\n",
       "      <th>rating_std</th>\n",
       "    </tr>\n",
       "  </thead>\n",
       "  <tbody>\n",
       "    <tr>\n",
       "      <th>6621</th>\n",
       "      <td>2015-09-05 20:54:00</td>\n",
       "      <td>75595</td>\n",
       "      <td>389088</td>\n",
       "      <td>1</td>\n",
       "      <td>1322</td>\n",
       "      <td>252.0</td>\n",
       "      <td>0</td>\n",
       "      <td>5</td>\n",
       "      <td>5</td>\n",
       "      <td>20</td>\n",
       "      <td>0.017297</td>\n",
       "      <td>0</td>\n",
       "      <td>66596</td>\n",
       "      <td>347634</td>\n",
       "      <td>855</td>\n",
       "      <td>47</td>\n",
       "      <td>0.000000</td>\n",
       "      <td>0.0</td>\n",
       "      <td>0.00000</td>\n",
       "      <td>0.000000</td>\n",
       "    </tr>\n",
       "    <tr>\n",
       "      <th>3947</th>\n",
       "      <td>2015-09-09 06:01:00</td>\n",
       "      <td>265968</td>\n",
       "      <td>198539</td>\n",
       "      <td>1</td>\n",
       "      <td>1312</td>\n",
       "      <td>713.0</td>\n",
       "      <td>0</td>\n",
       "      <td>2</td>\n",
       "      <td>9</td>\n",
       "      <td>6</td>\n",
       "      <td>0.012020</td>\n",
       "      <td>1</td>\n",
       "      <td>233654</td>\n",
       "      <td>177486</td>\n",
       "      <td>848</td>\n",
       "      <td>109</td>\n",
       "      <td>2.857143</td>\n",
       "      <td>2.0</td>\n",
       "      <td>0.03049</td>\n",
       "      <td>0.018657</td>\n",
       "    </tr>\n",
       "    <tr>\n",
       "      <th>3710</th>\n",
       "      <td>2015-09-09 19:01:00</td>\n",
       "      <td>191465</td>\n",
       "      <td>176981</td>\n",
       "      <td>1</td>\n",
       "      <td>84</td>\n",
       "      <td>1308.0</td>\n",
       "      <td>0</td>\n",
       "      <td>2</td>\n",
       "      <td>9</td>\n",
       "      <td>19</td>\n",
       "      <td>0.022281</td>\n",
       "      <td>1</td>\n",
       "      <td>168174</td>\n",
       "      <td>158179</td>\n",
       "      <td>55</td>\n",
       "      <td>207</td>\n",
       "      <td>0.000000</td>\n",
       "      <td>0.0</td>\n",
       "      <td>0.00000</td>\n",
       "      <td>0.000000</td>\n",
       "    </tr>\n",
       "  </tbody>\n",
       "</table>\n",
       "</div>"
      ],
      "text/plain": [
       "               timestamp  user_id  item_id  available  categoryid  parentid  \\\n",
       "6621 2015-09-05 20:54:00    75595   389088          1        1322     252.0   \n",
       "3947 2015-09-09 06:01:00   265968   198539          1        1312     713.0   \n",
       "3710 2015-09-09 19:01:00   191465   176981          1          84    1308.0   \n",
       "\n",
       "      istransaction  day_of_week  day  hour    rating  target  user_id_enc  \\\n",
       "6621              0            5    5    20  0.017297       0        66596   \n",
       "3947              0            2    9     6  0.012020       1       233654   \n",
       "3710              0            2    9    19  0.022281       1       168174   \n",
       "\n",
       "      item_id_enc  categoryid_enc  parentid_enc  item_id_week  item_viewed  \\\n",
       "6621       347634             855            47      0.000000          0.0   \n",
       "3947       177486             848           109      2.857143          2.0   \n",
       "3710       158179              55           207      0.000000          0.0   \n",
       "\n",
       "      rating_avg  rating_std  \n",
       "6621     0.00000    0.000000  \n",
       "3947     0.03049    0.018657  \n",
       "3710     0.00000    0.000000  "
      ]
     },
     "execution_count": 24,
     "metadata": {},
     "output_type": "execute_result"
    }
   ],
   "source": [
    "# Посмотрим на результат\n",
    "candidates_for_train.sample(3)"
   ]
  },
  {
   "cell_type": "code",
   "execution_count": 25,
   "metadata": {},
   "outputs": [],
   "source": [
    "# Сохраним результат\n",
    "candidates_for_train.to_parquet('../data/candidates_for_train.parquet', engine='pyarrow')"
   ]
  },
  {
   "cell_type": "markdown",
   "metadata": {},
   "source": [
    "Далее необходимо объединить тренировочный датасет и таргет и получить рекомендации (имитируется поступление новых данных), чтобы в дальнейшем посчитать метрики."
   ]
  },
  {
   "cell_type": "code",
   "execution_count": 67,
   "metadata": {},
   "outputs": [
    {
     "name": "stdout",
     "output_type": "stream",
     "text": [
      "<class 'pandas.core.frame.DataFrame'>\n",
      "Index: 2464465 entries, 0 to 1290842\n",
      "Data columns (total 16 columns):\n",
      " #   Column          Dtype         \n",
      "---  ------          -----         \n",
      " 0   timestamp       datetime64[ns]\n",
      " 1   user_id         int64         \n",
      " 2   item_id         int64         \n",
      " 3   available       int64         \n",
      " 4   categoryid      int64         \n",
      " 5   parentid        float64       \n",
      " 6   istransaction   int64         \n",
      " 7   day_of_week     int64         \n",
      " 8   day             int64         \n",
      " 9   hour            int64         \n",
      " 10  rating          float64       \n",
      " 11  target          int64         \n",
      " 12  user_id_enc     int64         \n",
      " 13  item_id_enc     int64         \n",
      " 14  categoryid_enc  int64         \n",
      " 15  parentid_enc    int64         \n",
      "dtypes: datetime64[ns](1), float64(2), int64(13)\n",
      "memory usage: 319.6 MB\n"
     ]
    }
   ],
   "source": [
    "events_inference = pd.concat([events_train, events_labels])\n",
    "events_inference.info()"
   ]
  },
  {
   "cell_type": "code",
   "execution_count": 27,
   "metadata": {},
   "outputs": [],
   "source": [
    "# Оставляем только тех пользователей, что есть в тестовой выборке\n",
    "candidates_to_rank = events_inference[events_inference.user_id.isin(events_test_2.user_id.drop_duplicates())]"
   ]
  },
  {
   "cell_type": "code",
   "execution_count": 28,
   "metadata": {},
   "outputs": [
    {
     "data": {
      "text/html": [
       "<div>\n",
       "<style scoped>\n",
       "    .dataframe tbody tr th:only-of-type {\n",
       "        vertical-align: middle;\n",
       "    }\n",
       "\n",
       "    .dataframe tbody tr th {\n",
       "        vertical-align: top;\n",
       "    }\n",
       "\n",
       "    .dataframe thead th {\n",
       "        text-align: right;\n",
       "    }\n",
       "</style>\n",
       "<table border=\"1\" class=\"dataframe\">\n",
       "  <thead>\n",
       "    <tr style=\"text-align: right;\">\n",
       "      <th></th>\n",
       "      <th>timestamp</th>\n",
       "      <th>user_id</th>\n",
       "      <th>item_id</th>\n",
       "      <th>available</th>\n",
       "      <th>categoryid</th>\n",
       "      <th>parentid</th>\n",
       "      <th>istransaction</th>\n",
       "      <th>day_of_week</th>\n",
       "      <th>day</th>\n",
       "      <th>hour</th>\n",
       "      <th>rating</th>\n",
       "      <th>target</th>\n",
       "      <th>user_id_enc</th>\n",
       "      <th>item_id_enc</th>\n",
       "      <th>categoryid_enc</th>\n",
       "      <th>parentid_enc</th>\n",
       "    </tr>\n",
       "  </thead>\n",
       "  <tbody>\n",
       "    <tr>\n",
       "      <th>895411</th>\n",
       "      <td>2015-08-21 18:21:00</td>\n",
       "      <td>316600</td>\n",
       "      <td>171771</td>\n",
       "      <td>0</td>\n",
       "      <td>295</td>\n",
       "      <td>20.0</td>\n",
       "      <td>0</td>\n",
       "      <td>4</td>\n",
       "      <td>21</td>\n",
       "      <td>18</td>\n",
       "      <td>0.031662</td>\n",
       "      <td>0</td>\n",
       "      <td>278083</td>\n",
       "      <td>153530</td>\n",
       "      <td>194</td>\n",
       "      <td>5</td>\n",
       "    </tr>\n",
       "    <tr>\n",
       "      <th>1119435</th>\n",
       "      <td>2015-05-06 19:44:00</td>\n",
       "      <td>895999</td>\n",
       "      <td>388755</td>\n",
       "      <td>1</td>\n",
       "      <td>1051</td>\n",
       "      <td>955.0</td>\n",
       "      <td>0</td>\n",
       "      <td>2</td>\n",
       "      <td>6</td>\n",
       "      <td>19</td>\n",
       "      <td>0.034594</td>\n",
       "      <td>0</td>\n",
       "      <td>786721</td>\n",
       "      <td>347343</td>\n",
       "      <td>676</td>\n",
       "      <td>155</td>\n",
       "    </tr>\n",
       "    <tr>\n",
       "      <th>644366</th>\n",
       "      <td>2015-08-06 15:17:00</td>\n",
       "      <td>152963</td>\n",
       "      <td>417927</td>\n",
       "      <td>0</td>\n",
       "      <td>959</td>\n",
       "      <td>1095.0</td>\n",
       "      <td>0</td>\n",
       "      <td>3</td>\n",
       "      <td>6</td>\n",
       "      <td>15</td>\n",
       "      <td>0.121372</td>\n",
       "      <td>0</td>\n",
       "      <td>134432</td>\n",
       "      <td>373408</td>\n",
       "      <td>615</td>\n",
       "      <td>176</td>\n",
       "    </tr>\n",
       "  </tbody>\n",
       "</table>\n",
       "</div>"
      ],
      "text/plain": [
       "                  timestamp  user_id  item_id  available  categoryid  \\\n",
       "895411  2015-08-21 18:21:00   316600   171771          0         295   \n",
       "1119435 2015-05-06 19:44:00   895999   388755          1        1051   \n",
       "644366  2015-08-06 15:17:00   152963   417927          0         959   \n",
       "\n",
       "         parentid  istransaction  day_of_week  day  hour    rating  target  \\\n",
       "895411       20.0              0            4   21    18  0.031662       0   \n",
       "1119435     955.0              0            2    6    19  0.034594       0   \n",
       "644366     1095.0              0            3    6    15  0.121372       0   \n",
       "\n",
       "         user_id_enc  item_id_enc  categoryid_enc  parentid_enc  \n",
       "895411        278083       153530             194             5  \n",
       "1119435       786721       347343             676           155  \n",
       "644366        134432       373408             615           176  "
      ]
     },
     "execution_count": 28,
     "metadata": {},
     "output_type": "execute_result"
    }
   ],
   "source": [
    "# Проверим результат\n",
    "candidates_to_rank.sample(3)"
   ]
  },
  {
   "cell_type": "code",
   "execution_count": 29,
   "metadata": {},
   "outputs": [],
   "source": [
    "# Получим новые признаки\n",
    "user_features_for_ranking = get_user_features(events_inference[events_inference['target']==0])\n",
    "candidates_to_rank = candidates_to_rank.merge(user_features_for_ranking, on=\"user_id\", how=\"left\").fillna(0)"
   ]
  },
  {
   "cell_type": "code",
   "execution_count": 30,
   "metadata": {},
   "outputs": [
    {
     "data": {
      "text/html": [
       "<div>\n",
       "<style scoped>\n",
       "    .dataframe tbody tr th:only-of-type {\n",
       "        vertical-align: middle;\n",
       "    }\n",
       "\n",
       "    .dataframe tbody tr th {\n",
       "        vertical-align: top;\n",
       "    }\n",
       "\n",
       "    .dataframe thead th {\n",
       "        text-align: right;\n",
       "    }\n",
       "</style>\n",
       "<table border=\"1\" class=\"dataframe\">\n",
       "  <thead>\n",
       "    <tr style=\"text-align: right;\">\n",
       "      <th></th>\n",
       "      <th>timestamp</th>\n",
       "      <th>user_id</th>\n",
       "      <th>item_id</th>\n",
       "      <th>available</th>\n",
       "      <th>categoryid</th>\n",
       "      <th>parentid</th>\n",
       "      <th>istransaction</th>\n",
       "      <th>day_of_week</th>\n",
       "      <th>day</th>\n",
       "      <th>hour</th>\n",
       "      <th>rating</th>\n",
       "      <th>target</th>\n",
       "      <th>user_id_enc</th>\n",
       "      <th>item_id_enc</th>\n",
       "      <th>categoryid_enc</th>\n",
       "      <th>parentid_enc</th>\n",
       "      <th>item_id_week</th>\n",
       "      <th>item_viewed</th>\n",
       "      <th>rating_avg</th>\n",
       "      <th>rating_std</th>\n",
       "    </tr>\n",
       "  </thead>\n",
       "  <tbody>\n",
       "    <tr>\n",
       "      <th>9926</th>\n",
       "      <td>2015-08-06 07:06:00</td>\n",
       "      <td>976674</td>\n",
       "      <td>284067</td>\n",
       "      <td>1</td>\n",
       "      <td>1455</td>\n",
       "      <td>213.0</td>\n",
       "      <td>0</td>\n",
       "      <td>3</td>\n",
       "      <td>6</td>\n",
       "      <td>7</td>\n",
       "      <td>0.000880</td>\n",
       "      <td>0</td>\n",
       "      <td>857589</td>\n",
       "      <td>253808</td>\n",
       "      <td>939</td>\n",
       "      <td>41</td>\n",
       "      <td>4.428571</td>\n",
       "      <td>11.0</td>\n",
       "      <td>0.01226</td>\n",
       "      <td>0.017466</td>\n",
       "    </tr>\n",
       "    <tr>\n",
       "      <th>10179</th>\n",
       "      <td>2015-08-06 07:05:00</td>\n",
       "      <td>976674</td>\n",
       "      <td>284067</td>\n",
       "      <td>1</td>\n",
       "      <td>1455</td>\n",
       "      <td>213.0</td>\n",
       "      <td>0</td>\n",
       "      <td>3</td>\n",
       "      <td>6</td>\n",
       "      <td>7</td>\n",
       "      <td>0.000880</td>\n",
       "      <td>0</td>\n",
       "      <td>857589</td>\n",
       "      <td>253808</td>\n",
       "      <td>939</td>\n",
       "      <td>41</td>\n",
       "      <td>4.428571</td>\n",
       "      <td>11.0</td>\n",
       "      <td>0.01226</td>\n",
       "      <td>0.017466</td>\n",
       "    </tr>\n",
       "    <tr>\n",
       "      <th>14992</th>\n",
       "      <td>2015-08-19 04:14:00</td>\n",
       "      <td>976674</td>\n",
       "      <td>36284</td>\n",
       "      <td>1</td>\n",
       "      <td>1244</td>\n",
       "      <td>500.0</td>\n",
       "      <td>0</td>\n",
       "      <td>2</td>\n",
       "      <td>19</td>\n",
       "      <td>4</td>\n",
       "      <td>0.002345</td>\n",
       "      <td>0</td>\n",
       "      <td>857589</td>\n",
       "      <td>32400</td>\n",
       "      <td>800</td>\n",
       "      <td>83</td>\n",
       "      <td>4.428571</td>\n",
       "      <td>11.0</td>\n",
       "      <td>0.01226</td>\n",
       "      <td>0.017466</td>\n",
       "    </tr>\n",
       "    <tr>\n",
       "      <th>19846</th>\n",
       "      <td>2015-08-26 19:20:00</td>\n",
       "      <td>976674</td>\n",
       "      <td>272422</td>\n",
       "      <td>1</td>\n",
       "      <td>1623</td>\n",
       "      <td>1066.0</td>\n",
       "      <td>0</td>\n",
       "      <td>2</td>\n",
       "      <td>26</td>\n",
       "      <td>19</td>\n",
       "      <td>0.001466</td>\n",
       "      <td>0</td>\n",
       "      <td>857589</td>\n",
       "      <td>243406</td>\n",
       "      <td>1043</td>\n",
       "      <td>172</td>\n",
       "      <td>4.428571</td>\n",
       "      <td>11.0</td>\n",
       "      <td>0.01226</td>\n",
       "      <td>0.017466</td>\n",
       "    </tr>\n",
       "    <tr>\n",
       "      <th>36407</th>\n",
       "      <td>2015-07-26 01:01:00</td>\n",
       "      <td>976674</td>\n",
       "      <td>120903</td>\n",
       "      <td>0</td>\n",
       "      <td>828</td>\n",
       "      <td>293.0</td>\n",
       "      <td>0</td>\n",
       "      <td>6</td>\n",
       "      <td>26</td>\n",
       "      <td>1</td>\n",
       "      <td>0.003518</td>\n",
       "      <td>0</td>\n",
       "      <td>857589</td>\n",
       "      <td>108078</td>\n",
       "      <td>538</td>\n",
       "      <td>51</td>\n",
       "      <td>4.428571</td>\n",
       "      <td>11.0</td>\n",
       "      <td>0.01226</td>\n",
       "      <td>0.017466</td>\n",
       "    </tr>\n",
       "  </tbody>\n",
       "</table>\n",
       "</div>"
      ],
      "text/plain": [
       "                timestamp  user_id  item_id  available  categoryid  parentid  \\\n",
       "9926  2015-08-06 07:06:00   976674   284067          1        1455     213.0   \n",
       "10179 2015-08-06 07:05:00   976674   284067          1        1455     213.0   \n",
       "14992 2015-08-19 04:14:00   976674    36284          1        1244     500.0   \n",
       "19846 2015-08-26 19:20:00   976674   272422          1        1623    1066.0   \n",
       "36407 2015-07-26 01:01:00   976674   120903          0         828     293.0   \n",
       "\n",
       "       istransaction  day_of_week  day  hour    rating  target  user_id_enc  \\\n",
       "9926               0            3    6     7  0.000880       0       857589   \n",
       "10179              0            3    6     7  0.000880       0       857589   \n",
       "14992              0            2   19     4  0.002345       0       857589   \n",
       "19846              0            2   26    19  0.001466       0       857589   \n",
       "36407              0            6   26     1  0.003518       0       857589   \n",
       "\n",
       "       item_id_enc  categoryid_enc  parentid_enc  item_id_week  item_viewed  \\\n",
       "9926        253808             939            41      4.428571         11.0   \n",
       "10179       253808             939            41      4.428571         11.0   \n",
       "14992        32400             800            83      4.428571         11.0   \n",
       "19846       243406            1043           172      4.428571         11.0   \n",
       "36407       108078             538            51      4.428571         11.0   \n",
       "\n",
       "       rating_avg  rating_std  \n",
       "9926      0.01226    0.017466  \n",
       "10179     0.01226    0.017466  \n",
       "14992     0.01226    0.017466  \n",
       "19846     0.01226    0.017466  \n",
       "36407     0.01226    0.017466  "
      ]
     },
     "execution_count": 30,
     "metadata": {},
     "output_type": "execute_result"
    }
   ],
   "source": [
    "# Проверим результат\n",
    "candidates_to_rank[candidates_to_rank['user_id']==976674].head()"
   ]
  },
  {
   "cell_type": "code",
   "execution_count": 33,
   "metadata": {},
   "outputs": [],
   "source": [
    "# Сохраним результат\n",
    "candidates_to_rank.to_parquet('../data/candidates_to_rank.parquet', engine='pyarrow')"
   ]
  },
  {
   "cell_type": "markdown",
   "metadata": {},
   "source": [
    "Обучим модель с таргетом 0 и 1, а потом отранжируем рекомендации на основе полученных вероятностей принадлежности к 1 классу (вероятность прослушивания)"
   ]
  },
  {
   "cell_type": "code",
   "execution_count": 39,
   "metadata": {},
   "outputs": [
    {
     "name": "stdout",
     "output_type": "stream",
     "text": [
      "0:\tlearn: 0.6759682\ttotal: 82.8ms\tremaining: 4m 49s\n",
      "100:\tlearn: 0.5215029\ttotal: 956ms\tremaining: 32.2s\n",
      "200:\tlearn: 0.4862991\ttotal: 1.84s\tremaining: 30.2s\n",
      "300:\tlearn: 0.4562027\ttotal: 2.7s\tremaining: 28.7s\n",
      "400:\tlearn: 0.4319450\ttotal: 3.58s\tremaining: 27.6s\n",
      "500:\tlearn: 0.4127547\ttotal: 4.45s\tremaining: 26.7s\n",
      "600:\tlearn: 0.3918378\ttotal: 5.45s\tremaining: 26.3s\n",
      "700:\tlearn: 0.3724731\ttotal: 6.49s\tremaining: 25.9s\n",
      "800:\tlearn: 0.3563122\ttotal: 7.41s\tremaining: 25s\n",
      "900:\tlearn: 0.3381129\ttotal: 8.34s\tremaining: 24.1s\n",
      "1000:\tlearn: 0.3244788\ttotal: 9.3s\tremaining: 23.2s\n",
      "1100:\tlearn: 0.3104138\ttotal: 10.2s\tremaining: 22.3s\n",
      "1200:\tlearn: 0.2968605\ttotal: 11.2s\tremaining: 21.4s\n",
      "1300:\tlearn: 0.2837123\ttotal: 12.1s\tremaining: 20.5s\n",
      "1400:\tlearn: 0.2726753\ttotal: 13.1s\tremaining: 19.6s\n",
      "1500:\tlearn: 0.2613820\ttotal: 14s\tremaining: 18.7s\n",
      "1600:\tlearn: 0.2504410\ttotal: 15s\tremaining: 17.7s\n",
      "1700:\tlearn: 0.2405217\ttotal: 15.9s\tremaining: 16.8s\n",
      "1800:\tlearn: 0.2298590\ttotal: 16.9s\tremaining: 15.9s\n",
      "1900:\tlearn: 0.2206294\ttotal: 17.8s\tremaining: 15s\n",
      "2000:\tlearn: 0.2109037\ttotal: 18.8s\tremaining: 14s\n",
      "2100:\tlearn: 0.2015227\ttotal: 19.7s\tremaining: 13.1s\n",
      "2200:\tlearn: 0.1936437\ttotal: 20.7s\tremaining: 12.2s\n",
      "2300:\tlearn: 0.1858151\ttotal: 21.6s\tremaining: 11.3s\n",
      "2400:\tlearn: 0.1779050\ttotal: 22.6s\tremaining: 10.3s\n",
      "2500:\tlearn: 0.1710098\ttotal: 23.6s\tremaining: 9.41s\n",
      "2600:\tlearn: 0.1640503\ttotal: 24.5s\tremaining: 8.47s\n",
      "2700:\tlearn: 0.1582482\ttotal: 25.5s\tremaining: 7.54s\n",
      "2800:\tlearn: 0.1523992\ttotal: 26.4s\tremaining: 6.6s\n",
      "2900:\tlearn: 0.1465430\ttotal: 27.4s\tremaining: 5.65s\n",
      "3000:\tlearn: 0.1409158\ttotal: 28.3s\tremaining: 4.71s\n",
      "3100:\tlearn: 0.1354911\ttotal: 29.3s\tremaining: 3.77s\n",
      "3200:\tlearn: 0.1307262\ttotal: 30.3s\tremaining: 2.83s\n",
      "3300:\tlearn: 0.1258033\ttotal: 31.3s\tremaining: 1.88s\n",
      "3400:\tlearn: 0.1215676\ttotal: 32.2s\tremaining: 937ms\n",
      "3499:\tlearn: 0.1181125\ttotal: 33.1s\tremaining: 0us\n"
     ]
    },
    {
     "data": {
      "text/plain": [
       "<catboost.core.CatBoostClassifier at 0x7f9c9c0b0d30>"
      ]
     },
     "execution_count": 39,
     "metadata": {},
     "output_type": "execute_result"
    }
   ],
   "source": [
    "# Задаём имена колонок признаков и таргета\n",
    "features = ['categoryid_enc',\n",
    "                'parentid_enc',\n",
    "                'available',\n",
    "                'istransaction',\n",
    "                'day_of_week',\n",
    "                'day',\n",
    "                'hour',\n",
    "                'rating',\n",
    "                'item_id_week',\n",
    "                'item_viewed',\n",
    "                'rating_avg',\n",
    "                'rating_std']\n",
    "\n",
    "cat_features = ['categoryid_enc',\n",
    "                'parentid_enc',\n",
    "                'available',\n",
    "                'istransaction',\n",
    "                'day_of_week',\n",
    "                'day',\n",
    "                'hour']\n",
    "\n",
    "target = [\"target\"]\n",
    "\n",
    "train_data = Pool(\n",
    "    data=candidates_for_train[features],\n",
    "    label=candidates_for_train[target],\n",
    "    cat_features=cat_features,\n",
    ")\n",
    "\n",
    "# Инициализируем модель CatBoostClassifier\n",
    "cb_model = CatBoostClassifier(iterations=3500,\n",
    "                           learning_rate=0.1,\n",
    "                           depth=6,\n",
    "                           loss_function='Logloss',\n",
    "                           auto_class_weights='Balanced',\n",
    "                           verbose=100,\n",
    "                           early_stopping_rounds=50,\n",
    "                           random_seed=RANDOM_STATE)\n",
    "\n",
    "# Обучим модель\n",
    "cb_model.fit(train_data)"
   ]
  },
  {
   "cell_type": "code",
   "execution_count": 40,
   "metadata": {},
   "outputs": [],
   "source": [
    "# Создадим датасет для катбуста\n",
    "inference_data = Pool(data=candidates_to_rank[features], cat_features=cat_features)\n",
    "# Получим вероятности\n",
    "predictions = cb_model.predict_proba(inference_data)\n",
    "\n",
    "# Создадим признак с вероятностями базовой модели\n",
    "candidates_to_rank[\"cb_score\"] = predictions[:, 1]"
   ]
  },
  {
   "cell_type": "code",
   "execution_count": 41,
   "metadata": {},
   "outputs": [],
   "source": [
    "# Для каждого пользователя проставляем rank, начиная с 1 — это максимальный cb_score\n",
    "candidates_to_rank = candidates_to_rank.sort_values([\"user_id\", \"cb_score\"], ascending=[True, False])\n",
    "candidates_to_rank[\"rank\"] = candidates_to_rank.groupby(\"user_id\").cumcount() + 1\n",
    "\n",
    "# Отранжируем рекомендации\n",
    "candidates_to_rank[\"rank\"] = candidates_to_rank.groupby(\"user_id\").cumcount() + 1"
   ]
  },
  {
   "cell_type": "code",
   "execution_count": 42,
   "metadata": {},
   "outputs": [
    {
     "data": {
      "text/html": [
       "<div>\n",
       "<style scoped>\n",
       "    .dataframe tbody tr th:only-of-type {\n",
       "        vertical-align: middle;\n",
       "    }\n",
       "\n",
       "    .dataframe tbody tr th {\n",
       "        vertical-align: top;\n",
       "    }\n",
       "\n",
       "    .dataframe thead th {\n",
       "        text-align: right;\n",
       "    }\n",
       "</style>\n",
       "<table border=\"1\" class=\"dataframe\">\n",
       "  <thead>\n",
       "    <tr style=\"text-align: right;\">\n",
       "      <th></th>\n",
       "      <th>user_id</th>\n",
       "      <th>item_id</th>\n",
       "      <th>cb_score</th>\n",
       "      <th>rank</th>\n",
       "    </tr>\n",
       "  </thead>\n",
       "  <tbody>\n",
       "    <tr>\n",
       "      <th>49906</th>\n",
       "      <td>164</td>\n",
       "      <td>106828</td>\n",
       "      <td>0.881591</td>\n",
       "      <td>1</td>\n",
       "    </tr>\n",
       "    <tr>\n",
       "      <th>5666</th>\n",
       "      <td>535</td>\n",
       "      <td>252427</td>\n",
       "      <td>0.750677</td>\n",
       "      <td>1</td>\n",
       "    </tr>\n",
       "    <tr>\n",
       "      <th>20348</th>\n",
       "      <td>1612</td>\n",
       "      <td>177570</td>\n",
       "      <td>0.075264</td>\n",
       "      <td>1</td>\n",
       "    </tr>\n",
       "    <tr>\n",
       "      <th>23043</th>\n",
       "      <td>1808</td>\n",
       "      <td>141635</td>\n",
       "      <td>0.139643</td>\n",
       "      <td>1</td>\n",
       "    </tr>\n",
       "    <tr>\n",
       "      <th>28544</th>\n",
       "      <td>2454</td>\n",
       "      <td>275269</td>\n",
       "      <td>0.857130</td>\n",
       "      <td>1</td>\n",
       "    </tr>\n",
       "    <tr>\n",
       "      <th>49791</th>\n",
       "      <td>2454</td>\n",
       "      <td>362974</td>\n",
       "      <td>0.361016</td>\n",
       "      <td>2</td>\n",
       "    </tr>\n",
       "    <tr>\n",
       "      <th>44175</th>\n",
       "      <td>2519</td>\n",
       "      <td>248032</td>\n",
       "      <td>0.795029</td>\n",
       "      <td>1</td>\n",
       "    </tr>\n",
       "    <tr>\n",
       "      <th>44012</th>\n",
       "      <td>2519</td>\n",
       "      <td>413125</td>\n",
       "      <td>0.740487</td>\n",
       "      <td>2</td>\n",
       "    </tr>\n",
       "    <tr>\n",
       "      <th>44169</th>\n",
       "      <td>2519</td>\n",
       "      <td>413125</td>\n",
       "      <td>0.740487</td>\n",
       "      <td>3</td>\n",
       "    </tr>\n",
       "    <tr>\n",
       "      <th>44170</th>\n",
       "      <td>2519</td>\n",
       "      <td>413125</td>\n",
       "      <td>0.740487</td>\n",
       "      <td>4</td>\n",
       "    </tr>\n",
       "  </tbody>\n",
       "</table>\n",
       "</div>"
      ],
      "text/plain": [
       "       user_id  item_id  cb_score  rank\n",
       "49906      164   106828  0.881591     1\n",
       "5666       535   252427  0.750677     1\n",
       "20348     1612   177570  0.075264     1\n",
       "23043     1808   141635  0.139643     1\n",
       "28544     2454   275269  0.857130     1\n",
       "49791     2454   362974  0.361016     2\n",
       "44175     2519   248032  0.795029     1\n",
       "44012     2519   413125  0.740487     2\n",
       "44169     2519   413125  0.740487     3\n",
       "44170     2519   413125  0.740487     4"
      ]
     },
     "execution_count": 42,
     "metadata": {},
     "output_type": "execute_result"
    }
   ],
   "source": [
    "# Посмотрим на результат\n",
    "candidates_to_rank[['user_id','item_id','cb_score','rank']].head(10)"
   ]
  },
  {
   "cell_type": "code",
   "execution_count": 46,
   "metadata": {},
   "outputs": [
    {
     "data": {
      "image/png": "[encoded data removed]",
      "text/plain": [
       "<Figure size 600x400 with 1 Axes>"
      ]
     },
     "metadata": {},
     "output_type": "display_data"
    }
   ],
   "source": [
    "# Выведем диаграмму с оценкой влияния признаков на целевой\n",
    "imp = pd.Series(cb_model.feature_importances_,\n",
    "                features)\n",
    "\n",
    "fig, ax = plt.subplots(figsize=(6,4))\n",
    "imp.sort_values(ascending=False).plot.bar(ax=ax)\n",
    "ax.set_title(\"Важность признаков\")\n",
    "ax.set_ylabel('Важность')\n",
    "fig.tight_layout()\n",
    "\n",
    "plt.savefig(os.path.join(ASSETS_DIR, 'cb_features_important'))"
   ]
  },
  {
   "cell_type": "markdown",
   "metadata": {},
   "source": [
    "Наиболее важными для модели оказались категориальные признаки. Час и день взаимодействия с товарами оказывают сильное влияние на прогноз."
   ]
  },
  {
   "cell_type": "code",
   "execution_count": 83,
   "metadata": {},
   "outputs": [],
   "source": [
    "# Сохраним результат с другим названием\n",
    "recommendations = candidates_to_rank[['user_id','item_id','rank']].copy()\n",
    "\n",
    "# Сохраним результат в рекомендации\n",
    "recommendations.to_parquet(\"../recsys/recommendations/recommendations.parquet\", engine='pyarrow')"
   ]
  },
  {
   "cell_type": "code",
   "execution_count": 124,
   "metadata": {},
   "outputs": [
    {
     "name": "stderr",
     "output_type": "stream",
     "text": [
      "Successfully registered model 'ranking_model'.\n",
      "2025/01/28 21:00:44 INFO mlflow.tracking._model_registry.client: Waiting up to 60 seconds for model version to finish creation. Model name: ranking_model, version 1\n",
      "Created version '1' of model 'ranking_model'.\n"
     ]
    }
   ],
   "source": [
    "RUN_NAME = 'recsys_final_recs'\n",
    "\n",
    "os.environ[\"MLFLOW_S3_ENDPOINT_URL\"] = \"https://storage.yandexcloud.net\" \n",
    "os.environ[\"AWS_ACCESS_KEY_ID\"] = os.getenv(\"AWS_ACCESS_KEY_ID\") \n",
    "os.environ[\"AWS_SECRET_ACCESS_KEY\"] = os.getenv(\"AWS_SECRET_ACCESS_KEY\")\n",
    "\n",
    "\n",
    "mlflow.set_tracking_uri(f\"http://{TRACKING_SERVER_HOST}:{TRACKING_SERVER_PORT}\")\n",
    "mlflow.set_registry_uri(f\"http://{TRACKING_SERVER_HOST}:{TRACKING_SERVER_PORT}\")\n",
    "\n",
    "# настройки для логирования в MLFlow\n",
    "pip_requirements = '../requirements.txt'\n",
    "signature = mlflow.models.infer_signature(candidates_for_train[features], candidates_to_rank[\"cb_score\"])\n",
    "input_example = candidates_for_train[features][:10]\n",
    "\n",
    "experiment_id = mlflow.get_experiment_by_name(EXPERIMENT_NAME).experiment_id\n",
    "\n",
    "parquet_file_path = \"recommendations.parquet\"\n",
    "recommendations.to_parquet(parquet_file_path, engine='pyarrow')\n",
    "\n",
    "with mlflow.start_run(run_name=RUN_NAME, experiment_id=experiment_id) as run:\n",
    "    run_id = run.info.run_id\n",
    "    \n",
    "    mlflow.log_artifacts(ASSETS_DIR)\n",
    "\n",
    "    model_info = mlflow.catboost.log_model( \n",
    "\t\tcb_model=cb_model,\n",
    "        artifact_path=\"models\",\n",
    "        registered_model_name=REGISTRY_MODEL_NAME,\n",
    "        signature=signature,\n",
    "        input_example=input_example,\n",
    "        await_registration_for=60,\n",
    "        pip_requirements=pip_requirements)\n",
    "    \n",
    "    mlflow.log_artifact(parquet_file_path)"
   ]
  },
  {
   "cell_type": "markdown",
   "metadata": {},
   "source": [
    "## Оценка качества\n",
    "\n",
    "Проверим оценку качества рекомендаций по умолчанию (топ-50 популярных) и персональных рекомендаций, полученных с помощью бустинговой модели по четырем метрикам: recall, precision, coverage, novelty."
   ]
  },
  {
   "cell_type": "code",
   "execution_count": 52,
   "metadata": {},
   "outputs": [],
   "source": [
    "# Загрузим рекомендации\n",
    "top_k_pop_items = pd.read_parquet('../recsys/recommendations/top_popular.parquet')\n",
    "cold_users = pd.read_csv('../data/cold_users.csv', index_col=False)"
   ]
  },
  {
   "cell_type": "code",
   "execution_count": 53,
   "metadata": {},
   "outputs": [
    {
     "name": "stdout",
     "output_type": "stream",
     "text": [
      "<class 'pandas.core.frame.DataFrame'>\n",
      "Index: 228070 entries, 1039211 to 1323988\n",
      "Data columns (total 15 columns):\n",
      " #   Column          Non-Null Count   Dtype         \n",
      "---  ------          --------------   -----         \n",
      " 0   timestamp       228070 non-null  datetime64[ns]\n",
      " 1   user_id         228070 non-null  int64         \n",
      " 2   item_id         228070 non-null  int64         \n",
      " 3   available       228070 non-null  int64         \n",
      " 4   categoryid      228070 non-null  int64         \n",
      " 5   parentid        228070 non-null  float64       \n",
      " 6   istransaction   228070 non-null  int64         \n",
      " 7   day_of_week     228070 non-null  int64         \n",
      " 8   day             228070 non-null  int64         \n",
      " 9   hour            228070 non-null  int64         \n",
      " 10  rating          228070 non-null  float64       \n",
      " 11  target          228070 non-null  int64         \n",
      " 12  user_id_enc     228070 non-null  int64         \n",
      " 13  categoryid_enc  228070 non-null  int64         \n",
      " 14  parentid_enc    228070 non-null  int64         \n",
      "dtypes: datetime64[ns](1), float64(2), int64(12)\n",
      "memory usage: 27.8 MB\n"
     ]
    }
   ],
   "source": [
    "# Будем использовать холодных пользователей для оценки\n",
    "user_list = list(cold_users['user_id'].unique())\n",
    "\n",
    "events_cold = events[events['user_id'].isin(user_list)]\n",
    "events_cold.info()"
   ]
  },
  {
   "cell_type": "code",
   "execution_count": 54,
   "metadata": {},
   "outputs": [
    {
     "data": {
      "text/html": [
       "<div>\n",
       "<style scoped>\n",
       "    .dataframe tbody tr th:only-of-type {\n",
       "        vertical-align: middle;\n",
       "    }\n",
       "\n",
       "    .dataframe tbody tr th {\n",
       "        vertical-align: top;\n",
       "    }\n",
       "\n",
       "    .dataframe thead th {\n",
       "        text-align: right;\n",
       "    }\n",
       "</style>\n",
       "<table border=\"1\" class=\"dataframe\">\n",
       "  <thead>\n",
       "    <tr style=\"text-align: right;\">\n",
       "      <th></th>\n",
       "      <th>timestamp</th>\n",
       "      <th>user_id</th>\n",
       "      <th>item_id</th>\n",
       "      <th>available</th>\n",
       "      <th>categoryid</th>\n",
       "      <th>parentid</th>\n",
       "      <th>istransaction</th>\n",
       "      <th>day_of_week</th>\n",
       "      <th>day</th>\n",
       "      <th>hour</th>\n",
       "      <th>rating</th>\n",
       "      <th>target</th>\n",
       "      <th>user_id_enc</th>\n",
       "      <th>categoryid_enc</th>\n",
       "      <th>parentid_enc</th>\n",
       "    </tr>\n",
       "  </thead>\n",
       "  <tbody>\n",
       "    <tr>\n",
       "      <th>1039211</th>\n",
       "      <td>2015-09-01 04:56:00</td>\n",
       "      <td>938236</td>\n",
       "      <td>374698</td>\n",
       "      <td>1</td>\n",
       "      <td>421</td>\n",
       "      <td>1424.0</td>\n",
       "      <td>0</td>\n",
       "      <td>1</td>\n",
       "      <td>1</td>\n",
       "      <td>4</td>\n",
       "      <td>0.077983</td>\n",
       "      <td>0</td>\n",
       "      <td>823800</td>\n",
       "      <td>272</td>\n",
       "      <td>224</td>\n",
       "    </tr>\n",
       "    <tr>\n",
       "      <th>1039212</th>\n",
       "      <td>2015-09-01 05:40:00</td>\n",
       "      <td>1016904</td>\n",
       "      <td>294319</td>\n",
       "      <td>0</td>\n",
       "      <td>209</td>\n",
       "      <td>293.0</td>\n",
       "      <td>0</td>\n",
       "      <td>1</td>\n",
       "      <td>1</td>\n",
       "      <td>5</td>\n",
       "      <td>0.008209</td>\n",
       "      <td>0</td>\n",
       "      <td>892914</td>\n",
       "      <td>134</td>\n",
       "      <td>51</td>\n",
       "    </tr>\n",
       "    <tr>\n",
       "      <th>1039213</th>\n",
       "      <td>2015-09-01 04:59:00</td>\n",
       "      <td>349857</td>\n",
       "      <td>277328</td>\n",
       "      <td>1</td>\n",
       "      <td>1051</td>\n",
       "      <td>955.0</td>\n",
       "      <td>0</td>\n",
       "      <td>1</td>\n",
       "      <td>1</td>\n",
       "      <td>4</td>\n",
       "      <td>0.077690</td>\n",
       "      <td>0</td>\n",
       "      <td>307207</td>\n",
       "      <td>676</td>\n",
       "      <td>155</td>\n",
       "    </tr>\n",
       "    <tr>\n",
       "      <th>1039214</th>\n",
       "      <td>2015-09-01 05:24:00</td>\n",
       "      <td>843815</td>\n",
       "      <td>42267</td>\n",
       "      <td>1</td>\n",
       "      <td>1589</td>\n",
       "      <td>1426.0</td>\n",
       "      <td>0</td>\n",
       "      <td>1</td>\n",
       "      <td>1</td>\n",
       "      <td>5</td>\n",
       "      <td>0.011140</td>\n",
       "      <td>0</td>\n",
       "      <td>740776</td>\n",
       "      <td>1025</td>\n",
       "      <td>225</td>\n",
       "    </tr>\n",
       "    <tr>\n",
       "      <th>1039216</th>\n",
       "      <td>2015-09-01 05:14:00</td>\n",
       "      <td>998325</td>\n",
       "      <td>145062</td>\n",
       "      <td>1</td>\n",
       "      <td>769</td>\n",
       "      <td>587.0</td>\n",
       "      <td>0</td>\n",
       "      <td>1</td>\n",
       "      <td>1</td>\n",
       "      <td>5</td>\n",
       "      <td>0.000293</td>\n",
       "      <td>0</td>\n",
       "      <td>876574</td>\n",
       "      <td>504</td>\n",
       "      <td>93</td>\n",
       "    </tr>\n",
       "  </tbody>\n",
       "</table>\n",
       "</div>"
      ],
      "text/plain": [
       "                  timestamp  user_id  item_id  available  categoryid  \\\n",
       "1039211 2015-09-01 04:56:00   938236   374698          1         421   \n",
       "1039212 2015-09-01 05:40:00  1016904   294319          0         209   \n",
       "1039213 2015-09-01 04:59:00   349857   277328          1        1051   \n",
       "1039214 2015-09-01 05:24:00   843815    42267          1        1589   \n",
       "1039216 2015-09-01 05:14:00   998325   145062          1         769   \n",
       "\n",
       "         parentid  istransaction  day_of_week  day  hour    rating  target  \\\n",
       "1039211    1424.0              0            1    1     4  0.077983       0   \n",
       "1039212     293.0              0            1    1     5  0.008209       0   \n",
       "1039213     955.0              0            1    1     4  0.077690       0   \n",
       "1039214    1426.0              0            1    1     5  0.011140       0   \n",
       "1039216     587.0              0            1    1     5  0.000293       0   \n",
       "\n",
       "         user_id_enc  categoryid_enc  parentid_enc  \n",
       "1039211       823800             272           224  \n",
       "1039212       892914             134            51  \n",
       "1039213       307207             676           155  \n",
       "1039214       740776            1025           225  \n",
       "1039216       876574             504            93  "
      ]
     },
     "execution_count": 54,
     "metadata": {},
     "output_type": "execute_result"
    }
   ],
   "source": [
    "# Посмотрим на полученные данные\n",
    "events_cold.head()"
   ]
  },
  {
   "cell_type": "code",
   "execution_count": 55,
   "metadata": {},
   "outputs": [
    {
     "data": {
      "text/html": [
       "<div>\n",
       "<style scoped>\n",
       "    .dataframe tbody tr th:only-of-type {\n",
       "        vertical-align: middle;\n",
       "    }\n",
       "\n",
       "    .dataframe tbody tr th {\n",
       "        vertical-align: top;\n",
       "    }\n",
       "\n",
       "    .dataframe thead th {\n",
       "        text-align: right;\n",
       "    }\n",
       "</style>\n",
       "<table border=\"1\" class=\"dataframe\">\n",
       "  <thead>\n",
       "    <tr style=\"text-align: right;\">\n",
       "      <th></th>\n",
       "      <th>item_id</th>\n",
       "      <th>users</th>\n",
       "      <th>avg_rating</th>\n",
       "      <th>rank</th>\n",
       "    </tr>\n",
       "  </thead>\n",
       "  <tbody>\n",
       "    <tr>\n",
       "      <th>71268</th>\n",
       "      <td>187946</td>\n",
       "      <td>2284</td>\n",
       "      <td>1.000000</td>\n",
       "      <td>1</td>\n",
       "    </tr>\n",
       "    <tr>\n",
       "      <th>2047</th>\n",
       "      <td>5411</td>\n",
       "      <td>1936</td>\n",
       "      <td>0.683964</td>\n",
       "      <td>2</td>\n",
       "    </tr>\n",
       "    <tr>\n",
       "      <th>140449</th>\n",
       "      <td>370653</td>\n",
       "      <td>1470</td>\n",
       "      <td>0.543242</td>\n",
       "      <td>3</td>\n",
       "    </tr>\n",
       "    <tr>\n",
       "      <th>112919</th>\n",
       "      <td>298009</td>\n",
       "      <td>1251</td>\n",
       "      <td>0.481091</td>\n",
       "      <td>4</td>\n",
       "    </tr>\n",
       "    <tr>\n",
       "      <th>36922</th>\n",
       "      <td>96924</td>\n",
       "      <td>1183</td>\n",
       "      <td>0.478452</td>\n",
       "      <td>5</td>\n",
       "    </tr>\n",
       "  </tbody>\n",
       "</table>\n",
       "</div>"
      ],
      "text/plain": [
       "        item_id  users  avg_rating  rank\n",
       "71268    187946   2284    1.000000     1\n",
       "2047       5411   1936    0.683964     2\n",
       "140449   370653   1470    0.543242     3\n",
       "112919   298009   1251    0.481091     4\n",
       "36922     96924   1183    0.478452     5"
      ]
     },
     "execution_count": 55,
     "metadata": {},
     "output_type": "execute_result"
    }
   ],
   "source": [
    "# Напомним, как выглядели рекомендации\n",
    "top_k_pop_items.head()"
   ]
  },
  {
   "cell_type": "code",
   "execution_count": 56,
   "metadata": {},
   "outputs": [],
   "source": [
    "# Добавим топ рекомендованных треков\n",
    "cold_users_events_with_recs = events_cold.merge(top_k_pop_items, on=\"item_id\", how=\"left\") \n",
    "\n",
    "# Отберем данные, которые удалось получить из рекомендаций без пропусков\n",
    "cold_user_items_no_avg_rating_idx = cold_users_events_with_recs[\"avg_rating\"].isnull()\n",
    "cold_user_recs = cold_users_events_with_recs[~cold_user_items_no_avg_rating_idx] \\\n",
    "                 [[\"user_id\", \"item_id\", \"avg_rating\"]]\n",
    "\n",
    "# Отберем данные, где рекомендации не были получены\n",
    "cold_user_no_recs = cold_users_events_with_recs[cold_user_items_no_avg_rating_idx] \\\n",
    "                  [[\"user_id\", \"item_id\", \"avg_rating\"]] "
   ]
  },
  {
   "cell_type": "code",
   "execution_count": 57,
   "metadata": {},
   "outputs": [
    {
     "name": "stdout",
     "output_type": "stream",
     "text": [
      "Доля пользователей без релевантных рекомендаций: 0.97\n",
      "Среднее покрытие пользователей: 0.84\n"
     ]
    }
   ],
   "source": [
    "# Посчитаем покрытие холодных пользователей рекомендациями\n",
    "cold_users_hit_ratio = cold_users_events_with_recs.groupby(\"user_id\").agg(hits=(\"avg_rating\", lambda x: (~x.isnull()).mean()))\n",
    "\n",
    "print(f\"Доля пользователей без релевантных рекомендаций: {(cold_users_hit_ratio == 0).mean().iat[0]:.2f}\")\n",
    "print(f\"Среднее покрытие пользователей: {cold_users_hit_ratio[cold_users_hit_ratio != 0].mean().iat[0]:.2f}\")"
   ]
  },
  {
   "cell_type": "code",
   "execution_count": 58,
   "metadata": {},
   "outputs": [
    {
     "name": "stdout",
     "output_type": "stream",
     "text": [
      "Рекомендации топ-50, recall: 0.02806\n"
     ]
    }
   ],
   "source": [
    "# Зададим функцию для расчета recall\n",
    "def calculate_not_null_mean(series: pd.Series) -> float:\n",
    "    \"\"\"Вычисляет среднее значение ненулевых значений\"\"\"\n",
    "    return series.notnull().mean()\n",
    "\n",
    "# Расчитаем среднее количество вхождений популярных треков для всех пользователей\n",
    "recall_top_popular = cold_users_events_with_recs.groupby(\"user_id\")[\"avg_rating\"].apply(calculate_not_null_mean).mean()\n",
    "\n",
    "print(f\"Рекомендации топ-50, recall: {recall_top_popular:.5f}\")"
   ]
  },
  {
   "cell_type": "markdown",
   "metadata": {},
   "source": [
    "Результаты по метрике recall получились низкими. Далее расчитаем метрики для персональных рекомендаций."
   ]
  },
  {
   "cell_type": "code",
   "execution_count": 73,
   "metadata": {},
   "outputs": [],
   "source": [
    "# Загрузим рекомендации\n",
    "final_recommendations = pd.read_parquet('../recsys/recommendations/recommendations.parquet', engine='pyarrow')"
   ]
  },
  {
   "cell_type": "code",
   "execution_count": 74,
   "metadata": {},
   "outputs": [],
   "source": [
    "def process_events_recs_for_binary_metrics(events_train, events_test, recs, top_k=None):\n",
    "\n",
    "    \"\"\"\n",
    "    Размечает пары <user_id, item_id> для общего множества пользователей признаками\n",
    "    - gt (ground truth)\n",
    "    - pr (prediction)\n",
    "    top_k: расчёт ведётся только для top k-рекомендаций\n",
    "    \"\"\"\n",
    "    \n",
    "    events_test[\"gt\"] = True\n",
    "    common_users = set(events_test[\"user_id\"]) & set(recs[\"user_id\"])\n",
    "\n",
    "    print(f\"Common users: {len(common_users)}\")\n",
    "    \n",
    "    events_for_common_users = events_test[events_test[\"user_id\"].isin(common_users)].copy()\n",
    "    recs_for_common_users = recs[recs[\"user_id\"].isin(common_users)].copy()\n",
    "\n",
    "    recs_for_common_users = recs_for_common_users.sort_values([\"user_id\", \"score\"], ascending=[True, False])\n",
    "\n",
    "    events_for_common_users = events_for_common_users[events_for_common_users[\"item_id\"].isin(\n",
    "        events_train[\"item_id\"].unique()\n",
    "    )\n",
    "    ]\n",
    "\n",
    "    if top_k is not None:\n",
    "        recs_for_common_users = recs_for_common_users.groupby(\"user_id\").head(top_k)\n",
    "    \n",
    "    events_recs_common = events_for_common_users[[\"user_id\", \"item_id\", \"gt\"]].merge(\n",
    "        recs_for_common_users[[\"user_id\", \"item_id\", \"score\"]], \n",
    "        on=[\"user_id\", \"item_id\"], \n",
    "        how=\"outer\",\n",
    "    )    \n",
    "\n",
    "    events_recs_common[\"gt\"] = events_recs_common[\"gt\"].fillna(False)\n",
    "    events_recs_common[\"pr\"] = ~events_recs_common[\"score\"].isnull()\n",
    "    \n",
    "    events_recs_common[\"tp\"] = events_recs_common[\"gt\"] & events_recs_common[\"pr\"]\n",
    "    events_recs_common[\"fp\"] = ~events_recs_common[\"gt\"] & events_recs_common[\"pr\"]\n",
    "    events_recs_common[\"fn\"] = events_recs_common[\"gt\"] & ~events_recs_common[\"pr\"]\n",
    "\n",
    "    return events_recs_common"
   ]
  },
  {
   "cell_type": "code",
   "execution_count": 75,
   "metadata": {},
   "outputs": [],
   "source": [
    "def compute_cls_metrics(events_recs_for_binary_metric):\n",
    "    \n",
    "    \"\"\"Расчет precision и recall\"\"\"\n",
    "    \n",
    "    groupper = events_recs_for_binary_metric.groupby(\"user_id\")\n",
    "\n",
    "    # Computing precision\n",
    "    precision = groupper[\"tp\"].sum()/(groupper[\"tp\"].sum()+groupper[\"fp\"].sum())\n",
    "    precision = precision.fillna(0).mean()\n",
    "    \n",
    "    # Computing recall\n",
    "    recall = groupper[\"tp\"].sum()/(groupper[\"tp\"].sum()+groupper[\"fn\"].sum())\n",
    "    recall = recall.fillna(0).mean()\n",
    "\n",
    "    return precision, recall"
   ]
  },
  {
   "cell_type": "code",
   "execution_count": 76,
   "metadata": {},
   "outputs": [
    {
     "name": "stdout",
     "output_type": "stream",
     "text": [
      "Common users: 3292\n",
      "Итоговые рекомендации, precision: 0.2316, recall: 0.2597\n"
     ]
    }
   ],
   "source": [
    "# Получим метрики для финальных рекомендаций\n",
    "cb_events_recs_for_binary_metrics_5 = process_events_recs_for_binary_metrics(\n",
    "    events_inference,\n",
    "    events_test_2,\n",
    "    final_recommendations.rename(columns={\"cb_score\": \"score\"}), \n",
    "    top_k=5)\n",
    "\n",
    "cb_precision_5, cb_recall_5 = compute_cls_metrics(cb_events_recs_for_binary_metrics_5)\n",
    "\n",
    "print(f\"Итоговые рекомендации, precision: {cb_precision_5:.4f}, recall: {cb_recall_5:.4f}\")"
   ]
  },
  {
   "cell_type": "code",
   "execution_count": 77,
   "metadata": {},
   "outputs": [
    {
     "name": "stdout",
     "output_type": "stream",
     "text": [
      "Итоговые рекомендации, покрытие: 6.26\n"
     ]
    }
   ],
   "source": [
    "# Расчёт покрытия по объектам\n",
    "cov_final = final_recommendations['item_id'].nunique() / final_recommendations['user_id'].nunique()\n",
    "\n",
    "print(f\"Итоговые рекомендации, покрытие: {cov_final:.2f}\") "
   ]
  },
  {
   "cell_type": "code",
   "execution_count": 78,
   "metadata": {},
   "outputs": [],
   "source": [
    "# Разметим каждую рекомендацию признаком viewed\n",
    "events_train[\"viewed\"] = True\n",
    "\n",
    "final_recommendations = final_recommendations.merge(events_train, on=[\"user_id\", \"item_id\"], how=\"left\")\n",
    "final_recommendations[\"viewed\"] = final_recommendations[\"viewed\"].fillna(False).astype(\"bool\")"
   ]
  },
  {
   "cell_type": "code",
   "execution_count": 79,
   "metadata": {},
   "outputs": [],
   "source": [
    "# Проставим ранги\n",
    "final_recommendations = final_recommendations.sort_values(by=[\"user_id\", \"cb_score\"], ascending=[True, False])\n",
    "final_recommendations[\"rank\"] = final_recommendations.groupby(\"user_id\").cumcount() + 1"
   ]
  },
  {
   "cell_type": "code",
   "execution_count": 80,
   "metadata": {},
   "outputs": [
    {
     "name": "stdout",
     "output_type": "stream",
     "text": [
      "Итоговые рекомендации, novelty_5: 0.444\n"
     ]
    }
   ],
   "source": [
    "# Посчитаем novelty по пользователям\n",
    "novelty_5_final = (1-final_recommendations.query(\"rank <= 5\").groupby(\"user_id\")[\"viewed\"].mean()).mean()\n",
    "\n",
    "print(f\"Итоговые рекомендации, novelty_5: {novelty_5_final:.3f}\")"
   ]
  },
  {
   "cell_type": "code",
   "execution_count": 109,
   "metadata": {},
   "outputs": [
    {
     "data": {
      "text/html": [
       "<div>\n",
       "<style scoped>\n",
       "    .dataframe tbody tr th:only-of-type {\n",
       "        vertical-align: middle;\n",
       "    }\n",
       "\n",
       "    .dataframe tbody tr th {\n",
       "        vertical-align: top;\n",
       "    }\n",
       "\n",
       "    .dataframe thead th {\n",
       "        text-align: right;\n",
       "    }\n",
       "</style>\n",
       "<table border=\"1\" class=\"dataframe\">\n",
       "  <thead>\n",
       "    <tr style=\"text-align: right;\">\n",
       "      <th></th>\n",
       "      <th>top_popular</th>\n",
       "      <th>final_recs</th>\n",
       "    </tr>\n",
       "  </thead>\n",
       "  <tbody>\n",
       "    <tr>\n",
       "      <th>recall_top_popular</th>\n",
       "      <td>0.028058</td>\n",
       "      <td>0.000000</td>\n",
       "    </tr>\n",
       "    <tr>\n",
       "      <th>precision_5</th>\n",
       "      <td>0.000000</td>\n",
       "      <td>0.231630</td>\n",
       "    </tr>\n",
       "    <tr>\n",
       "      <th>recall_5</th>\n",
       "      <td>0.000000</td>\n",
       "      <td>0.259695</td>\n",
       "    </tr>\n",
       "    <tr>\n",
       "      <th>coverage</th>\n",
       "      <td>0.000000</td>\n",
       "      <td>6.261239</td>\n",
       "    </tr>\n",
       "    <tr>\n",
       "      <th>novelty_5</th>\n",
       "      <td>0.000000</td>\n",
       "      <td>0.443879</td>\n",
       "    </tr>\n",
       "  </tbody>\n",
       "</table>\n",
       "</div>"
      ],
      "text/plain": [
       "                    top_popular  final_recs\n",
       "recall_top_popular     0.028058    0.000000\n",
       "precision_5            0.000000    0.231630\n",
       "recall_5               0.000000    0.259695\n",
       "coverage               0.000000    6.261239\n",
       "novelty_5              0.000000    0.443879"
      ]
     },
     "execution_count": 109,
     "metadata": {},
     "output_type": "execute_result"
    }
   ],
   "source": [
    "# Сделаем сводную таблицу по метрикам\n",
    "\n",
    "popular_metrics = pd.Series([recall_top_popular], index=[\"recall_top_popular\"], name=\"top_popular\")\n",
    "\n",
    "\n",
    "final_recs_metrics = pd.Series([cb_precision_5, cb_recall_5,cov_final,novelty_5_final], \n",
    "                               index=[\"precision_5\", \"recall_5\", \"coverage\", \"novelty_5\"],\n",
    "                               name=\"final_recs\")\n",
    "\n",
    "metrics_df = pd.concat([popular_metrics, final_recs_metrics], axis=1).fillna(0)\n",
    "\n",
    "metrics_df"
   ]
  },
  {
   "cell_type": "code",
   "execution_count": 110,
   "metadata": {},
   "outputs": [],
   "source": [
    "json_file_1 = metrics_df['top_popular'].to_json(orient='index')\n",
    "with open('../data/top_popular_metrics.json', 'w') as f:\n",
    "    f.write(json_file_1)\n",
    "\n",
    "# Сохранение второго JSON файла (второй столбец как ключи)\n",
    "json_file_2 = metrics_df['final_recs'].to_json(orient='index')\n",
    "with open('../data/final_recs_metrics.json', 'w') as f:\n",
    "    f.write(json_file_2)"
   ]
  },
  {
   "cell_type": "code",
   "execution_count": 111,
   "metadata": {},
   "outputs": [],
   "source": [
    "# Теперь создадим словари для логирования\n",
    "dict1 = metrics_df['top_popular'].to_dict()\n",
    "\n",
    "# Создание второго словаря (метрики и их значения)\n",
    "dict2 = metrics_df['final_recs'].to_dict()"
   ]
  },
  {
   "cell_type": "code",
   "execution_count": 125,
   "metadata": {},
   "outputs": [],
   "source": [
    "RUN_NAME = 'recsys_final_metrics'\n",
    "\n",
    "os.environ[\"MLFLOW_S3_ENDPOINT_URL\"] = \"https://storage.yandexcloud.net\" \n",
    "os.environ[\"AWS_ACCESS_KEY_ID\"] = os.getenv(\"AWS_ACCESS_KEY_ID\") \n",
    "os.environ[\"AWS_SECRET_ACCESS_KEY\"] = os.getenv(\"AWS_SECRET_ACCESS_KEY\")\n",
    "\n",
    "\n",
    "mlflow.set_tracking_uri(f\"http://{TRACKING_SERVER_HOST}:{TRACKING_SERVER_PORT}\")\n",
    "mlflow.set_registry_uri(f\"http://{TRACKING_SERVER_HOST}:{TRACKING_SERVER_PORT}\")\n",
    "\n",
    "experiment_id = mlflow.get_experiment_by_name(EXPERIMENT_NAME).experiment_id\n",
    "\n",
    "with mlflow.start_run(run_name=RUN_NAME, experiment_id=experiment_id) as run:\n",
    "    run_id = run.info.run_id\n",
    "    \n",
    "    mlflow.log_metrics(dict1)"
   ]
  },
  {
   "cell_type": "code",
   "execution_count": 116,
   "metadata": {},
   "outputs": [],
   "source": [
    "os.environ[\"MLFLOW_S3_ENDPOINT_URL\"] = \"https://storage.yandexcloud.net\" \n",
    "os.environ[\"AWS_ACCESS_KEY_ID\"] = os.getenv(\"AWS_ACCESS_KEY_ID\") \n",
    "os.environ[\"AWS_SECRET_ACCESS_KEY\"] = os.getenv(\"AWS_SECRET_ACCESS_KEY\")\n",
    "\n",
    "\n",
    "mlflow.set_tracking_uri(f\"http://{TRACKING_SERVER_HOST}:{TRACKING_SERVER_PORT}\")\n",
    "mlflow.set_registry_uri(f\"http://{TRACKING_SERVER_HOST}:{TRACKING_SERVER_PORT}\")\n",
    "\n",
    "experiment_id = mlflow.get_experiment_by_name(EXPERIMENT_NAME).experiment_id\n",
    "\n",
    "with mlflow.start_run(run_name=RUN_NAME, experiment_id=experiment_id) as run:\n",
    "    run_id = run.info.run_id\n",
    "    \n",
    "    mlflow.log_metrics(dict2)"
   ]
  },
  {
   "cell_type": "markdown",
   "metadata": {},
   "source": [
    "## Выводы\n",
    "\n",
    "В датасете присутвует сильный дисбаланс таргета. Пользователи чаще всего просто проматривают товары и лишь в редких случая совершают целевое действие - добавляют товары в корзину. Возможно, с этим связаны низкие результаты по метрикам для полученных рекомендаций."
   ]
  },
  {
   "cell_type": "markdown",
   "metadata": {},
   "source": []
  }
 ],
 "metadata": {
  "kernelspec": {
   "display_name": ".venv_pr_final",
   "language": "python",
   "name": "python3"
  },
  "language_info": {
   "codemirror_mode": {
    "name": "ipython",
    "version": 3
   },
   "file_extension": ".py",
   "mimetype": "text/x-python",
   "name": "python",
   "nbconvert_exporter": "python",
   "pygments_lexer": "ipython3",
   "version": "3.10.12"
  }
 },
 "nbformat": 4,
 "nbformat_minor": 2
}
